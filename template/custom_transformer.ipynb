{
 "cells": [
  {
   "cell_type": "code",
   "execution_count": 4,
   "id": "3da972d2-8dbb-44e6-9a71-b8b5a72723d3",
   "metadata": {},
   "outputs": [],
   "source": [
    "# Import libraries\n",
    "import pandas as pd\n",
    "import numpy as np\n",
    "from sklearn.ensemble import RandomForestRegressor\n",
    "from sklearn.metrics import mean_absolute_error\n",
    "from sklearn.model_selection import train_test_split\n",
    "\n",
    "# Constants\n",
    "data_file_path = \"./data/home-data-for-ml-course/train.csv\"\n",
    "test_size = 0.2\n",
    "val_size = 0.2\n",
    "random_state = 0\n",
    "\n",
    "# Load data\n",
    "df = pd.read_csv(data_file_path)\n",
    "\n",
    "# Target and features\n",
    "y = df.SalePrice\n",
    "\n",
    "# All numeric without missing values\n",
    "features_no_missing = ['LotArea', 'YearBuilt', '1stFlrSF', '2ndFlrSF', 'FullBath', 'BedroomAbvGr', 'TotRmsAbvGrd']\n",
    "features = features_no_missing + ['LotFrontage','MasVnrArea','GarageYrBlt'] # numeric types with missing columns\n",
    "X = df[features]\n",
    "\n",
    "# Splitting\n",
    "train_X, test_X, train_y, test_y = train_test_split(X, y, test_size=test_size, random_state=random_state)\n",
    "train_X, val_X, train_y, val_y = train_test_split(train_X, train_y, test_size=val_size, random_state=random_state)"
   ]
  },
  {
   "cell_type": "code",
   "execution_count": 44,
   "id": "d12fa4be-754b-4f61-9c6e-cd59b11c869a",
   "metadata": {},
   "outputs": [
    {
     "name": "stdout",
     "output_type": "stream",
     "text": [
      "Shape before transformation: (934, 10)\n",
      "Columns with missing values before transformation: ['LotFrontage', 'MasVnrArea', 'GarageYrBlt']\n",
      "Shape after transformation: (934, 13)\n",
      "Columns with missing values after transformation: []\n"
     ]
    }
   ],
   "source": [
    "# Suppose we want to create a Transformer with our own custom logic.\n",
    "# Below is a transformer that imputes with the mean and creates additional columns that\n",
    "# track whether an instance has missing values.\n",
    "from sklearn.base import BaseEstimator,TransformerMixin\n",
    "from sklearn.impute import SimpleImputer\n",
    "class TrackingImputer(BaseEstimator, TransformerMixin):\n",
    "    def __init__(self):\n",
    "        pass\n",
    "    @staticmethod\n",
    "    def columns_with_missing_values(df):\n",
    "        \"\"\"Get list of columns with missing values\"\"\"\n",
    "        missing_value_counts = df.isnull().sum()\n",
    "        return list(missing_value_counts[missing_value_counts > 0].index)\n",
    "    def fit(self, X, y=None):\n",
    "        return self\n",
    "    def transform(self, X):\n",
    "        X = X.copy()\n",
    "        cm = TrackingImputer.columns_with_missing_values(X)\n",
    "        for c in cm:\n",
    "            X[c + \"_missing\"] = X[c].isnull()\n",
    "        si = SimpleImputer()\n",
    "        return pd.DataFrame(si.fit_transform(X), columns = X.columns)\n",
    "\n",
    "print(f\"Shape before transformation: {train_X.shape}\")\n",
    "print(f\"Columns with missing values before transformation: {TrackingImputer.columns_with_missing_values(train_X)}\")\n",
    "ti = TrackingImputer()\n",
    "imputed_train_X = ti.transform(train_X)\n",
    "TrackingImputer.columns_with_missing_values(imputed_train_X)\n",
    "print(f\"Shape after transformation: {imputed_train_X.shape}\")\n",
    "print(f\"Columns with missing values after transformation: {TrackingImputer.columns_with_missing_values(imputed_train_X)}\")"
   ]
  }
 ],
 "metadata": {
  "kernelspec": {
   "display_name": "Python 3 (ipykernel)",
   "language": "python",
   "name": "python3"
  },
  "language_info": {
   "codemirror_mode": {
    "name": "ipython",
    "version": 3
   },
   "file_extension": ".py",
   "mimetype": "text/x-python",
   "name": "python",
   "nbconvert_exporter": "python",
   "pygments_lexer": "ipython3",
   "version": "3.12.3"
  }
 },
 "nbformat": 4,
 "nbformat_minor": 5
}
