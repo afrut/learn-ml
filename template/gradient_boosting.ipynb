{
 "cells": [
  {
   "cell_type": "code",
   "execution_count": 21,
   "id": "6b338bf6-62ed-4bfd-8ac6-c48e3291479d",
   "metadata": {},
   "outputs": [],
   "source": [
    "# Import libraries\n",
    "import pandas as pd\n",
    "import numpy as np\n",
    "from sklearn.model_selection import train_test_split\n",
    "from sklearn import set_config\n",
    "\n",
    "# Constants\n",
    "data_file_path = \"./data/train.csv\"\n",
    "test_size = 0.2\n",
    "val_size = 0.2\n",
    "random_state = 0\n",
    "set_config(transform_output=\"pandas\")\n",
    "\n",
    "# Load data\n",
    "df = pd.read_csv(data_file_path)\n",
    "\n",
    "# Target and features\n",
    "target = \"SalePrice\"\n",
    "y = df.SalePrice\n",
    "\n",
    "# All numeric without missing values\n",
    "features = list(set(df.columns) - set([\"SalePrice\"]))\n",
    "X = df[features]\n",
    "\n",
    "# Splitting\n",
    "train_X, test_X, train_y, test_y = train_test_split(X, y, test_size=test_size, random_state=random_state)\n",
    "train_X, val_X, train_y, val_y = train_test_split(train_X, train_y, test_size=val_size, random_state=random_state)\n",
    "\n",
    "# Simplify by only dealing with numerical types\n",
    "num_cols = train_X.select_dtypes(include=[\"number\"]).columns\n",
    "train_X = train_X.loc[:, num_cols]\n",
    "val_X = val_X.loc[:, num_cols]"
   ]
  },
  {
   "cell_type": "code",
   "execution_count": 30,
   "id": "fcf8e896-a85b-4180-975e-2b04cb80c5c4",
   "metadata": {},
   "outputs": [
    {
     "name": "stdout",
     "output_type": "stream",
     "text": [
      "Mean Absolute Error: 17553.02517361111\n"
     ]
    }
   ],
   "source": [
    "from sklearn.metrics import mean_absolute_error\n",
    "from xgboost import XGBRegressor\n",
    "\n",
    "mdl = XGBRegressor(n_estimators=500,\n",
    "                   early_stopping_rounds=5,\n",
    "                   learning_rate=0.05,\n",
    "                   n_jobs=3)\n",
    "mdl.fit(train_X, train_y,\n",
    "        eval_set=[(val_X, val_y)],\n",
    "        verbose=False)\n",
    "predictions = mdl.predict(val_X)\n",
    "print(\"Mean Absolute Error: \" + str(mean_absolute_error(predictions, val_y)))"
   ]
  }
 ],
 "metadata": {
  "kernelspec": {
   "display_name": "Python 3 (ipykernel)",
   "language": "python",
   "name": "python3"
  },
  "language_info": {
   "codemirror_mode": {
    "name": "ipython",
    "version": 3
   },
   "file_extension": ".py",
   "mimetype": "text/x-python",
   "name": "python",
   "nbconvert_exporter": "python",
   "pygments_lexer": "ipython3",
   "version": "3.12.3"
  }
 },
 "nbformat": 4,
 "nbformat_minor": 5
}
