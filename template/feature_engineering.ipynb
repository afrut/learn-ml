{
 "cells": [
  {
   "cell_type": "code",
   "execution_count": 377,
   "id": "d1d4c503",
   "metadata": {},
   "outputs": [],
   "source": [
    "%pwd\n",
    "%cd template\n",
    "%pwd"
   ]
  },
  {
   "cell_type": "code",
   "execution_count": 378,
   "id": "de610960-e0b2-491f-8a45-9b7e6848f788",
   "metadata": {},
   "outputs": [],
   "source": [
    "# Import libraries\n",
    "import pandas as pd\n",
    "import numpy as np\n",
    "from sklearn.ensemble import RandomForestRegressor\n",
    "from sklearn.metrics import mean_absolute_error\n",
    "from sklearn.model_selection import train_test_split, cross_val_score\n",
    "from sklearn import set_config\n",
    "from sklearn.cluster import KMeans\n",
    "from sklearn.decomposition import PCA\n",
    "\n",
    "# Constants\n",
    "data_file_path = \"./data/home-data-for-ml-course/train.csv\"\n",
    "test_size = 0.2\n",
    "val_size = 0.2\n",
    "random_state = 0\n",
    "set_config(transform_output=\"pandas\")\n",
    "\n",
    "# Load data\n",
    "df = pd.read_csv(data_file_path)\n",
    "\n",
    "# Target and features\n",
    "target = \"SalePrice\"\n",
    "y = df.SalePrice\n",
    "\n",
    "# All numeric without missing values\n",
    "features = list(set(df.columns) - set([\"SalePrice\"]))\n",
    "X_orig = df[features]\n",
    "X = X_orig.copy()"
   ]
  },
  {
   "cell_type": "code",
   "execution_count": 379,
   "id": "ae7d956f",
   "metadata": {},
   "outputs": [],
   "source": [
    "# Numerical vs categorical features\n",
    "categorical_cols = list(X.select_dtypes(include=[\"object\"]).columns)\n",
    "numerical_cols = list(set(X.columns) - set(categorical_cols))\n",
    "area_cols = [\"LotFrontage\",\"LotArea\",\"MasVnrArea\",\"BsmtFinSF1\",\"BsmtFinSF2\",\"BsmtUnfSF\",\"TotalBsmtSF\",\"1stFlrSF\",\"2ndFlrSF\",\"GrLivArea\",\"GarageArea\",\"WoodDeckSF\",\"OpenPorchSF\",\"EnclosedPorch\",\"3SsnPorch\",\"ScreenPorch\",\"PoolArea\"]"
   ]
  },
  {
   "cell_type": "code",
   "execution_count": 380,
   "id": "75f92100-87be-42b4-8968-4a7c19f739be",
   "metadata": {},
   "outputs": [],
   "source": [
    "# Handle missing values by replacing with mean or mode\n",
    "cols_with_missing_vals = X.isnull().sum()\n",
    "cols_with_missing_vals = cols_with_missing_vals[cols_with_missing_vals > 0].index\n",
    "\n",
    "cols_with_missing_vals_categorical = list(set(categorical_cols).intersection(set(cols_with_missing_vals)))\n",
    "cols_with_missing_vals_numerical = list(set(numerical_cols).intersection(set(cols_with_missing_vals)))\n",
    "\n",
    "# Mask numerical nulls with mean\n",
    "for col in cols_with_missing_vals_numerical:\n",
    "    print(f\"Replacing nulls in {col} with mean\")\n",
    "    X[col] = X[col].mask(X[col].isnull(), X[col].mean())\n",
    "\n",
    "# Mask categorical nulls with mode\n",
    "for col in cols_with_missing_vals_categorical:\n",
    "    print(f\"Replacing nulls in {col} with mode\")\n",
    "    X[col] = X[col].mask(X[col].isnull(), X[col].mode().values[0])\n",
    "\n",
    "assert np.all(X.isnull().sum() == 0), \"Null values are still present in the data\""
   ]
  },
  {
   "cell_type": "code",
   "execution_count": 381,
   "id": "59cb7c4a",
   "metadata": {},
   "outputs": [],
   "source": [
    "# Ordinal-encode categorical variables\n",
    "# pd.options.mode.chained_assignment = None\n",
    "\n",
    "for col in categorical_cols:\n",
    "    values, index = pd.factorize(X.loc[:, col])\n",
    "    # Disable chained assignment for this line\n",
    "    X[col] = values\n",
    "\n",
    "# pd.options.mode.chained_assignment = \"warn\""
   ]
  },
  {
   "cell_type": "code",
   "execution_count": 382,
   "id": "a64c676f",
   "metadata": {},
   "outputs": [],
   "source": [
    "# Standardize all numerical features\n",
    "cols = numerical_cols\n",
    "X[cols] = (X[cols] - X[cols].mean()) / X[cols].std()"
   ]
  },
  {
   "cell_type": "markdown",
   "id": "0de6e017",
   "metadata": {},
   "source": [
    "# Feature Importance"
   ]
  },
  {
   "cell_type": "code",
   "execution_count": 383,
   "id": "082e4117",
   "metadata": {},
   "outputs": [],
   "source": [
    "# Use mutual information to select features\n",
    "from sklearn.feature_selection import mutual_info_regression\n",
    "\n",
    "# Compute mutual information scores\n",
    "mi_scores = pd.Series(\n",
    "    data=mutual_info_regression(X[numerical_cols], y, discrete_features=False),\n",
    "        index=numerical_cols)\n",
    "mi_scores = mi_scores.sort_values(ascending=False)\n",
    "mi_scores"
   ]
  },
  {
   "cell_type": "code",
   "execution_count": 370,
   "id": "f703018d",
   "metadata": {},
   "outputs": [],
   "source": [
    "# Plot mutual information scores\n",
    "import seaborn as sns\n",
    "from matplotlib import pyplot as plt\n",
    "plt.figure(figsize=(10,16))\n",
    "N = 30\n",
    "sns.barplot(x=mi_scores.values[0:N], y=mi_scores.index[0:N])"
   ]
  },
  {
   "cell_type": "markdown",
   "id": "2789bdb3",
   "metadata": {},
   "source": [
    "# Creating Features"
   ]
  },
  {
   "cell_type": "code",
   "execution_count": 371,
   "id": "a13d6572",
   "metadata": {},
   "outputs": [],
   "source": [
    "# Create some features\n",
    "# LotFrontage: Linear feet of street connected to property\n",
    "# LotArea: Lot size in square feet\n",
    "# MasVnrArea: Masonry veneer area in square feet\n",
    "# # BsmtFinSF1: Type 1 finished square feet\n",
    "# BsmtFinSF2: Type 2 finished square feet\n",
    "# BsmtUnfSF: Unfinished square feet of basement area\n",
    "# TotalBsmtSF: Total square feet of basement area\n",
    "# 1stFlrSF: First Floor square feet\n",
    "# 2ndFlrSF: Second floor square feet\n",
    "# LowQualFinSF: Low quality finished square feet (all floors)\n",
    "# GrLivArea: Above grade (ground) living area square feet\n",
    "# BsmtFullBath: Basement full bathrooms\n",
    "# BsmtHalfBath: Basement half bathrooms\n",
    "# FullBath: Full bathrooms above grade\n",
    "# HalfBath: Half baths above grade\n",
    "# Bedroom: Bedrooms above grade (does NOT include basement bedrooms)\n",
    "# Kitchen: Kitchens above grade\n",
    "# TotRmsAbvGrd: Total rooms above grade (does not include bathrooms)\n",
    "# Fireplaces: Number of fireplaces\n",
    "# GarageCars: Size of garage in car capacity\n",
    "# GarageArea: Size of garage in square feet\n",
    "# WoodDeckSF: Wood deck area in square feet\n",
    "# OpenPorchSF: Open porch area in square feet\n",
    "# EnclosedPorch: Enclosed porch area in square feet\n",
    "# 3SsnPorch: Three season porch area in square feet\n",
    "# ScreenPorch: Screen porch area in square feet\n",
    "# PoolArea: Pool area in square feet\n",
    "# MiscVal: $Value of miscellaneous feature\n",
    "cols = [\"LotArea\",\"BsmtFinSF1\",\"BsmtFinSF2\",\"BsmtUnfSF\",\"TotalBsmtSF\",\"1stFlrSF\",\"2ndFlrSF\",\"LowQualFinSF\",\"GrLivArea\",\"BsmtFullBath\",\"BsmtHalfBath\",\"FullBath\",\"HalfBath\",\"TotRmsAbvGrd\",\"Fireplaces\",\"GarageCars\",\"GarageArea\",\"WoodDeckSF\",\"OpenPorchSF\",\"EnclosedPorch\",\"3SsnPorch\",\"ScreenPorch\",\"PoolArea\",\"MiscVal\"]\n",
    "N = len(cols)\n",
    "for m in range(N):\n",
    "    for n in range(m + 1, N):\n",
    "        X[f\"{cols[m]}/{cols[n]}\"] = (X[cols[m]]/X[cols[n]]).fillna(value=0).replace(np.inf, 0)\n",
    "\n",
    "# The above transform divides one feature by another. Other possible transforms:\n",
    "# logs, counts, splitting or combining string features, a grouped feature that\n",
    "# the sample belongs to"
   ]
  },
  {
   "cell_type": "markdown",
   "id": "7aa4acb9",
   "metadata": {},
   "source": [
    "# Cluster Labels as Features"
   ]
  },
  {
   "cell_type": "code",
   "execution_count": 372,
   "id": "33434a02",
   "metadata": {},
   "outputs": [],
   "source": [
    "# Use k-means to create cluster labels and use these as a feature\n",
    "kmeans = KMeans(n_clusters=5, random_state=0, n_init=\"auto\", max_iter=300).fit(X[[\"GrLivArea\",\"TotalBsmtSF\"]])\n",
    "X[\"cluster\"] = kmeans.predict(X[[\"GrLivArea\",\"TotalBsmtSF\"]])"
   ]
  },
  {
   "cell_type": "code",
   "execution_count": 373,
   "id": "55657546",
   "metadata": {},
   "outputs": [],
   "source": [
    "# Could use the distance to cluster centroids as a feature as well\n",
    "kmeans.transform(X[[\"GrLivArea\",\"TotalBsmtSF\"]])"
   ]
  },
  {
   "cell_type": "markdown",
   "id": "5969bc70",
   "metadata": {},
   "source": [
    "# PCA for Feature Engineering"
   ]
  },
  {
   "cell_type": "code",
   "execution_count": 374,
   "id": "f910074d",
   "metadata": {},
   "outputs": [],
   "source": [
    "def plot_variance(pca, width=8, dpi=100):\n",
    "    # Create figure\n",
    "    fig, axs = plt.subplots(1, 2)\n",
    "    n = pca.n_components_\n",
    "    grid = np.arange(1, n + 1)\n",
    "    # Explained variance\n",
    "    evr = pca.explained_variance_ratio_\n",
    "    axs[0].bar(grid, evr)\n",
    "    axs[0].set(\n",
    "        xlabel=\"Component\", title=\"% Explained Variance\", ylim=(0.0, 1.0)\n",
    "    )\n",
    "    # Cumulative Variance\n",
    "    cv = np.cumsum(evr)\n",
    "    axs[1].plot(np.r_[0, grid], np.r_[0, cv], \"o-\")\n",
    "    axs[1].set(\n",
    "        xlabel=\"Component\", title=\"% Cumulative Variance\", ylim=(0.0, 1.0)\n",
    "    )\n",
    "    # Set up figure\n",
    "    fig.set(figwidth=8, dpi=100)\n",
    "    return axs"
   ]
  },
  {
   "cell_type": "code",
   "execution_count": 389,
   "id": "fca5e573",
   "metadata": {},
   "outputs": [],
   "source": [
    "# PCA basics\n",
    "# Always standardize data for PCA\n",
    "pca = PCA()\n",
    "cols = area_cols\n",
    "X_pca = pca.fit_transform(X[cols]) # the data transformed by PCA; each column is a principal component\n",
    "\n",
    "# pca.components_; each row is a principal component, each column is a feature\n",
    "df_pca_comp = pd.DataFrame(data = pca.components_,\n",
    "                           columns = cols)\n",
    "\n",
    "# pc0 represent lots with high LotFrontage and high LotArea\n",
    "# pc1 represent lots with low LotFrontage and high LotArea, eg, narrow lots\n",
    "\n",
    "# Explained variante ratio\n",
    "df_ev = pd.DataFrame(data = pca.explained_variance_ratio_,\n",
    "                     index = df_pca_comp.index,\n",
    "                     columns = [\"ev\"])\n",
    "# Each row is the fraction of variance explained by the corresponding principal component\n",
    "# pc0 explains 23.4% of the variance\n",
    "\n",
    "df_ev"
   ]
  },
  {
   "cell_type": "code",
   "execution_count": 376,
   "id": "c304844a",
   "metadata": {},
   "outputs": [],
   "source": [
    "plot_variance(pca)"
   ]
  },
  {
   "cell_type": "code",
   "execution_count": 390,
   "id": "d42b3250",
   "metadata": {},
   "outputs": [],
   "source": [
    "mi_scores = pd.Series(\n",
    "    data=mutual_info_regression(X_pca, y, discrete_features=False),\n",
    "        index=X_pca.columns)\n",
    "mi_scores = mi_scores.sort_values(ascending=False)\n",
    "mi_scores\n",
    "\n",
    "# component 0 has a high mutual information score, so it can be used as a feature as-is\n"
   ]
  },
  {
   "cell_type": "code",
   "execution_count": 396,
   "id": "4b993d50",
   "metadata": {},
   "outputs": [],
   "source": [
    "# Sort the absolute value of loadings of component 0\n",
    "# Loadings that have high absolute values can be used to create new features (products, ratios, etc.)\n",
    "df_pca_comp.loc[0,:].abs().sort_values(ascending=False)"
   ]
  },
  {
   "cell_type": "code",
   "execution_count": 397,
   "id": "a29891f3",
   "metadata": {},
   "outputs": [],
   "source": [
    "# Create a Boxen plot (sns.catplot) of the principal components to see outliers"
   ]
  },
  {
   "cell_type": "markdown",
   "id": "1e0f3cea",
   "metadata": {},
   "source": [
    "# Target Encoding\n",
    "Encode categorical variables using a number derived from the target. Known by\n",
    "other names as mean encoding, bin counting, likelihood encoding, impact\n",
    "encoding, leave-one-out encoding"
   ]
  }
 ],
 "metadata": {
  "kernelspec": {
   "display_name": "Python 3 (ipykernel)",
   "language": "python",
   "name": "python3"
  }
 },
 "nbformat": 4,
 "nbformat_minor": 5
}
