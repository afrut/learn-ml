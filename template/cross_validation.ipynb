{
 "cells": [
  {
   "cell_type": "code",
   "execution_count": 4,
   "id": "5edc9bf9-b620-444e-898d-d17964be2d74",
   "metadata": {},
   "outputs": [],
   "source": [
    "# Import libraries\n",
    "import pandas as pd\n",
    "import numpy as np\n",
    "from sklearn.ensemble import RandomForestRegressor\n",
    "from sklearn.metrics import mean_absolute_error\n",
    "from sklearn.model_selection import train_test_split, cross_val_score\n",
    "from sklearn import set_config\n",
    "\n",
    "# Constants\n",
    "data_file_path = \"./data/train.csv\"\n",
    "test_size = 0.2\n",
    "val_size = 0.2\n",
    "random_state = 0\n",
    "set_config(transform_output=\"pandas\")\n",
    "\n",
    "# Load data\n",
    "df = pd.read_csv(data_file_path)\n",
    "\n",
    "# Target and features\n",
    "target = \"SalePrice\"\n",
    "y = df.SalePrice\n",
    "\n",
    "# All numeric without missing values\n",
    "features = list(set(df.columns) - set([\"SalePrice\"]))\n",
    "X = df[features]\n",
    "\n",
    "# Splitting\n",
    "train_X, test_X, train_y, test_y = train_test_split(X, y, test_size=test_size, random_state=random_state)"
   ]
  },
  {
   "cell_type": "code",
   "execution_count": 21,
   "id": "4d5c057b-c1ea-40e2-8742-a47b826a33aa",
   "metadata": {},
   "outputs": [
    {
     "name": "stdout",
     "output_type": "stream",
     "text": [
      "MAE scores [18603.03       21617.10529412 18098.07828877 20684.21128342\n",
      " 16575.40209677]\n"
     ]
    }
   ],
   "source": [
    "from sklearn.pipeline import Pipeline\n",
    "from sklearn.impute import SimpleImputer\n",
    "from sklearn.preprocessing import StandardScaler\n",
    "from sklearn.model_selection import cross_val_score\n",
    "\n",
    "num_cols = list(train_X.select_dtypes(include=[\"number\"]).columns)\n",
    "\n",
    "# Use only numeric columns\n",
    "train_X = train_X.loc[:, num_cols]\n",
    "\n",
    "p = Pipeline(steps=[\n",
    "    (\"impute_mean\", SimpleImputer()),\n",
    "    (\"standard_scale\", StandardScaler()),\n",
    "    (\"model\", RandomForestRegressor(random_state=0))\n",
    "])\n",
    "\n",
    "# Multiply by -1 since sklearn calculates *negative* MAE\n",
    "scores = -1 * cross_val_score(p, train_X, train_y,\n",
    "                              cv=5,\n",
    "                              scoring='neg_mean_absolute_error')\n",
    "\n",
    "print(\"MAE scores\", scores)"
   ]
  }
 ],
 "metadata": {
  "kernelspec": {
   "display_name": "Python 3 (ipykernel)",
   "language": "python",
   "name": "python3"
  },
  "language_info": {
   "codemirror_mode": {
    "name": "ipython",
    "version": 3
   },
   "file_extension": ".py",
   "mimetype": "text/x-python",
   "name": "python",
   "nbconvert_exporter": "python",
   "pygments_lexer": "ipython3",
   "version": "3.12.3"
  }
 },
 "nbformat": 4,
 "nbformat_minor": 5
}
