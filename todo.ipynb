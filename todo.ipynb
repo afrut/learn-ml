{
 "cells": [
  {
   "cell_type": "markdown",
   "id": "0ee68b56-de65-40f9-a829-a33b68b11442",
   "metadata": {},
   "source": [
    "$x^{T}Ax$ as it relates to definiteness (positive, semi-positive, etc)\n",
    "\n",
    "Singular Value Decomposition (SVD)\n",
    "\n",
    "https://www.youtube.com/@JonKrohnLearns/videos\n",
    "\n",
    "https://github.com/jonkrohn/ML-foundations\n",
    "\n",
    "principal component analysis and dimension reduction (https://www.youtube.com/watch?v=HMOI_lkzW08&t=27s&pp=ygUdcHJpbmNpcGFsIGNvbXBvbmVudHMgYW5hbHlzaXM%3D)\n",
    "\n",
    "https://www.youtube.com/playlist?list=PLvcbYUQ5t0UH2MS_B6maLNJhK0jNyPJUY"
   ]
  }
 ],
 "metadata": {
  "kernelspec": {
   "display_name": "Python 3 (ipykernel)",
   "language": "python",
   "name": "python3"
  },
  "language_info": {
   "codemirror_mode": {
    "name": "ipython",
    "version": 3
   },
   "file_extension": ".py",
   "mimetype": "text/x-python",
   "name": "python",
   "nbconvert_exporter": "python",
   "pygments_lexer": "ipython3",
   "version": "3.12.3"
  }
 },
 "nbformat": 4,
 "nbformat_minor": 5
}
