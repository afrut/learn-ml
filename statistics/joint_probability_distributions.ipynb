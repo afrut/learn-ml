{
 "cells": [
  {
   "cell_type": "markdown",
   "metadata": {},
   "source": [
    "This notebook aims to be an informal reference for joint probability distributions aimed at engineers. All content here is taken from Montgomery and Runger - Applied Statistics and Probability for Engineers 7ed."
   ]
  },
  {
   "cell_type": "markdown",
   "metadata": {},
   "source": [
    "<h1>Joint Probability Distributions</h1>\n",
    "\n",
    "<b>Joint probability distributions</b> can be thought of as a function that gives the probability of encountering different values of two random variables together. For two random continuous variables, their <b>joint probability density function</b>  (joint pdf) $f_{XY}(x, y)$ is a surface; the x and y-axes are different values of the random variables; the z-axis is the probability of encountering the specific $(X=x, Y=y)$ pair.<br>\n",
    "\n",
    "Joint pdf's have the following properties owing to the basic properties of probabilities:<br>\n",
    "\n",
    "The probability of any combination of x and y values $(X=x, Y=y)$ must be non-negative:<br><br>\n",
    "<center><font size=\"4\">\n",
    "$$f_{XY}(x, y) \\ge 0$$\n",
    "</font></center><br>\n",
    "\n",
    "The sum of all probabilities in the applicable range must be 1:<br><br>\n",
    "<center><font size=\"4\">\n",
    "$$\\int_{-\\infty}^{+\\infty}{\\int_{-\\infty}^{+\\infty}{f_{XY}(x, y)\\mathrm{d}x\\mathrm{d}y}}=1$$\n",
    "</font></center><br>\n",
    "\n",
    "Combinations of $(x, y)$ value pairs are represented by a region in the x-y plane. The region is defined by an interval of X and an interval of Y. When double-integrating, <b>try to always integrate the variable with largest interval first</b>. This prevents accidentally including regions of the x-y plane that are not desired. Failing that, split up the integral based on different regions of the x-y plane.\n",
    "<center><font size=\"4\">\n",
    "$$P((X,Y)\\in R)=\\int{\\int_{R}{f_{XY}(x, y)\\mathrm{d}x\\mathrm{d}y}}$$\n",
    "</font></center><br>"
   ]
  },
  {
   "cell_type": "markdown",
   "metadata": {},
   "source": [
    "The <b>marginal probability density function</b> of X can be obtained from the joint pdf of X and Y by integrating Y out over the relevant region R. This yields the pdf of X. A similar process can be used to obtain the marginal pdf of Y.<br>\n",
    "<center><font size=\"4\">\n",
    "$$f_X(x)=\\int_{R}{f_{XY}(x, y)\\mathrm{d}y}$$<br>\n",
    "$$f_Y(y)=\\int_{R}{f_{XY}(x, y)\\mathrm{d}x}$$\n",
    "</font></center><br>"
   ]
  },
  {
   "cell_type": "markdown",
   "metadata": {},
   "source": [
    "The <b>mean</b> and <b>variance</b> of a random variable $X$ from a joint pdf can be expressed with its marginal pdf and the expectation operator:<br>\n",
    "<center><font size=\"4\">\n",
    "$$E(x)=\\int_{-\\infty}^{+\\infty}{xf_X(x)\\mathrm{d}x}=\\int_{-\\infty}^{+\\infty}{\\int_{-\\infty}^{+\\infty}{xf_{XY}(x, y)\\mathrm{d}x\\mathrm{d}y}}$$<br>\n",
    "$$V(x)=\\int_{-\\infty}^{+\\infty}{(x-\\mu)^2f_X(x)\\mathrm{d}x}=\\int_{-\\infty}^{+\\infty}{\\int_{-\\infty}^{+\\infty}{(x-\\mu)^2f_{XY}(x, y)\\mathrm{d}x\\mathrm{d}y}}$$<br>\n",
    "</font></center>"
   ]
  },
  {
   "cell_type": "markdown",
   "metadata": {},
   "source": [
    "<h1>Covariance and Correlation</h1>\n",
    "\n",
    "The <b>covariance</b> between two random variables X and Y is a measure of their <b>linear</b> relationship. The <b>correlation</b> scales the covariance by the standard deviation of each variable. Two random variables are said to be correlated when their correlation is non-zero.<br>\n",
    "\n",
    "The covariance between two random variables $\\sigma_{XY}$ is defined mathematically as:<br><br>\n",
    "<center><font size=\"4\">\n",
    "$$\\sigma_{XY}=E[(X-\\mu_X)(Y-\\mu_Y)]=E(XY)-\\mu_X\\mu_Y$$\n",
    "</font></center><br>\n",
    "\n",
    "The correlation between two random variables $\\rho_{XY}$ is defined mathematically as:<br><br>\n",
    "<center><font size=\"4\">\n",
    "$$\\rho_{XY}=\\frac{\\sigma_{XY}}{\\sigma_X \\sigma_Y}$$<br>\n",
    "$$-1 \\le \\rho_{XY} \\le +1$$\n",
    "</font></center><br>\n",
    "\n",
    "The covariance and correlation of two independent variables is 0. But, two variables whose covariance and correlation are zero are <b>not necessarily independent</b>.<br>\n",
    "<center><font size=\"4\">\n",
    "$$\\sigma_{XY}=\\rho_{XY}=0$$\n",
    "</font></center>"
   ]
  },
  {
   "cell_type": "markdown",
   "metadata": {},
   "source": [
    "<h1>Linear Functions of Random Variables</h1>\n",
    "\n",
    "This section details how to calculate the mean and variance of a random variable $Y$ that is a linear function of random variables $X_i$:<br><br>\n",
    "<font size=\"4\">\n",
    "    $$Y = c_0 + c_1X_1 + c_2X_2 + \\ldots + c_iX_i$$\n",
    "</font>\n",
    "\n",
    "The <b>mean</b> and <b>variance</b> of $Y$ can be expressed in terms of the mean and variance of the individual random variables $X_i$:<br><br>\n",
    "<font size=\"4\">\n",
    "    $$E(Y) = c_0 + c_1E(X_1) + c_2E(X_2) + \\ldots + c_iE(X_i)$$<br>\n",
    "    $$V(Y) = c_1^2V(X_1) + c_2^2V(X_2) + \\ldots + c_i^2V(X_i) + 2 \\sum_{a<b}{\\sum{c_ac_b\\mathrm{cov}(X_a, X_b)}}$$\n",
    "</font>\n",
    "\n",
    "If all $X_i$ are independent, the variance of $Y$ can be simplified to:<br><br>\n",
    "<font size=\"4\">\n",
    "    $$V(Y) = c_1^2V(X_1) + c_2^2V(X_2) + \\ldots + c_i^2V(X_i)$$\n",
    "</font>"
   ]
  },
  {
   "cell_type": "markdown",
   "metadata": {},
   "source": [
    "<h2>Mean and Variance of an Average</h2>\n",
    "\n",
    "Sometimes, multiple samples of $X$ can be taken from a pool where $E(X)=\\mu$ and $V(X)=\\sigma^2$. The sample averages $\\overline{X}$ can be calculated as in:<br><br>\n",
    "<font size=\"4\">\n",
    "    $$S_1=\\{x_1, x_2, x_3, \\ldots, x_i\\} \\;\\;\\;\\; \\overline{X}_1=\\frac{1}{i}\\sum_1^i{x_i}$$<br>\n",
    "    $$S_2=\\{x_1, x_2, x_3, \\ldots, x_i\\} \\;\\;\\;\\; \\overline{X}_2=\\frac{1}{i}\\sum_1^i{x_i}$$<br>\n",
    "    $$S_3=\\{x_1, x_2, x_3, \\ldots, x_i\\} \\;\\;\\;\\; \\overline{X}_3=\\frac{1}{i}\\sum_1^i{x_i}$$<br>\n",
    "    $$S_p=\\{x_1, x_2, x_3, \\ldots, x_i\\} \\;\\;\\;\\; \\overline{X}_p=\\frac{1}{i}\\sum_1^i{x_i}$$<br>\n",
    "</font><br>\n",
    "\n",
    "The mean and variance of all $\\overline{X}_p$ is:\n",
    "<font size=\"4\">\n",
    "    $$E(\\overline{X}_p)=\\mu$$<br>\n",
    "    $$V(\\overline{X}_p)=\\frac{\\sigma^2}{p}$$<br>\n",
    "</font><br>"
   ]
  }
 ],
 "metadata": {
  "kernelspec": {
   "display_name": "Python 3",
   "language": "python",
   "name": "python3"
  },
  "language_info": {
   "codemirror_mode": {
    "name": "ipython",
    "version": 3
   },
   "file_extension": ".py",
   "mimetype": "text/x-python",
   "name": "python",
   "nbconvert_exporter": "python",
   "pygments_lexer": "ipython3",
   "version": "3.8.5"
  }
 },
 "nbformat": 4,
 "nbformat_minor": 4
}
