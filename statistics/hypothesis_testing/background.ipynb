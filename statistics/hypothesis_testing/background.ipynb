{
 "cells": [
  {
   "cell_type": "markdown",
   "id": "19aab2d8-6907-46b7-bb15-c230fd6930fe",
   "metadata": {},
   "source": [
    "**Hypothesis testing** involves making statements about population parameters $\\theta$. These statements are called hypotheses. In many instances, a sample will be drawn from a population and the data within the sample will be used to make statements about the population. Just as in constructing confidence intervals for estimation, hypothesis testing uses the concepts and properties of sampling distributions to make statements about population parameters with certain degrees of probability. Similar to confidence intervals, these probabilities are represented by the chosen <b>significance level</b> $\\alpha$."
   ]
  },
  {
   "cell_type": "markdown",
   "id": "3af0890a-d243-42f5-b1bc-53dc17298b60",
   "metadata": {},
   "source": [
    "The questions hypothesis testing tries to answer are usually of the form, \"Is the mean of the population not equal to a certain value?\" or, \"Is the mean of the population greater or less than a certain value?\". This context is expressed through a null hypothesis $H_0$ and an alternative hypothesis $H_1$. The <b>null hypothesis</b> $H_0$ is usually an equality - that the population parameter is equal to some value $\\theta_0$. It represents the status quo that needs evidence to disprove. In the case that the parameter in question is the population mean:<br><br>\n",
    "<font size = \"4\">\n",
    "    $$H_0: \\mu = \\mu_0$$\n",
    "</font>"
   ]
  },
  {
   "cell_type": "markdown",
   "id": "4a5c3e63-3068-4350-b812-d581b9070868",
   "metadata": {},
   "source": [
    "The <b>alternative hypothesis</b> can either be:\n",
    "<ul>\n",
    "    <li>One-sided, lower-bound - The value of the population parameter is greater than some value $\\mu_0$:</li><br>\n",
    "    <font size = \"4\">\n",
    "        $$H_1: \\mu > \\mu_0$$\n",
    "    </font><br>\n",
    "    <li>One-sided, upper-bound - The value of the population parameter is less than some value $\\theta_0$</li><br>\n",
    "    <font size = \"4\">\n",
    "        $$H_1: \\mu < \\mu_0$$\n",
    "    </font><br>\n",
    "    <li>Two-sided - The Value of the population parameter is not equal to some value $\\theta_0$</li><br>\n",
    "    <font size = \"4\">\n",
    "        $$H_1: \\mu \\ne \\mu_0$$\n",
    "    </font>\n",
    "</ul>\n",
    "\n",
    "The alternative hypothesis is accepted over the null hypothesis if there is evidence from sample data to reject the null hypothesis."
   ]
  }
 ],
 "metadata": {
  "kernelspec": {
   "display_name": "Python 3 (ipykernel)",
   "language": "python",
   "name": "python3"
  },
  "language_info": {
   "codemirror_mode": {
    "name": "ipython",
    "version": 3
   },
   "file_extension": ".py",
   "mimetype": "text/x-python",
   "name": "python",
   "nbconvert_exporter": "python",
   "pygments_lexer": "ipython3",
   "version": "3.12.3"
  }
 },
 "nbformat": 4,
 "nbformat_minor": 5
}
