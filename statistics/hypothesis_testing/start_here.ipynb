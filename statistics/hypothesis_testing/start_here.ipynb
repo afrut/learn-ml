{
 "cells": [
  {
   "cell_type": "markdown",
   "id": "cbe3dff7-f2f9-4728-9e09-74f26ae44140",
   "metadata": {},
   "source": [
    "- [Background](./background.ipynb)\n",
    "- [P-values](./pvalues.ipynb)\n",
    "- Mean of a Normal Distribution\n",
    "  - [Known Variance](./mean_normal_known_variance.ipynb)\n",
    "  - [Unknown Variance](./mean_normal_unknown_variance.ipynb)\n",
    "- Difference in Means of Two Normal Distributions\n",
    "  - [Unknown Variance](./difference_in_means_normal_unknown_variance.ipynb)\n",
    "- TODO\n",
    "  - [Proportion of a Population](./proportion_of_population.ipynb)"
   ]
  }
 ],
 "metadata": {
  "kernelspec": {
   "display_name": "Python 3 (ipykernel)",
   "language": "python",
   "name": "python3"
  },
  "language_info": {
   "codemirror_mode": {
    "name": "ipython",
    "version": 3
   },
   "file_extension": ".py",
   "mimetype": "text/x-python",
   "name": "python",
   "nbconvert_exporter": "python",
   "pygments_lexer": "ipython3",
   "version": "3.12.3"
  }
 },
 "nbformat": 4,
 "nbformat_minor": 5
}
