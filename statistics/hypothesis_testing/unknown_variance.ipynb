{
 "cells": [
  {
   "cell_type": "markdown",
   "id": "8f66b0b7-19df-40f5-9099-7cf34d8a9e2a",
   "metadata": {},
   "source": [
    "# Procedure for an Unknown Variance"
   ]
  },
  {
   "cell_type": "markdown",
   "id": "356e9a38-35a0-42ae-bb6e-9a895d81a85a",
   "metadata": {},
   "source": [
    "<ul>\n",
    "    <li>State the null and alternative hypotheses.</li>\n",
    "    <font size = \"4\">\n",
    "        $$H_0: \\mu = \\mu_0$$<br>\n",
    "        $$H_1: \\mu \\ne \\mu_0$$\n",
    "    </font><br>\n",
    "    <li>Specify a significance level $\\alpha$. A commonly-used value is $\\alpha=0.05$.</li>\n",
    "    <li>Draw a sample of size $n$.</li>\n",
    "    <li>Calculate the sample mean $\\overline{x}.$</li>\n",
    "    <li>Calculate the sample standard deviation $s$ with $n - 1$ degrees of freedom.</li>\n",
    "    <li>Since the population standard deviation $\\sigma$ is unknown, we need to use the $T$ statistic. Recall that if we keep drawing samples from the population and calculating different values of $T$, we will find that the probability distribution of $T$ follows Student's t distribution.</li><br>\n",
    "    <font size=\"4\">\n",
    "        $$T=\\frac{\\overline{X}-\\mu_0}{\\frac{s}{\\sqrt{n}}}$$\n",
    "    </font><br>\n",
    "</ul>"
   ]
  },
  {
   "cell_type": "markdown",
   "id": "4ed49797-ccdb-4b6e-8fa9-c7adf0e69f87",
   "metadata": {},
   "source": [
    "<ul>\n",
    "    <li>Using the $t$ distribution, calculate values of $T$ that define the acceptance and rejection regions:</li>\n",
    "    <ul>\n",
    "        <li>If the hypothesis test is two-sided, using $n - 1$ degrees of freedom, calculate $t_{lo}$ and $t_{hi}$ such that:</li><br>\n",
    "        <font size = \"4\">\n",
    "            \\begin{align}\n",
    "            t_{lo} &= \\mathrm{ppf}\\left( \\frac{\\alpha}{2} \\right); P(T \\le t_{lo}) = \\frac{\\alpha}{2}\\\\\\\\\n",
    "            t_{hi} &= \\mathrm{ppf}\\left( 1 - \\frac{\\alpha}{2} \\right); P(T \\ge t_{hi}) = \\frac{\\alpha}{2}\n",
    "            \\end{align}\n",
    "        </font><br>\n",
    "        <li>If the hypothesis test is one-sided and lower-bound, using $n - 1$ degrees of freedom, calculate $t_{lo}$ such that:</li><br>\n",
    "        <font size = \"4\">\n",
    "            \\begin{align}\n",
    "            t_{lo} &= \\mathrm{ppf}\\left( \\alpha \\right); P(T \\le t_{lo}) = \\alpha\n",
    "            \\end{align}\n",
    "        </font><br>\n",
    "        <li>If the hypothesis test is one-sided and upper-bound, using $n - 1$ degrees of freedom, calculate $t_{hi}$ such that:</li><br>\n",
    "        <font size = \"4\">\n",
    "            \\begin{align}\n",
    "            t_{hi} &= \\mathrm{ppf}\\left( 1 - \\alpha \\right); P(T \\ge t_{hi}) = \\alpha\n",
    "            \\end{align}\n",
    "        </font><br>\n",
    "    </ul>\n",
    "</ul>"
   ]
  },
  {
   "cell_type": "markdown",
   "id": "c2f2b4ae-034b-4cf8-a52e-0fa31f070145",
   "metadata": {},
   "source": [
    "<ul>\n",
    "    <li>Using the null value $\\mu_0$, $t_{lo}$, and $t_{hi}$, calculate the critical values $x_{lo}$ and $x_{hi}$.</li><br>\n",
    "    <font size = \"4\">\n",
    "        \\begin{align}\n",
    "        x_{lo} &= \\mu_0 + t_{lo} \\frac{s}{\\sqrt{n}}\\\\\\\\\n",
    "        x_{hi} &= \\mu_0 + t_{hi} \\frac{s}{\\sqrt{n}} \n",
    "        \\end{align}\n",
    "    </font><br>\n",
    "    <li>The critical values define the acceptance and rejection regions. Evaluate whether the sample mean $\\overline{x}$ is in the acceptance or rejection region. Accept or reject the null hypothesis appropriately.</li>\n",
    "</ul>"
   ]
  }
 ],
 "metadata": {
  "kernelspec": {
   "display_name": "Python 3 (ipykernel)",
   "language": "python",
   "name": "python3"
  },
  "language_info": {
   "codemirror_mode": {
    "name": "ipython",
    "version": 3
   },
   "file_extension": ".py",
   "mimetype": "text/x-python",
   "name": "python",
   "nbconvert_exporter": "python",
   "pygments_lexer": "ipython3",
   "version": "3.12.3"
  }
 },
 "nbformat": 4,
 "nbformat_minor": 5
}
