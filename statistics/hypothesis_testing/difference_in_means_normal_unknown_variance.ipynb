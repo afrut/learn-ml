{
 "cells": [
  {
   "cell_type": "markdown",
   "id": "0b328536-34c9-4ce3-a46b-86970fe1b3ac",
   "metadata": {},
   "source": [
    "# Procedure for an Unknown Variance"
   ]
  },
  {
   "cell_type": "markdown",
   "id": "f82d328c-3309-4041-aff2-61eae1344aea",
   "metadata": {},
   "source": [
    "<ul>\n",
    "    <li>State the null and alternative hypotheses.</li>\n",
    "    <ul>\n",
    "        <li>To check if 2 means are different, set $\\Delta_0 = 0$.</li>\n",
    "    </ul>\n",
    "    <font size = \"4\">\n",
    "        $$H_0: \\mu_{1} - \\mu_{2} = \\Delta_0$$\n",
    "        $$H_1: \\mu_{1} - \\mu_{2} \\ne \\Delta_0$$\n",
    "    </font>\n",
    "    <li>Specify a significance level $\\alpha$. A commonly-used value is $\\alpha=0.05$.</li>\n",
    "    <li>Draw 2 samples one of size $n_{1}$, the other of size $n_{2}$.</li>\n",
    "    <li>Calculate the sample means $\\overline{x_{1}}$ and $\\overline{x_{2}}$.</li>\n",
    "    <li>Calculate the sample standard deviations $s_{x1}$ and $s_{x2}$.</li>\n",
    "</ul>"
   ]
  },
  {
   "cell_type": "markdown",
   "id": "b7aecc3a-7997-4d88-86cb-54066709c5a8",
   "metadata": {},
   "source": [
    "<ul>\n",
    "    <li>Pick one of the cases.</li>\n",
    "    <ul>\n",
    "        <li>Case 1: Unknown population variances are equal, $\\sigma_{1} = \\sigma_{2} = \\sigma$. Compute the pooled variance $S_{p}^{2}$, degrees of freedom $v$, and corresponding t-statistic $t$. The results of this test are very sensitive to the assumption being correct. This is known as the <b>pooled t-test</b>. </li>\n",
    "        <font size=\"4\">\n",
    "        \\begin{align}\n",
    "            S_{p}^{2} &= \\frac{\\left( n_{1} - 1 \\right)s_{x1}^{2} + \\left( n_{2} - 1 \\right)s_{x2}^{2}}{n_{1} + n_{2} - 2} \\\\\n",
    "            v &= n_{1} + n_{2} - 2 \\\\\n",
    "            t &= \\frac{\\overline{x_{1}} - \\overline{x_{2}} - \\Delta_{0}}{S_{p} \\sqrt{\\frac{1}{n_{1}} + \\frac{1}{n_{2}}}}\n",
    "        \\end{align}\n",
    "        </font>\n",
    "        <li>Case 2: Unknown population variances are not equal, $\\sigma_{1} \\ne \\sigma{2}$. Use the following t statistic $t$ and degrees of freedom $v$. This is known as the two-sample t-test.</li>\n",
    "        <font size=\"4\">\n",
    "        \\begin{align}\n",
    "            v &= \\frac {\\left( \\frac{s_{x1}^{2}}{n_{1}} + \\frac{s_{x2}^{2}}{n_{2}} \\right)^{2}}\n",
    "                       {\\frac{\\left( \\frac{s_{x1}^{2}}{n_{1}} \\right)^{2}}{n_{1} - 1} + \\frac{\\left( \\frac{s_{x2}^{2}}{n_{2}} \\right)^{2}}{n_{2} - 1}}\\\\\n",
    "            t &= \\frac{\\overline{x_{1}} - \\overline{x_{2}} - \\Delta_{0}}{\\sqrt{\\frac{s_{x1}^{2}}{n_{1}} + \\frac{s_{x2}^{2}}{n_{2}}}}\n",
    "        \\end{align}\n",
    "        </font>\n",
    "    </ul>\n",
    "</ul>"
   ]
  },
  {
   "cell_type": "markdown",
   "id": "81ce62a3-0056-4a2f-b712-d1abb01b1c26",
   "metadata": {},
   "source": [
    "<ul>\n",
    "    <li>Using the $t$ distribution, calculate values of the t-statistic $t$ that define the acceptance and rejection regions:</li>\n",
    "    <ul>\n",
    "        <li>If the hypothesis test is two-sided, using $v$ degrees of freedom, calculate $t_{lo}$ and $t_{hi}$ such that:</li><br>\n",
    "        <font size = \"4\">\n",
    "            \\begin{align}\n",
    "            t_{lo} &= \\mathrm{ppf}\\left( \\frac{\\alpha}{2}, v \\right); P(t \\le t_{lo}) = \\frac{\\alpha}{2}\\\\\\\\\n",
    "            t_{hi} &= \\mathrm{ppf}\\left( 1 - \\frac{\\alpha}{2}, v \\right); P(t \\ge t_{hi}) = \\frac{\\alpha}{2}\n",
    "            \\end{align}\n",
    "        </font><br>\n",
    "        <li>If the hypothesis test is one-sided and lower-bound, using $v$ degrees of freedom, calculate $t_{lo}$ such that:</li><br>\n",
    "        <font size = \"4\">\n",
    "            \\begin{align}\n",
    "            t_{lo} &= \\mathrm{ppf}\\left( \\alpha, v \\right); P(t \\le t_{lo}) = \\alpha\n",
    "            \\end{align}\n",
    "        </font><br>\n",
    "        <li>If the hypothesis test is one-sided and upper-bound, using $v$ degrees of freedom, calculate $t_{hi}$ such that:</li><br>\n",
    "        <font size = \"4\">\n",
    "            \\begin{align}\n",
    "            t_{hi} &= \\mathrm{ppf}\\left( 1 - \\alpha, v \\right); P(t \\ge t_{hi}) = \\alpha\n",
    "            \\end{align}\n",
    "        </font><br>\n",
    "    </ul>\n",
    "</ul>"
   ]
  },
  {
   "cell_type": "markdown",
   "id": "0852d86e-72d0-4ffc-8c99-56e3ac0d31c7",
   "metadata": {},
   "source": [
    "<ul>\n",
    "    <li>The critical values $t_{lo}$ and $t_{hi}$ define the acceptance and rejection regions.</li>\n",
    "    <ul>\n",
    "        <li>If the hypothesis test is two-sided, fail to reject $H_0$ if $t_{lo} \\le t \\le t_{hi}$. Otherwise, reject $H_0$.</li>\n",
    "        <li>If the hypothesis test is lower bound, fail to reject $H_0$ if $t \\ge t_{lo}$. Otherwise, reject $H_0$.</li>\n",
    "        <li>If the hypothesis test is upper bound, fail to reject $H_0$ if $t \\le t_{hi}$. Otherwise, reject $H_0$.</li>\n",
    "    </ul>\n",
    "</ul>"
   ]
  },
  {
   "cell_type": "markdown",
   "id": "1187ae8f-9876-440f-9d92-5ec012905ce2",
   "metadata": {},
   "source": [
    "# In Practice"
   ]
  },
  {
   "cell_type": "markdown",
   "id": "9561a7e3-dfaf-497d-af0e-6339a5ea4cd5",
   "metadata": {
    "jp-MarkdownHeadingCollapsed": true
   },
   "source": [
    "## Case 1: Equal Population Variance $\\sigma_{1} = \\sigma_{2} = \\sigma$"
   ]
  },
  {
   "cell_type": "code",
   "execution_count": 61,
   "id": "fd81e793-5833-4022-b494-ae938675c004",
   "metadata": {},
   "outputs": [],
   "source": [
    "import numpy as np\n",
    "import plots\n",
    "import pandas as pd\n",
    "import math\n",
    "import scipy.stats as stats\n",
    "import matplotlib.pyplot as plt\n",
    "import hypothesis_testing as ht\n",
    "from statsmodels.stats.weightstats import DescrStatsW, CompareMeans"
   ]
  },
  {
   "cell_type": "code",
   "execution_count": 22,
   "id": "e5561926-1f93-4222-989b-8a68f70726cd",
   "metadata": {},
   "outputs": [],
   "source": [
    "figsize=(8, 8/1.6)"
   ]
  },
  {
   "cell_type": "code",
   "execution_count": 46,
   "id": "181da5c9-7b02-4ff2-9ef1-6611ce8ceab1",
   "metadata": {},
   "outputs": [
    {
     "name": "stdout",
     "output_type": "stream",
     "text": [
      "(3.0, 2.73)\n",
      "(0.5, 0.5)\n"
     ]
    },
    {
     "data": {
      "image/png": "[encoded data removed]",
      "text/plain": [
       "<Figure size 800x500 with 2 Axes>"
      ]
     },
     "metadata": {},
     "output_type": "display_data"
    }
   ],
   "source": [
    "# Generate the populations\n",
    "N = int(1e6)\n",
    "sigma = 0.5\n",
    "populations = tuple([np.random.normal(loc=3, scale=sigma, size=N), np.random.normal(loc=2.73, scale=sigma, size=N)])\n",
    "n_pops = len(populations)\n",
    "df_pops = tuple([pd.DataFrame(data=pop, columns=[\"value\"]) for pop in populations])\n",
    "mus = tuple([np.mean(pop) for pop in populations])\n",
    "sigmas = tuple([np.std(pop) for pop in populations])\n",
    "print(tuple([round(i, 2) for i in mus]))\n",
    "print(tuple([round(i, 2) for i in sigmas]))\n",
    "\n",
    "bins = tuple([np.arange(*tpl) for tpl in [(1, 5, 0.2), (0.4,5,0.2)]])\n",
    "fig = plt.figure(figsize=figsize)\n",
    "for i in range(len(populations)):\n",
    "    ax = fig.add_subplot(2, 1, i + 1)\n",
    "    _, _ = plots.histogram(df=df_pops[i], bins=bins[i], title=f\"Population {i}\", xlabel=[\"Values\"], ylabel=[\"Count\"], fig=fig, ax=ax)"
   ]
  },
  {
   "cell_type": "code",
   "execution_count": 49,
   "id": "f57ee149-03da-4b83-a84e-61bfec0795ae",
   "metadata": {},
   "outputs": [
    {
     "name": "stdout",
     "output_type": "stream",
     "text": [
      "(3.01, 2.74)\n",
      "(0.61, 0.52)\n"
     ]
    }
   ],
   "source": [
    "# Draw 2 samples\n",
    "n = (50, 36)\n",
    "x = tuple([np.random.choice(populations[i], size=n[i]) for i in range(n_pops)])\n",
    "x_bar = tuple([np.mean(x[i]) for i in range(n_pops)])\n",
    "s_x = tuple([np.std(x[i], ddof=1) for i in range(n_pops)])\n",
    "print(tuple([round(i, 2) for i in x_bar]))\n",
    "print(tuple([round(i, 2) for i in s_x]))"
   ]
  },
  {
   "cell_type": "code",
   "execution_count": 51,
   "id": "e7d01c0f-8765-4305-b016-1ecc48550f1b",
   "metadata": {},
   "outputs": [],
   "source": [
    "# Compute pooled variance, degrees of freedom, and t-statistic\n",
    "delta_0 = 0 # The null value for the null hypothesis. Corresponds to mu_1 - mu_2 =/>/< 0\n",
    "sp = math.sqrt(\n",
    "    (((n[0] - 1) * s_x[0]**2) + ((n[1] - 1) * s_x[1]**2)) / \\\n",
    "    (n[0] + n[1] - 2)\n",
    ") # pooled standard deviation\n",
    "v = n[0] + n[1] - 2 # degrees of freedom\n",
    "t = (x_bar[0] - x_bar[1] - delta_0) / \\\n",
    "    (sp * math.sqrt((1/n[0]) + (1/n[1])))"
   ]
  },
  {
   "cell_type": "markdown",
   "id": "11638bf4-e998-4235-bf3a-c90749f5e3cf",
   "metadata": {
    "jp-MarkdownHeadingCollapsed": true
   },
   "source": [
    "### Two-sided Test"
   ]
  },
  {
   "cell_type": "code",
   "execution_count": 53,
   "id": "f25d07cd-1f16-4663-970f-16a9bc0b76c9",
   "metadata": {},
   "outputs": [],
   "source": [
    "# H0: mu_1 - mu_2 = 0\n",
    "# H1: mu_1 - mu_2 != 0\n",
    "alpha = 0.05 # significance level"
   ]
  },
  {
   "cell_type": "code",
   "execution_count": 55,
   "id": "ba2dca68-5f71-4aa4-b168-8afba8382de6",
   "metadata": {},
   "outputs": [],
   "source": [
    "# Define the acceptance region, the region where the null hypothesis will not be rejected\n",
    "t_lo = stats.t.ppf(alpha / 2, df=v)\n",
    "t_hi = stats.t.ppf(1 - (alpha / 2), df=v)"
   ]
  },
  {
   "cell_type": "code",
   "execution_count": 58,
   "id": "a05ac393-2c57-4271-8158-a80460cceff5",
   "metadata": {},
   "outputs": [
    {
     "name": "stdout",
     "output_type": "stream",
     "text": [
      "-1.9886096669757092 2.223429325386152 1.9886096669757087\n",
      "Reject null hypothesis.\n",
      "mu_1 - mu_2 != 0, with 0.95 confidence level\n"
     ]
    }
   ],
   "source": [
    "# Check if the value is in the acceptance region\n",
    "print(t_lo, t, t_hi)\n",
    "if t >= t_lo and t <= t_hi:\n",
    "    print(f\"Fail to reject null hypothesis.\")\n",
    "    print(f\"mu_1 - mu_2 = {delta_0}, with {1 - alpha} confidence level\")\n",
    "else:\n",
    "    print(f\"Reject null hypothesis.\")\n",
    "    print(f\"mu_1 - mu_2 != {delta_0}, with {1 - alpha} confidence level\")"
   ]
  },
  {
   "cell_type": "code",
   "execution_count": 70,
   "id": "28700f15-6c67-4012-88f1-bd74fd50c99f",
   "metadata": {
    "scrolled": true
   },
   "outputs": [
    {
     "name": "stdout",
     "output_type": "stream",
     "text": [
      "(2.223429325386145, 0.02887148184911875, 84.0)\n",
      "2.223429325386152 2.223429325386145\n",
      "84 84.0\n"
     ]
    }
   ],
   "source": [
    "# Or using statsmodels\n",
    "d = {f\"d{i + 1}\": DescrStatsW(x[i]) for i in range(n_pops)}\n",
    "cm = CompareMeans(**d)\n",
    "results = cm.ttest_ind(value=delta_0)\n",
    "_t, _pvalue, _df = results\n",
    "print(results) # print results\n",
    "print(t, _t) # compare t-statistic values\n",
    "print(v, _df) # compare degrees of freedom"
   ]
  },
  {
   "cell_type": "code",
   "execution_count": 73,
   "id": "9fc6441d-bfa3-4230-924d-438ba12071e3",
   "metadata": {},
   "outputs": [
    {
     "name": "stdout",
     "output_type": "stream",
     "text": [
      "2.223429325386152 0.028871481849118266 84.0\n"
     ]
    }
   ],
   "source": [
    "# Or using scipy.stats\n",
    "results = stats.ttest_ind(a=x[0], b=x[1])\n",
    "_t = results.statistic\n",
    "_pvalue = results.pvalue\n",
    "_df = results.df\n",
    "print(_t, _pvalue, _df)"
   ]
  },
  {
   "cell_type": "markdown",
   "id": "ed9c9f41-bb16-43bf-9b74-ca2c8a28b7ce",
   "metadata": {
    "jp-MarkdownHeadingCollapsed": true
   },
   "source": [
    "### One-Sided Lower Bound Test"
   ]
  },
  {
   "cell_type": "code",
   "execution_count": 74,
   "id": "c653f1ca-d19b-4cbe-b2ab-742668df09c3",
   "metadata": {},
   "outputs": [],
   "source": [
    "# H0: mu_1 - mu_2 = 0\n",
    "# H1: mu_1 - mu_2 < 0\n",
    "alpha = 0.05 # significance level"
   ]
  },
  {
   "cell_type": "code",
   "execution_count": 75,
   "id": "bbcea88c-eaa4-4249-ba8e-caa8a205da92",
   "metadata": {},
   "outputs": [],
   "source": [
    "# Define the acceptance region, the region where the null hypothesis will not be rejected\n",
    "t_lo = stats.t.ppf(alpha, df=v)"
   ]
  },
  {
   "cell_type": "code",
   "execution_count": 76,
   "id": "c02187f5-dca2-48c4-871a-85e92b91f414",
   "metadata": {},
   "outputs": [
    {
     "name": "stdout",
     "output_type": "stream",
     "text": [
      "-1.6631966790936912 2.223429325386152\n",
      "Fail to reject null hypothesis.\n",
      "mu_1 - mu_2 = 0, with 0.95 confidence level\n"
     ]
    }
   ],
   "source": [
    "# Check if the value is in the acceptance region\n",
    "print(t_lo, t)\n",
    "if t >= t_lo:\n",
    "    print(f\"Fail to reject null hypothesis.\")\n",
    "    print(f\"mu_1 - mu_2 = {delta_0}, with {1 - alpha} confidence level\")\n",
    "else:\n",
    "    print(f\"Reject null hypothesis.\")\n",
    "    print(f\"mu_1 - mu_2 < {delta_0}, with {1 - alpha} confidence level\")"
   ]
  },
  {
   "cell_type": "code",
   "execution_count": 77,
   "id": "3d2905cd-eeca-4896-a255-7784f868b893",
   "metadata": {},
   "outputs": [
    {
     "name": "stdout",
     "output_type": "stream",
     "text": [
      "(2.223429325386145, 0.9855642590754407, 84.0)\n",
      "2.223429325386152 2.223429325386145\n",
      "84 84.0\n"
     ]
    }
   ],
   "source": [
    "# Or using statsmodels\n",
    "d = {f\"d{i + 1}\": DescrStatsW(x[i]) for i in range(n_pops)}\n",
    "cm = CompareMeans(**d)\n",
    "results = cm.ttest_ind(value=delta_0, alternative=\"smaller\")\n",
    "_t, _pvalue, _df = results\n",
    "print(results) # print results\n",
    "print(t, _t) # compare t-statistic values\n",
    "print(v, _df) # compare degrees of freedom"
   ]
  },
  {
   "cell_type": "code",
   "execution_count": 79,
   "id": "d2d31347-fcf6-48f1-ab24-9aa86c47a6c1",
   "metadata": {},
   "outputs": [
    {
     "name": "stdout",
     "output_type": "stream",
     "text": [
      "2.223429325386152 0.9855642590754409 84.0\n"
     ]
    }
   ],
   "source": [
    "# Or using scipy.stats\n",
    "results = stats.ttest_ind(a=x[0], b=x[1], alternative=\"less\")\n",
    "_t = results.statistic\n",
    "_pvalue = results.pvalue\n",
    "_df = results.df\n",
    "print(_t, _pvalue, _df)"
   ]
  },
  {
   "cell_type": "markdown",
   "id": "5849f560-4755-4637-9ce7-15e94f755606",
   "metadata": {
    "jp-MarkdownHeadingCollapsed": true
   },
   "source": [
    "### One-Sided Upper Bound Test"
   ]
  },
  {
   "cell_type": "code",
   "execution_count": 80,
   "id": "6f9e13ce-aab8-4c15-a948-f079a0310cd1",
   "metadata": {},
   "outputs": [],
   "source": [
    "# H0: mu_1 - mu_2 = 0\n",
    "# H1: mu_1 - mu_2 > 0\n",
    "alpha = 0.05 # significance level"
   ]
  },
  {
   "cell_type": "code",
   "execution_count": 81,
   "id": "0b55dfa1-f48b-4abf-ae70-add1de4cca7b",
   "metadata": {},
   "outputs": [],
   "source": [
    "# Define the acceptance region, the region where the null hypothesis will not be rejected\n",
    "t_hi = stats.t.ppf(1 - alpha, df=v)"
   ]
  },
  {
   "cell_type": "code",
   "execution_count": 82,
   "id": "600bf31e-0406-4518-b529-0b63aa5032c9",
   "metadata": {},
   "outputs": [
    {
     "name": "stdout",
     "output_type": "stream",
     "text": [
      "2.223429325386152 1.6631966790019561\n",
      "Reject null hypothesis.\n",
      "mu_1 - mu_2 > 0, with 0.95 confidence level\n"
     ]
    }
   ],
   "source": [
    "# Check if the value is in the acceptance region\n",
    "print(t, t_hi)\n",
    "if t <= t_hi:\n",
    "    print(f\"Fail to reject null hypothesis.\")\n",
    "    print(f\"mu_1 - mu_2 = {delta_0}, with {1 - alpha} confidence level\")\n",
    "else:\n",
    "    print(f\"Reject null hypothesis.\")\n",
    "    print(f\"mu_1 - mu_2 > {delta_0}, with {1 - alpha} confidence level\")"
   ]
  },
  {
   "cell_type": "code",
   "execution_count": 83,
   "id": "3173a8ce-7645-4a0f-a157-c6afaed4c1e3",
   "metadata": {},
   "outputs": [
    {
     "name": "stdout",
     "output_type": "stream",
     "text": [
      "(2.223429325386145, 0.014435740924559374, 84.0)\n",
      "2.223429325386152 2.223429325386145\n",
      "84 84.0\n"
     ]
    }
   ],
   "source": [
    "# Or using statsmodels\n",
    "d = {f\"d{i + 1}\": DescrStatsW(x[i]) for i in range(n_pops)}\n",
    "cm = CompareMeans(**d)\n",
    "results = cm.ttest_ind(value=delta_0, alternative=\"larger\")\n",
    "_t, _pvalue, _df = results\n",
    "print(results) # print results\n",
    "print(t, _t) # compare t-statistic values\n",
    "print(v, _df) # compare degrees of freedom"
   ]
  },
  {
   "cell_type": "code",
   "execution_count": 84,
   "id": "8e248ecc-284a-4738-95ff-93d399f6f698",
   "metadata": {},
   "outputs": [
    {
     "name": "stdout",
     "output_type": "stream",
     "text": [
      "2.223429325386152 0.014435740924559133 84.0\n"
     ]
    }
   ],
   "source": [
    "# Or using scipy.stats\n",
    "results = stats.ttest_ind(a=x[0], b=x[1], alternative=\"greater\")\n",
    "_t = results.statistic\n",
    "_pvalue = results.pvalue\n",
    "_df = results.df\n",
    "print(_t, _pvalue, _df)"
   ]
  },
  {
   "cell_type": "markdown",
   "id": "0d9e6fee-d821-45fa-b9b4-fa432c80874a",
   "metadata": {
    "jp-MarkdownHeadingCollapsed": true
   },
   "source": [
    "## Case 2: Unequal Population Variance $\\sigma_{1} \\ne \\sigma_{2}$"
   ]
  },
  {
   "cell_type": "code",
   "execution_count": 86,
   "id": "5fb2a256-010d-4f67-8adb-e349dfa01013",
   "metadata": {},
   "outputs": [
    {
     "name": "stdout",
     "output_type": "stream",
     "text": [
      "(3.0, 2.73)\n",
      "(0.5, 0.25)\n"
     ]
    },
    {
     "data": {
      "image/png": "[encoded data removed]",
      "text/plain": [
       "<Figure size 800x500 with 2 Axes>"
      ]
     },
     "metadata": {},
     "output_type": "display_data"
    }
   ],
   "source": [
    "# Generate the populations\n",
    "N = int(1e6)\n",
    "populations = tuple([np.random.normal(loc=3, scale=0.5, size=N), np.random.normal(loc=2.73, scale=0.25, size=N)])\n",
    "n_pops = len(populations)\n",
    "df_pops = tuple([pd.DataFrame(data=pop, columns=[\"value\"]) for pop in populations])\n",
    "mus = tuple([np.mean(pop) for pop in populations])\n",
    "sigmas = tuple([np.std(pop) for pop in populations])\n",
    "print(tuple([round(i, 2) for i in mus]))\n",
    "print(tuple([round(i, 2) for i in sigmas]))\n",
    "\n",
    "bins = tuple([np.arange(*tpl) for tpl in [(1, 5, 0.2), (1.2,4.2,0.1)]])\n",
    "fig = plt.figure(figsize=figsize)\n",
    "for i in range(len(populations)):\n",
    "    ax = fig.add_subplot(2, 1, i + 1)\n",
    "    _, _ = plots.histogram(df=df_pops[i], bins=bins[i], title=f\"Population {i}\", xlabel=[\"Values\"], ylabel=[\"Count\"], fig=fig, ax=ax)"
   ]
  },
  {
   "cell_type": "code",
   "execution_count": 87,
   "id": "e884f6e9-ec8a-4451-9854-d25acad24c92",
   "metadata": {},
   "outputs": [
    {
     "name": "stdout",
     "output_type": "stream",
     "text": [
      "(3.04, 2.8)\n",
      "(0.44, 0.26)\n"
     ]
    }
   ],
   "source": [
    "# Draw 2 samples\n",
    "n = (33, 44)\n",
    "x = tuple([np.random.choice(populations[i], size=n[i]) for i in range(n_pops)])\n",
    "x_bar = tuple([np.mean(x[i]) for i in range(n_pops)])\n",
    "s_x = tuple([np.std(x[i], ddof=1) for i in range(n_pops)])\n",
    "print(tuple([round(i, 2) for i in x_bar]))\n",
    "print(tuple([round(i, 2) for i in s_x]))"
   ]
  },
  {
   "cell_type": "code",
   "execution_count": 99,
   "id": "c07b2c3d-e24a-4651-a005-bb2dfc3996a7",
   "metadata": {},
   "outputs": [],
   "source": [
    "# Compute pooled variance, degrees of freedom, and t-statistic\n",
    "delta_0 = 0 # The null value for the null hypothesis. Corresponds to mu_1 - mu_2 =/>/< 0\n",
    "\n",
    "# degrees of freedom\n",
    "v = (((s_x[0]**2) / (n[0])) + ((s_x[1]**2) / (n[1])))**2 / \\\n",
    "    ((((s_x[0]**2 / n[0])**2) / (n[0] - 1)) + (((s_x[1]**2 / n[1])**2) / (n[1] - 1)))\n",
    "t = (x_bar[0] - x_bar[1] - delta_0) / math.sqrt(((s_x[0]**2) / (n[0])) + ((s_x[1]**2) / (n[1])))"
   ]
  },
  {
   "cell_type": "markdown",
   "id": "3590e287-f0f1-4b62-a3d9-cdea9a70093c",
   "metadata": {},
   "source": [
    "### Two-sided Test"
   ]
  },
  {
   "cell_type": "code",
   "execution_count": 100,
   "id": "fd5cf759-0959-4cff-bf4b-230eb8322a99",
   "metadata": {},
   "outputs": [],
   "source": [
    "# H0: mu_1 - mu_2 = 0\n",
    "# H1: mu_1 - mu_2 != 0\n",
    "alpha = 0.05 # significance level"
   ]
  },
  {
   "cell_type": "code",
   "execution_count": 101,
   "id": "db91bf09-e41e-4666-b7da-3f1ebfbe017e",
   "metadata": {},
   "outputs": [],
   "source": [
    "# Define the acceptance region, the region where the null hypothesis will not be rejected\n",
    "t_lo = stats.t.ppf(alpha / 2, df=v)\n",
    "t_hi = stats.t.ppf(1 - (alpha / 2), df=v)"
   ]
  },
  {
   "cell_type": "code",
   "execution_count": 102,
   "id": "2090efda-ab7b-41ac-b48f-642241de5dc9",
   "metadata": {},
   "outputs": [
    {
     "name": "stdout",
     "output_type": "stream",
     "text": [
      "-2.010441938252448 2.851700896088063 2.010441938252448\n",
      "Reject null hypothesis.\n",
      "mu_1 - mu_2 != 0, with 0.95 confidence level\n"
     ]
    }
   ],
   "source": [
    "# Check if the value is in the acceptance region\n",
    "print(t_lo, t, t_hi)\n",
    "if t >= t_lo and t <= t_hi:\n",
    "    print(f\"Fail to reject null hypothesis.\")\n",
    "    print(f\"mu_1 - mu_2 = {delta_0}, with {1 - alpha} confidence level\")\n",
    "else:\n",
    "    print(f\"Reject null hypothesis.\")\n",
    "    print(f\"mu_1 - mu_2 != {delta_0}, with {1 - alpha} confidence level\")"
   ]
  },
  {
   "cell_type": "code",
   "execution_count": 103,
   "id": "0da341f2-ad52-4b7e-9984-3e12c754912a",
   "metadata": {},
   "outputs": [
    {
     "name": "stdout",
     "output_type": "stream",
     "text": [
      "(2.851700896088063, 0.006386359045609309, 48.178863142673436)\n",
      "2.851700896088063 2.851700896088063\n",
      "48.178863142673436 48.178863142673436\n"
     ]
    }
   ],
   "source": [
    "# Or using statsmodels\n",
    "d = {f\"d{i + 1}\": DescrStatsW(x[i]) for i in range(n_pops)}\n",
    "cm = CompareMeans(**d)\n",
    "results = cm.ttest_ind(value=delta_0, usevar=\"unequal\")\n",
    "_t, _pvalue, _df = results\n",
    "print(results) # print results\n",
    "print(t, _t) # compare t-statistic values\n",
    "print(v, _df) # compare degrees of freedom"
   ]
  },
  {
   "cell_type": "code",
   "execution_count": 104,
   "id": "947ec618-4dab-4a86-a5b5-3e9dfd5fe744",
   "metadata": {},
   "outputs": [
    {
     "name": "stdout",
     "output_type": "stream",
     "text": [
      "2.851700896088063 0.006386359045609309 48.178863142673436\n"
     ]
    }
   ],
   "source": [
    "# Or using scipy.stats\n",
    "results = stats.ttest_ind(a=x[0], b=x[1], equal_var=False)\n",
    "_t = results.statistic\n",
    "_pvalue = results.pvalue\n",
    "_df = results.df\n",
    "print(_t, _pvalue, _df)"
   ]
  },
  {
   "cell_type": "markdown",
   "id": "d58ee474-452d-4d83-926e-c710a5417bf9",
   "metadata": {},
   "source": [
    "### One-Sided Lower Bound Test"
   ]
  },
  {
   "cell_type": "code",
   "execution_count": 105,
   "id": "b141ab7c-1a37-48b4-9302-3993d9bcdce1",
   "metadata": {},
   "outputs": [],
   "source": [
    "# H0: mu_1 - mu_2 = 0\n",
    "# H1: mu_1 - mu_2 < 0\n",
    "alpha = 0.05 # significance level"
   ]
  },
  {
   "cell_type": "code",
   "execution_count": 106,
   "id": "62a006e2-9e71-4363-83a2-84a4611d8932",
   "metadata": {},
   "outputs": [],
   "source": [
    "# Define the acceptance region, the region where the null hypothesis will not be rejected\n",
    "t_lo = stats.t.ppf(alpha, df=v)"
   ]
  },
  {
   "cell_type": "code",
   "execution_count": 108,
   "id": "cd9ac93a-c3f6-464d-9ec7-5a8e5204b375",
   "metadata": {},
   "outputs": [
    {
     "name": "stdout",
     "output_type": "stream",
     "text": [
      "-1.6771016745309333 2.851700896088063\n",
      "Fail to reject null hypothesis.\n",
      "mu_1 - mu_2 = 0, with 0.95 confidence level\n"
     ]
    }
   ],
   "source": [
    "# Check if the value is in the acceptance region\n",
    "print(t_lo, t)\n",
    "if t >= t_lo:\n",
    "    print(f\"Fail to reject null hypothesis.\")\n",
    "    print(f\"mu_1 - mu_2 = {delta_0}, with {1 - alpha} confidence level\")\n",
    "else:\n",
    "    print(f\"Reject null hypothesis.\")\n",
    "    print(f\"mu_1 - mu_2 < {delta_0}, with {1 - alpha} confidence level\")"
   ]
  },
  {
   "cell_type": "code",
   "execution_count": 111,
   "id": "59bbad22-a74f-462a-931b-f53c6464758d",
   "metadata": {},
   "outputs": [
    {
     "name": "stdout",
     "output_type": "stream",
     "text": [
      "(2.851700896088063, 0.9968068204771954, 48.178863142673436)\n",
      "2.851700896088063 2.851700896088063\n",
      "48.178863142673436 48.178863142673436\n"
     ]
    }
   ],
   "source": [
    "# Or using statsmodels\n",
    "d = {f\"d{i + 1}\": DescrStatsW(x[i]) for i in range(n_pops)}\n",
    "cm = CompareMeans(**d)\n",
    "results = cm.ttest_ind(value=delta_0, alternative=\"smaller\", usevar=\"unequal\")\n",
    "_t, _pvalue, _df = results\n",
    "print(results) # print results\n",
    "print(t, _t) # compare t-statistic values\n",
    "print(v, _df) # compare degrees of freedom"
   ]
  },
  {
   "cell_type": "code",
   "execution_count": 113,
   "id": "2e5faf50-deda-4a91-86f2-8260fcbab312",
   "metadata": {},
   "outputs": [
    {
     "name": "stdout",
     "output_type": "stream",
     "text": [
      "2.851700896088063 0.9968068204771954 48.178863142673436\n"
     ]
    }
   ],
   "source": [
    "# Or using scipy.stats\n",
    "results = stats.ttest_ind(a=x[0], b=x[1], alternative=\"less\", equal_var=False)\n",
    "_t = results.statistic\n",
    "_pvalue = results.pvalue\n",
    "_df = results.df\n",
    "print(_t, _pvalue, _df)"
   ]
  },
  {
   "cell_type": "markdown",
   "id": "2e783efa-a355-4e24-be6f-bb0bb66ac6f1",
   "metadata": {},
   "source": [
    "### One-Sided Upper Bound Test"
   ]
  },
  {
   "cell_type": "code",
   "execution_count": 114,
   "id": "50aac8b7-4793-4cca-bf03-1f5a11fa171b",
   "metadata": {},
   "outputs": [],
   "source": [
    "# H0: mu_1 - mu_2 = 0\n",
    "# H1: mu_1 - mu_2 > 0\n",
    "alpha = 0.05 # significance level"
   ]
  },
  {
   "cell_type": "code",
   "execution_count": 115,
   "id": "7a1aa617-5b03-4c0a-a2cb-724c276717c2",
   "metadata": {},
   "outputs": [],
   "source": [
    "# Define the acceptance region, the region where the null hypothesis will not be rejected\n",
    "t_hi = stats.t.ppf(1 - alpha, df=v)"
   ]
  },
  {
   "cell_type": "code",
   "execution_count": 116,
   "id": "dca768ae-8a58-4516-8e45-17080dce0b13",
   "metadata": {},
   "outputs": [
    {
     "name": "stdout",
     "output_type": "stream",
     "text": [
      "2.851700896088063 1.677101674530933\n",
      "Reject null hypothesis.\n",
      "mu_1 - mu_2 > 0, with 0.95 confidence level\n"
     ]
    }
   ],
   "source": [
    "# Check if the value is in the acceptance region\n",
    "print(t, t_hi)\n",
    "if t <= t_hi:\n",
    "    print(f\"Fail to reject null hypothesis.\")\n",
    "    print(f\"mu_1 - mu_2 = {delta_0}, with {1 - alpha} confidence level\")\n",
    "else:\n",
    "    print(f\"Reject null hypothesis.\")\n",
    "    print(f\"mu_1 - mu_2 > {delta_0}, with {1 - alpha} confidence level\")"
   ]
  },
  {
   "cell_type": "code",
   "execution_count": 119,
   "id": "7a6c3d25-6995-46f9-b456-6fdc9c8bb042",
   "metadata": {},
   "outputs": [
    {
     "name": "stdout",
     "output_type": "stream",
     "text": [
      "(2.851700896088063, 0.0031931795228046546, 48.178863142673436)\n",
      "2.851700896088063 2.851700896088063\n",
      "48.178863142673436 48.178863142673436\n"
     ]
    }
   ],
   "source": [
    "# Or using statsmodels\n",
    "d = {f\"d{i + 1}\": DescrStatsW(x[i]) for i in range(n_pops)}\n",
    "cm = CompareMeans(**d)\n",
    "results = cm.ttest_ind(value=delta_0, alternative=\"larger\", usevar=\"unequal\")\n",
    "_t, _pvalue, _df = results\n",
    "print(results) # print results\n",
    "print(t, _t) # compare t-statistic values\n",
    "print(v, _df) # compare degrees of freedom"
   ]
  },
  {
   "cell_type": "code",
   "execution_count": 120,
   "id": "a98867e8-a686-422b-a77a-c382bac825c0",
   "metadata": {},
   "outputs": [
    {
     "name": "stdout",
     "output_type": "stream",
     "text": [
      "2.851700896088063 0.0031931795228046546 48.178863142673436\n"
     ]
    }
   ],
   "source": [
    "# Or using scipy.stats\n",
    "results = stats.ttest_ind(a=x[0], b=x[1], alternative=\"greater\", equal_var=False)\n",
    "_t = results.statistic\n",
    "_pvalue = results.pvalue\n",
    "_df = results.df\n",
    "print(_t, _pvalue, _df)"
   ]
  }
 ],
 "metadata": {
  "kernelspec": {
   "display_name": "Python 3 (ipykernel)",
   "language": "python",
   "name": "python3"
  },
  "language_info": {
   "codemirror_mode": {
    "name": "ipython",
    "version": 3
   },
   "file_extension": ".py",
   "mimetype": "text/x-python",
   "name": "python",
   "nbconvert_exporter": "python",
   "pygments_lexer": "ipython3",
   "version": "3.12.3"
  }
 },
 "nbformat": 4,
 "nbformat_minor": 5
}
