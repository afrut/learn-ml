{
 "cells": [
  {
   "cell_type": "markdown",
   "id": "0b328536-34c9-4ce3-a46b-86970fe1b3ac",
   "metadata": {},
   "source": [
    "# Procedure for an Unknown Variance"
   ]
  },
  {
   "cell_type": "markdown",
   "id": "f82d328c-3309-4041-aff2-61eae1344aea",
   "metadata": {},
   "source": [
    "<ul>\n",
    "    <li>State the null and alternative hypotheses.</li>\n",
    "    <ul>\n",
    "        <li>To check if 2 means are different, set $\\Delta_0 = 0$.</li>\n",
    "    </ul>\n",
    "    <font size = \"4\">\n",
    "        $$H_0: \\mu_{1} - \\mu_{2} = \\Delta_0$$\n",
    "        $$H_1: \\mu_{1} - \\mu_{2} \\ne \\Delta_0$$\n",
    "    </font>\n",
    "    <li>Specify a significance level $\\alpha$. A commonly-used value is $\\alpha=0.05$.</li>\n",
    "    <li>Draw 2 samples one of size $n_{1}$, the other of size $n_{2}$.</li>\n",
    "    <li>Calculate the sample means $\\overline{x_{1}}$ and $\\overline{x_{2}}$.</li>\n",
    "    <li>Calculate the sample standard deviations $s_{x1}$ and $s_{x2}$.</li>\n",
    "</ul>"
   ]
  },
  {
   "cell_type": "markdown",
   "id": "b7aecc3a-7997-4d88-86cb-54066709c5a8",
   "metadata": {},
   "source": [
    "<ul>\n",
    "    <li>Pick one of the cases.</li>\n",
    "    <ul>\n",
    "        <li>Case 1: Unknown population variances are equal, $\\sigma_{1} = \\sigma_{2} = \\sigma$. Compute the pooled variance $S_{p}^{2}$, degrees of freedom $v$, and corresponding t-statistic $t$. The results of this test are very sensitive to the assumption being correct. This is known as the <b>pooled t-test</b>. </li>\n",
    "        <font size=\"4\">\n",
    "        \\begin{align}\n",
    "            S_{p}^{2} &= \\frac{\\left( n_{1} - 1 \\right)s_{x1}^{2} + \\left( n_{2} - 1 \\right)s_{x2}^{2}}{n_{1} + n_{2} - 2} \\\\\n",
    "            v &= n_{1} + n_{2} - 2 \\\\\n",
    "            t &= \\frac{\\overline{x_{1}} - \\overline{x_{2}} - \\Delta_{0}}{S_{p} \\sqrt{\\frac{1}{n_{1}} + \\frac{1}{n_{2}}}}\n",
    "        \\end{align}\n",
    "        </font>\n",
    "        <li>Case 2: Unknown population variances are not equal, $\\sigma_{1} \\ne \\sigma{2}$. Use the following t statistic $t$ and degrees of freedom $v$. This is known as the two-sample t-test.</li>\n",
    "        <font size=\"4\">\n",
    "        \\begin{align}\n",
    "            v &= \\frac {\\left( \\frac{s_{x1}^{2}}{n_{1}} + \\frac{s_{x2}^{2}}{n_{2}} \\right)^{2}}\n",
    "                       {\\frac{\\left( \\frac{s_{x1}^{2}}{n_{1}} \\right)^{2}}{n_{1} - 1} + \\frac{\\left( \\frac{s_{x2}^{2}}{n_{2}} \\right)^{2}}{n_{2} - 1}}\\\\\n",
    "            t &= \\frac{\\overline{x_{1}} - \\overline{x_{2}} - \\Delta_{0}}{\\sqrt{\\frac{s_{x1}^{2}}{n_{1}} + \\frac{s_{x2}^{2}}{n_{2}}}}\n",
    "        \\end{align}\n",
    "        </font>\n",
    "    </ul>\n",
    "</ul>"
   ]
  },
  {
   "cell_type": "markdown",
   "id": "81ce62a3-0056-4a2f-b712-d1abb01b1c26",
   "metadata": {},
   "source": [
    "<ul>\n",
    "    <li>Using the $t$ distribution, calculate values of the t-statistic $t$ that define the acceptance and rejection regions:</li>\n",
    "    <ul>\n",
    "        <li>If the hypothesis test is two-sided, using $v$ degrees of freedom, calculate $t_{lo}$ and $t_{hi}$ such that:</li><br>\n",
    "        <font size = \"4\">\n",
    "            \\begin{align}\n",
    "            t_{lo} &= \\mathrm{ppf}\\left( \\frac{\\alpha}{2}, v \\right); P(t \\le t_{lo}) = \\frac{\\alpha}{2}\\\\\\\\\n",
    "            t_{hi} &= \\mathrm{ppf}\\left( 1 - \\frac{\\alpha}{2}, v \\right); P(t \\ge t_{hi}) = \\frac{\\alpha}{2}\n",
    "            \\end{align}\n",
    "        </font><br>\n",
    "        <li>If the hypothesis test is one-sided and lower-bound, using $v$ degrees of freedom, calculate $t_{lo}$ such that:</li><br>\n",
    "        <font size = \"4\">\n",
    "            \\begin{align}\n",
    "            t_{lo} &= \\mathrm{ppf}\\left( \\alpha, v \\right); P(t \\le t_{lo}) = \\alpha\n",
    "            \\end{align}\n",
    "        </font><br>\n",
    "        <li>If the hypothesis test is one-sided and upper-bound, using $v$ degrees of freedom, calculate $t_{hi}$ such that:</li><br>\n",
    "        <font size = \"4\">\n",
    "            \\begin{align}\n",
    "            t_{hi} &= \\mathrm{ppf}\\left( 1 - \\alpha, v \\right); P(t \\ge t_{hi}) = \\alpha\n",
    "            \\end{align}\n",
    "        </font><br>\n",
    "    </ul>\n",
    "</ul>"
   ]
  },
  {
   "cell_type": "markdown",
   "id": "0852d86e-72d0-4ffc-8c99-56e3ac0d31c7",
   "metadata": {},
   "source": [
    "<ul>\n",
    "    <li>The critical values $t_{lo}$ and $t_{hi}$ define the acceptance and rejection regions.</li>\n",
    "    <ul>\n",
    "        <li>If the hypothesis test is two-sided, fail to reject $H_0$ if $t_{lo} \\le t \\le t_{hi}$. Otherwise, reject $H_0$.</li>\n",
    "        <li>If the hypothesis test is lower bound, fail to reject $H_0$ if $t \\ge t_{lo}$. Otherwise, reject $H_0$.</li>\n",
    "        <li>If the hypothesis test is upper bound, fail to reject $H_0$ if $t \\le t_{hi}$. Otherwise, reject $H_0$.</li>\n",
    "    </ul>\n",
    "</ul>"
   ]
  }
 ],
 "metadata": {
  "kernelspec": {
   "display_name": "Python 3 (ipykernel)",
   "language": "python",
   "name": "python3"
  },
  "language_info": {
   "codemirror_mode": {
    "name": "ipython",
    "version": 3
   },
   "file_extension": ".py",
   "mimetype": "text/x-python",
   "name": "python",
   "nbconvert_exporter": "python",
   "pygments_lexer": "ipython3",
   "version": "3.12.3"
  }
 },
 "nbformat": 4,
 "nbformat_minor": 5
}
