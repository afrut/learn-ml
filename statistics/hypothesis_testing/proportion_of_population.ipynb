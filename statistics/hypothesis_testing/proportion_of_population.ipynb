{
 "cells": [
  {
   "cell_type": "markdown",
   "id": "01739849-81b8-440d-94f2-043336cc7497",
   "metadata": {},
   "source": [
    "# Procedure for Proportion of a Population"
   ]
  },
  {
   "cell_type": "markdown",
   "id": "240f250c-0281-470f-b22b-e63bc3dec49a",
   "metadata": {},
   "source": [
    "The sampling distribution for the proportion of items that belong to a class of interest $\\hat{P} = \\frac{x}{n}$ is a binomial distribution with parameters $n$, the sample size, and $p$, the proportion of the population belonging to a class of interest. This binomial distribution can be approximated by the normal distribution. The approximated normal distribution will have the following mean and variance:\n",
    "<font size=\"4\">\n",
    "    $$\\mu=np$$<br>\n",
    "    $$\\sigma^2=np\\left( 1 - p \\right)$$\n",
    "</font><br>\n",
    "\n",
    "Thus, the following $Z$ statistic will follow the standard normal distribution:<br><br>\n",
    "<font size=\"4\">\n",
    "    $$Z=\\frac{X-np}{\\sqrt{np\\left(1-p\\right)}}$$\n",
    "</font><br>"
   ]
  },
  {
   "cell_type": "markdown",
   "id": "f7223562-e065-4dab-88bd-c607f96fd0d8",
   "metadata": {},
   "source": [
    "<ul>\n",
    "    <li>State the null and alternative hypotheses.</li>\n",
    "    <font size = \"4\">\n",
    "        $$H_0: p = p_0$$<br>\n",
    "        $$H_1: p \\ne p_0$$\n",
    "    </font><br>\n",
    "    <li>Specify a significance level $\\alpha$. A commonly-used value is $\\alpha=0.05$.</li>\n",
    "    <li>Draw a sample of size $n$.</li>\n",
    "    <li>Calculate the sample mean $np$.</li>\n",
    "</ul>"
   ]
  },
  {
   "cell_type": "markdown",
   "id": "f06cd2dd-743b-4408-9731-02fa18116689",
   "metadata": {},
   "source": [
    "<ul>\n",
    "    <li>The population standard deviation is known. By using the normal approximation to the binomial distribution, this is equal to $\\sqrt{np\\left(1 - p\\right)}$.</li>\n",
    "    <li>Since the population standard deviation is known, we can use the $Z$ test statistic.</li><br>\n",
    "    <font size=\"4\">\n",
    "        $$Z_0 = \\frac{X-np_0}{\\sqrt{np_0\\left(1 - p_0\\right)}}$$\n",
    "    </font><br>\n",
    "    <li>Using the standard normal distribution, calculate values of $Z$ that define the acceptance and rejection regions:</li>\n",
    "    <ul>\n",
    "        <li>If the hypothesis test is two-sided, calculate $z_{lo}$ and $z_{hi}$ such that:</li><br>\n",
    "        <font size = \"4\">\n",
    "            \\begin{align}\n",
    "            z_{lo} &= \\mathrm{ppf}\\left( \\frac{\\alpha}{2} \\right); P(Z \\le z_{lo}) = \\frac{\\alpha}{2}\\\\\\\\\n",
    "            z_{hi} &= \\mathrm{ppf}\\left( 1 - \\frac{\\alpha}{2} \\right); P(Z \\ge z_{hi}) = \\frac{\\alpha}{2}\n",
    "            \\end{align}\n",
    "        </font><br>\n",
    "        <li>If the hypothesis test is one-sided and lower-bound, calculate $z_{lo}$ such that:</li><br>\n",
    "        <font size = \"4\">\n",
    "            \\begin{align}\n",
    "            z_{lo} &= \\mathrm{ppf}\\left( \\alpha \\right); P(Z \\le z_{lo}) = \\alpha\n",
    "            \\end{align}\n",
    "        </font><br>\n",
    "        <li>If the hypothesis test is one-sided and upper-bound, calculate $z_{hi}$ such that:</li><br>\n",
    "        <font size = \"4\">\n",
    "            \\begin{align}\n",
    "            z_{hi} &= \\mathrm{ppf}\\left( 1 - \\alpha \\right); P(Z \\ge z_{hi}) = \\alpha\n",
    "            \\end{align}\n",
    "        </font><br>\n",
    "    </ul>\n",
    "</ul>"
   ]
  },
  {
   "cell_type": "markdown",
   "id": "0518cf2d-ae52-40a4-80e5-7a2f8386ed27",
   "metadata": {},
   "source": [
    "<ul>\n",
    "    <li>Using the null value $\\mu_0$, $z_{lo}$, and $z_{hi}$, calculate the critical values $x_{lo}$ and $x_{hi}$.</li><br>\n",
    "    <font size = \"4\">\n",
    "        \\begin{align}\n",
    "        x_{lo} &= np_0 + z_{lo} \\sqrt{np_0\\left(1 - p_0\\right)}\\\\\\\\\n",
    "        x_{hi} &= np_0 + z_{hi} \\sqrt{np_0\\left(1 - p_0\\right)} \n",
    "        \\end{align}\n",
    "    </font><br>\n",
    "    <li>The critical values define the acceptance and rejection regions. Evaluate whether the sample mean $\\overline{x}$ is in the acceptance or rejection region. Accept or reject the null hypothesis appropriately.</li>\n",
    "</ul>"
   ]
  }
 ],
 "metadata": {
  "kernelspec": {
   "display_name": "Python 3 (ipykernel)",
   "language": "python",
   "name": "python3"
  },
  "language_info": {
   "codemirror_mode": {
    "name": "ipython",
    "version": 3
   },
   "file_extension": ".py",
   "mimetype": "text/x-python",
   "name": "python",
   "nbconvert_exporter": "python",
   "pygments_lexer": "ipython3",
   "version": "3.12.3"
  }
 },
 "nbformat": 4,
 "nbformat_minor": 5
}
