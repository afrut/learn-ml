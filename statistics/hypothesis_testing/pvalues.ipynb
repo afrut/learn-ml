{
 "cells": [
  {
   "cell_type": "markdown",
   "id": "c4ab9475-70a9-4328-baeb-9e633d838933",
   "metadata": {},
   "source": [
    "P-values are an alternative way of reporting the results of a hypothesis test. Instead of defining a rejection region and an acceptance region, we ask, \"What is the smallest value of the significance level $\\alpha$ that would lead us to reject the null hypothesis $H_0$?\" The answer to this question is simply finding the significance level represented by the sample mean. To find this value:\n",
    "<ul>\n",
    "    <li>If the observed sample mean $\\overline{x}$ is greater than the null value $\\mu_0$, compute the probability of observing sample means that are at least as large. Then double this probability to account for the other symmetric tail of the t-distribution:</li><br>\n",
    "    <font size=\"4\">\n",
    "        \\begin{align}\n",
    "        p = 2P(X \\ge \\overline{x})\n",
    "        \\end{align}\n",
    "    </font><br>\n",
    "    <li>If the observed sample mean $\\overline{x}$ is less than the null value $\\mu_0$, compute the probability of observing sample means that are at most the value of the observed sample mean $\\overline{x}$. Then double this probability to account for the other symmetric tail of the t-distribution:</li><br>\n",
    "    <font size=\"4\">\n",
    "        \\begin{align}\n",
    "        p = 2P(X \\le \\overline{x})\n",
    "        \\end{align}\n",
    "    </font><br>\n",
    "    <li>If the alternative hypothesis is $H_1: \\mu > \\mu_0$, then find the probability of observing of observing sample means greater than the observed sample mean $\\overline{x}$:</li><br>\n",
    "    <font size=\"4\">\n",
    "        \\begin{align}\n",
    "        p = P(X \\ge \\overline{x})\n",
    "        \\end{align}\n",
    "    </font><br>\n",
    "    <li>If the alternative hypothesis is $H_1: \\mu < \\mu_0$, then find the probability of observing of observing sample means less than the observed sample mean $\\overline{x}$:</li><br>\n",
    "    <font size=\"4\">\n",
    "        \\begin{align}\n",
    "        p = P(X \\le \\overline{x})\n",
    "        \\end{align}\n",
    "    </font><br>\n",
    "</ul>\n",
    "\n",
    "Once the p-value $p$ is computed, deciding on whether to reject the null hypothesis is easy. If the $p < \\alpha$, we reject the null hypothesis $H_0$ in favor of the alternative hypothesis $H_1$ if $p<\\alpha$. Because of the way the $p$ is computed, $p<\\alpha$ always corresponds to the observed sample mean $\\overline{x}$ being in the critical region."
   ]
  }
 ],
 "metadata": {
  "kernelspec": {
   "display_name": "Python 3 (ipykernel)",
   "language": "python",
   "name": "python3"
  },
  "language_info": {
   "codemirror_mode": {
    "name": "ipython",
    "version": 3
   },
   "file_extension": ".py",
   "mimetype": "text/x-python",
   "name": "python",
   "nbconvert_exporter": "python",
   "pygments_lexer": "ipython3",
   "version": "3.12.3"
  }
 },
 "nbformat": 4,
 "nbformat_minor": 5
}
