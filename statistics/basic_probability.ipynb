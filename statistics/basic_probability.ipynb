{
 "cells": [
  {
   "cell_type": "markdown",
   "metadata": {},
   "source": [
    "This notebook aims to be an informal reference for counting techniques aimed at engineers. All content here is taken from Montgomery and Runger - Applied Statistics and Probability for Engineers 7ed."
   ]
  },
  {
   "cell_type": "markdown",
   "metadata": {},
   "source": [
    "<h1>Basic Terminology</h1>\n",
    "\n",
    "A <b>random experiment</b> can be thought of as executing a trial or procedure. The outcome of this trial varies with each execution even when the trial is performed in the same exact manner every time.\n",
    "\n",
    "Repetitions of a random experiment will produce different outcomes. The set of all possible outcomes is called the <b>sample space</b> of the random experiment.\n",
    "\n",
    "A <b>discrete</b> sample space is one where the outcomes are countable (even if they are infinite). An example is the set of all ways to arrange the numbers 0 - 9. A <b>continuous</b> sample space is one where the possibilities are represented by real numbers. An example is the length of a rod (in m) or the mass of a ball (in kg).\n",
    "\n",
    "An <b>event</b> is simply a subset of a sample space.<br><br>\n",
    "The <b>union</b> of two events $E_1 \\cup E_2$ is the set of all outcomes belonging to either of the two events.<br><br>\n",
    "The <b>intersection</b> of two events $E_1 \\cap E_2$ is the set of all outcomes common between the two events.<br><br>\n",
    "The <b>complement</b> of an event $'E_1$ is the set of all outcomes not in $E_1$.<br><br>\n",
    "Two events are <b>mutually exclusive</b> when they share no common outcomes: $E_1 \\cap E_2 = \\emptyset$.<br>\n",
    "\n",
    "A <b>random variable</b> can be thought of as a function that produces varying values with different probabilities. For example, the random variable $X$ can be used to denote the measured length of a rod. After every measurement, it may be found that it is more likely to encounter values between $4.7 \\le X \\le 5.2$ m than it is to encounter values $X \\le 4.7$ m. Mathematically:<br><br>\n",
    "<font size=\"4\">\n",
    "    $$P(4.7 \\le X \\le 5.2) > P(X \\le 4.7)$$\n",
    "</font><br>\n",
    "The random variable $X$ can take on many varying values. The variable $x$ will be used to represent all possible values that $X$ can take."
   ]
  },
  {
   "cell_type": "markdown",
   "metadata": {},
   "source": [
    "<h1>Counting Techniques</h1><br>\n",
    "Counting techniques are useful in calculating probabilities. They enable us to find the counts of the total sample space or of certain events.\n",
    "\n",
    "<h2>Multiplication Rule</h2><br>\n",
    "If there are $k$ steps, $n_1$ ways to complete step 1, $n_2$ ways to complete step 2, $n_3$ ways to complete step 3, ..., the number of different ways to complete $k$ steps is:<br><br>\n",
    "<font size=\"4\">\n",
    "$$N = n_1 \\times n_2 \\times n_3 \\times\\ldots\\times n_k$$\n",
    "</font>\n",
    "\n",
    "<h2>Permutations</h2><br>\n",
    "Permutations of $n$ unique objects can be thought of as different ways of arranging $n$ objects. For example, all the permutations of the numbers 0, 1, and 2 chosen $r=2$ at a time are:<br>\n",
    "0 1<br>\n",
    "0 2<br>\n",
    "1 0<br>\n",
    "1 2<br>\n",
    "2 0<br>\n",
    "2 1<br>\n",
    "The number of different permutations of $n$ unique objects chosen $r$ objects at a time is:<br><br>\n",
    "<font size=\"4\">\n",
    "    $$N = P^n_r = \\frac{n!}{(n - r)!}$$\n",
    "</font>\n",
    "\n",
    "<h2>Permutations with Similar Objects</h2><br>\n",
    "There are $k$ types of objects. There are:<br>\n",
    "$n_1$ type 1 objects<br>\n",
    "$n_2$ type 2 objects<br>\n",
    "$n_3$ type 3 objects<br>\n",
    "$\\ldots$<br>\n",
    "$n_k$ type k objects<br>\n",
    "The total number of objects $n = n_1 + n_2 + n_3 +\\ldots+n_k$. The number of permutations in this case is:<br>\n",
    "<font size=\"4\">\n",
    "    $$N = \\frac{n!}{n_1!n_2!n_3! \\ldots n_k!}$$\n",
    "</font>\n",
    "\n",
    "<h2>Combinations</h2><br>\n",
    "A combination is kind of like a permutation except where order doesn't matter. For example, the combination 0 1 2 is the same as 1 0 2. The number of combinations of $n$ objects chosen $r$ at a time is:<br>\n",
    "<font size=\"4\">\n",
    "    $$C^n_r={n \\choose r}=\\frac{n!}{(n-r)!r!}$$\n",
    "</font>"
   ]
  },
  {
   "cell_type": "markdown",
   "metadata": {},
   "source": [
    "<h1>Probability Rules</h1>\n",
    "\n",
    "If there are $N$ possible outcomes, all <b>equally likely</b> to occur, the probability of each outcome occurring is:<br>\n",
    "<font size=\"4\">\n",
    "    $$P(O_n) = \\frac{1}{N}$$\n",
    "</font><br>\n",
    "\n",
    "The <b>probability of an event $E$</b> (a subset of all possible outcomes) is the sum of all probability of outcomes belonging E. If $k$ outcomes belong to $E$, the probability of $E$ is:<br>\n",
    "<font size=\"4\">\n",
    "    $$P(E)=\\sum_{i=1}^k{P(O_i)}$$\n",
    "</font><br>\n",
    "Furthermore, the probability of any event must be between 0 and 1:<br><br>\n",
    "<font size=\"4\">\n",
    "    $$0 \\le P(E) \\le 1$$\n",
    "</font><br>\n",
    "\n",
    "The <b>probability of the sample space $S$</b> must equal 1. In other words, the sum of the probabilities of all possible outcomes must equal 1.<br><br>\n",
    "<font size=\"4\">\n",
    "    $$P(S)=1$$\n",
    "</font><br>\n",
    "\n",
    "For two <b>mutually exclusive</b> events $E_1$ and $E_2$:<br><br>\n",
    "<font size=\"4\">\n",
    "    $$P(E_1 \\cup E_2)=P(E_1)+P(E_2)$$<br>\n",
    "    $$P(E_1 \\cap E_2)=P(\\emptyset)=0$$\n",
    "</font><br>\n",
    "\n",
    "If two events $E_1$ and $E_2$ have common outcomes (have some overlap in their Venn diagram), $E_1 \\cap E_2 \\ne \\emptyset$, the <b>probability of their union</b> is:<br><br>\n",
    "<font size=\"4\">\n",
    "    $$P(E_1 \\cup E_2)=P(E1)+P(E2)-P(E_1 \\cap E_2)$$\n",
    "</font><br>\n",
    "\n",
    "The intuition behind this is that if $P(E_1)$ and $P(E_2)$ were simply added, their overlap $(E_1 \\cap E_2)$ would be counted twice. So, it is appropriate to subtract the probability of their overlap $P(E_1 \\cap E_2)$ once.<br>\n",
    "\n",
    "Extending this to 3 events $E_1$, $E_2$, and $E_3$:<br><br>\n",
    "<font size=\"4\">\n",
    "    $$P(E_1 \\cup E_2 \\cup E_3)=P(E_1)+P(E_2)+P(E_3)-P(E_1 \\cap E_2)-P(E_1 \\cap E_3)-P(E_2 \\cap E_3)+P(E_1 \\cap E_2 \\cap E_3)$$\n",
    "</font>"
   ]
  },
  {
   "cell_type": "markdown",
   "metadata": {},
   "source": [
    "<h2>Conditional Probability</h2>\n",
    "\n",
    "Of all the times $E_1$ has occurred, what proportion of these will $E_2$ also occur? This is known as <b>conditional probability</b> of $E_2$ given $E_1$: $P(E_2 \\mid E_1)$. In other words, $P(E_2 \\mid E_1)$ is the probability that $E_2$ will occur when $E_1$ has already occurred:<br><br>\n",
    "<font size=\"4\">\n",
    "    $$P(E_2 \\mid E_1)=\\frac{P(E_2 \\cap E_1)}{P(E_1)}$$\n",
    "</font><br>\n",
    "\n",
    "The intution behind this is to recognize that the conditional probability $P(E_2 \\mid E_1)$ is the proportion/fraction of times that $E_2$ occurs when $E_1$ has already occurred.\n",
    "\n",
    "The probability of the intersection between two events $E_1$ and $E_2$ can be expressed in terms of conditional probabilities by the <b>multiplication rule</b>:<br><br>\n",
    "<font size=\"4\">\n",
    "    $$P(E_1 \\cap E_2)=P(E_1 \\mid E_2) \\times P(E_2)=P(E_2 \\mid E_1) \\times E_1$$\n",
    "</font><br>\n",
    "\n",
    "Intuition: The conditional probability notation $\\mid$ can \"kind of\" be treated like the divide $\\frac{x}{y}$ operator.\n",
    "\n",
    "For two mutually exclusive events $E_1$ and $E_2$, the <b>total probability rule</b> states that the probability of an event $E_1$ is:<br><br>\n",
    "<center><font size=\"4\">$$P(E_1)=P(E_1 \\cap E_2)+P(E_1 \\cap 'E_2)=P(E_1 \\mid E_2) \\times P(E_2)+P(E_1 \\mid 'E_2) \\times P('E_2)$$</font></center><br>\n",
    "This can be extended to multiple events. Say there are only 5 events in a sample space S:<br><br>\n",
    "<font size=\"4\">\n",
    "        \\begin{align}\n",
    "        P(E_1)&=P(E_1 \\cap E_2)+P(E_1 \\cap E_3)+P(E_1 \\cap E_4)+P(E_1 \\cap E_5)\\\\\n",
    "        &=P(E_1 \\mid E_2) \\times P(E_2)+P(E_1 \\mid E_3) \\times P(E_3)+P(E_1 \\mid E_4) \\times P(E_4)+P(E_1 \\mid E_5) \\times\n",
    "            P(E_5)\n",
    "        \\end{align}\n",
    "</font>"
   ]
  },
  {
   "cell_type": "markdown",
   "metadata": {},
   "source": [
    "Two events $E_1$ and $E_2$ are <b>independent</b> when the occurrence of $E_1$ does not affect the probability of $E_2$ occurring and vice versa. The following are properties of the probabilities of two independent events:<br><br>\n",
    "<font size=\"4\">\n",
    "    $$P(E_1 \\mid E_2) = P(E_1)$$<br>\n",
    "    $$P(E_1 \\cap E_2) = P(E_1)P(E_2)$$\n",
    "</font>"
   ]
  }
 ],
 "metadata": {
  "kernelspec": {
   "display_name": "Python 3",
   "language": "python",
   "name": "python3"
  },
  "language_info": {
   "codemirror_mode": {
    "name": "ipython",
    "version": 3
   },
   "file_extension": ".py",
   "mimetype": "text/x-python",
   "name": "python",
   "nbconvert_exporter": "python",
   "pygments_lexer": "ipython3",
   "version": "3.9.7"
  }
 },
 "nbformat": 4,
 "nbformat_minor": 4
}
