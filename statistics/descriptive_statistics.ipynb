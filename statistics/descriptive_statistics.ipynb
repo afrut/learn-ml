{
 "cells": [
  {
   "cell_type": "markdown",
   "metadata": {},
   "source": [
    "This notebook aims to be an informal reference for descriptive statistics aimed at engineers. All content here is taken from Montgomery and Runger - Applied Statistics and Probability for Engineers 7ed."
   ]
  },
  {
   "cell_type": "markdown",
   "metadata": {},
   "source": [
    "<h1>Descriptive Statistics</h1>\n",
    "\n",
    "For a sample with $n$ observations $\\{x_1, x_2, x_3, \\ldots, x_n\\}$:\n",
    "\n",
    "The sample mean is:<br><br>\n",
    "<font size=\"4\">\n",
    "    $$\\overline{x}=\\frac{\\sum_{i=1}^{n}{x_i}}{n}$$\n",
    "</font>\n",
    "\n",
    "The sample variance is:<br><br>\n",
    "<font size=\"4\">\n",
    "    $$s^2=\\frac{\\sum_{i=1}^{n}{(x_i - \\overline{x})}}{n - 1}$$\n",
    "</font>\n",
    "\n",
    "The sample range is:<br><br>\n",
    "<font size=\"4\">\n",
    "    $$r=\\mathrm{max}(x_i) - \\mathrm{min}(x_i)$$\n",
    "</font>\n",
    "\n",
    "<h2>Visual Aids</h2><br>\n",
    "<b>Stem-and-leaf</b> diagrams divide the data into bins, provides a way to visualize the distribution of data while still displaying individual values. They work well for smaller data sets but struggle to be meaningful for larger data sets.<br>\n",
    "\n",
    "<b>Histograms</b> provide a way to visualize the distribution of data and can handle larger data sets. However, they do not show the individual data values.<br>\n",
    "\n",
    "<b>Box plots</b> show the distribution of data by highlighting the boundaries of the first and third quartiles. It also shows possible outliers and the distance between these outliers to the first and third quartiles.\n",
    "\n",
    "The <b>normal probability plot</b> shows how closely a data set resembles the normal probability distribution. It can show whether or not a data set has lighter or heavier tails, or how skewed the data set is relative to the normal probability distribution.\n"
   ]
  }
 ],
 "metadata": {
  "kernelspec": {
   "display_name": "Python 3",
   "language": "python",
   "name": "python3"
  },
  "language_info": {
   "codemirror_mode": {
    "name": "ipython",
    "version": 3
   },
   "file_extension": ".py",
   "mimetype": "text/x-python",
   "name": "python",
   "nbconvert_exporter": "python",
   "pygments_lexer": "ipython3",
   "version": "3.8.5"
  }
 },
 "nbformat": 4,
 "nbformat_minor": 4
}
