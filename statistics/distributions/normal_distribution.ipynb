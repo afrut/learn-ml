{
 "cells": [
  {
   "cell_type": "markdown",
   "metadata": {},
   "source": [
    "This notebook aims to be an informal reference for the normal distribution aimed at engineers. All content here is taken from Montgomery and Runger - Applied Statistics and Probability for Engineers 7ed."
   ]
  },
  {
   "cell_type": "markdown",
   "metadata": {},
   "source": [
    "<h1>Normal Distribution</h1>\n",
    "\n",
    "Suppose that there are a million balls. Take a sample of 10 balls, measure their diameters, average them and call this average a1. Take another sample of 10, measure, average, and call this a2. Take yet another sample of 10, measure, average, and call this a3. Keep repeating this (many) $n$ times to get $a_n$. If a histogram is made out of the values of $a_n$, the <b>Central Limit Theorem</b> states that this histogram will be approximate the <b>Normal Distribution</b>. In other words, the continuous random varialbe $X$, which are the averages of diameters of samples of size $n=10$, will be normally distributed.<br>\n",
    "\n",
    "Mathematically, the Normal Distribution with mean $\\mu$ and variance $\\sigma^2$ is:\n",
    "<center><font size=\"4\">\n",
    "$$f(x)=\\frac{1}{\\sqrt{2\\pi}\\sigma}e^{\\frac{-(x-\\mu)^2}{2\\sigma^2}}$$<br>\n",
    "$$x=0, 1, 2, \\ldots$$\n",
    "</font></center><br>"
   ]
  },
  {
   "cell_type": "markdown",
   "metadata": {},
   "source": [
    "<h1>Standard Normal Distribution</h1>\n",
    "\n",
    "The <b>Standard Normal Distribution</b> is obtained by modifying the normal distribution by <b>standardization</b>. Given a continuous random variable $X$, the standardized random variable $Z$ can be obtained by mean-centering and scaling by the standard deviation:<br><br>\n",
    "<center><font size=\"4\">\n",
    "$$Z=\\frac{(X-\\mu)}{\\sigma}$$\n",
    "</font></center><br>\n",
    "\n",
    "The continuous standard normal random varialbe $Z$ will be normall distributed with:<br>\n",
    "<center><font size=\"4\">\n",
    "$$\\mu=0$$<br>\n",
    "$$\\sigma^2=1$$\n",
    "</font></center><br>\n",
    "\n",
    "The standard normal distribution is usefully in calculating probabilities. Calculating probabilities of normal variables involves the integration of many normal distributions with many different means and variances. Instead, it is more convenient to standardize the random variables and only integrate the standard normal distribution to calculate probabilities:\n",
    "<center><font size=\"4\">\n",
    "$$P(X \\le x)=P(Z \\le z)=P\\left(\\frac{X-\\mu}{\\sigma} \\le \\frac{x-\\mu}{\\sigma} \\right)$$<br>\n",
    "</font></center><br>"
   ]
  },
  {
   "cell_type": "markdown",
   "metadata": {},
   "source": [
    "<h1>Standard Normal Approximation to the Binomial Distribution</h1>\n",
    "\n",
    "It is sometimes convenient to approximate a binomial random variable with a standard normal variable for the purposes of <b>calculating probabilities</b>. Given $X$ is a binomial random variable with parameters $n$ and $p$, the standard normal variable $Z$ is calculated as follows:<br><br>\n",
    "<center><font size=\"4\">\n",
    "$$Z=\\frac{X-np}{\\sqrt{np(1-p)}}$$\n",
    "</font></center><br>\n",
    "\n",
    "Approximating probabilities can be computed as follows:<br>\n",
    "<center><font size=\"4\">\n",
    "$$P(X \\le x)=P(X \\le x+0.5)\\approx P\\left(Z \\le \\frac{x+0.5-np}{\\sqrt{np(1-p)}} \\right)$$\n",
    "$$P(X \\ge x)=P(X \\ge x-0.5)\\approx P\\left(Z \\ge \\frac{x-0.5-np}{\\sqrt{np(1-p)}} \\right)$$\n",
    "</font></center><br>\n",
    "\n",
    "These approximations are good when:\n",
    "<center><font size=\"4\">\n",
    "$$np \\gt 5$$<br>\n",
    "$$n(1-p) \\gt 5$$\n",
    "</font></center><br>"
   ]
  }
 ],
 "metadata": {
  "kernelspec": {
   "display_name": "Python 3",
   "language": "python",
   "name": "python3"
  },
  "language_info": {
   "codemirror_mode": {
    "name": "ipython",
    "version": 3
   },
   "file_extension": ".py",
   "mimetype": "text/x-python",
   "name": "python",
   "nbconvert_exporter": "python",
   "pygments_lexer": "ipython3",
   "version": "3.8.5"
  }
 },
 "nbformat": 4,
 "nbformat_minor": 4
}
