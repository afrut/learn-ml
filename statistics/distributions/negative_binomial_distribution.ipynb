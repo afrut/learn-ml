{
 "cells": [
  {
   "cell_type": "markdown",
   "metadata": {},
   "source": [
    "This notebook aims to be an informal reference for the negative binomial distribution aimed at engineers. All content here is taken from Montgomery and Runger - Applied Statistics and Probability for Engineers 7ed."
   ]
  },
  {
   "cell_type": "markdown",
   "metadata": {},
   "source": [
    "<h1>Negative Binomial Distribution</h1>\n",
    "\n",
    "The <b>Negative Binomial Distribution</b> of a discrete random variable $X$ gives the probability of performing $x$ independent Bernoulli trials of constant probability $p$ until $r$ successes are encountered. It answers the question, \"If a coin is to be flipped until 5 tails are encountered, what is the probability that 20 flips will be executed when the coin comes up tails 2/10 times?\" Here, $r=5$, $x=20$, and $p=0.2$.<br>\n",
    "\n",
    "Mathematically, the Negative Binomial Distribution is:\n",
    "<center><font size=\"4\">\n",
    "$$f(x)={x-1 \\choose r-1}(1-p)^{x-r}p^r$$<br>\n",
    "$$x=r, r+1, r+2, \\ldots$$\n",
    "</font></center><br>\n",
    "\n",
    "The mean and variance of the Binomial Distribution are:\n",
    "<center><font size=\"4\">\n",
    "$$\\mu=E(X)=\\frac{r}{p}$$<br>\n",
    "$$\\sigma^2=V(X)=\\frac{r(1-p)}{p^2}$$\n",
    "</font></center><br>"
   ]
  }
 ],
 "metadata": {
  "kernelspec": {
   "display_name": "Python 3",
   "language": "python",
   "name": "python3"
  },
  "language_info": {
   "codemirror_mode": {
    "name": "ipython",
    "version": 3
   },
   "file_extension": ".py",
   "mimetype": "text/x-python",
   "name": "python",
   "nbconvert_exporter": "python",
   "pygments_lexer": "ipython3",
   "version": "3.8.5"
  }
 },
 "nbformat": 4,
 "nbformat_minor": 4
}
