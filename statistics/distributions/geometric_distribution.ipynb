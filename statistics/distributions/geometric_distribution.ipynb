{
 "cells": [
  {
   "cell_type": "markdown",
   "metadata": {},
   "source": [
    "This notebook aims to be an informal reference for the geometric distribution aimed at engineers. All content here is taken from Montgomery and Runger - Applied Statistics and Probability for Engineers 7ed."
   ]
  },
  {
   "cell_type": "markdown",
   "metadata": {},
   "source": [
    "<h1>Geometric Distribution</h1>\n",
    "\n",
    "The <b>Geometric Distribution</b> of a discrete random variable $X$ gives the probability of encountering the first success after performing $x$ independent Bernoulli trials of constant probability $p$. So, it answers the question, \"What is the probability of obtaining the first tail after 10 coin flips, if the coin has a probability of coming up tails 2/10 times?\" Here, $x=10$, and $p$ is 0.2.<br>\n",
    "\n",
    "Mathematically, the Geometric Distribution is:<br>\n",
    "<center><font size=\"4\">\n",
    "$$f(x)=(1-p)^{x-1}p$$<br>\n",
    "$$x=1,2, \\ldots$$\n",
    "</font></center><br>\n",
    "\n",
    "The mean and variance of the Geometric Distribution are:\n",
    "<center><font size=\"4\">\n",
    "$$\\mu=E(X)=\\frac{1}{p}$$<br>\n",
    "$$\\sigma^2=V(X)=\\frac{1-p}{p^2}$$\n",
    "</font></center><br>"
   ]
  }
 ],
 "metadata": {
  "kernelspec": {
   "display_name": "Python 3",
   "language": "python",
   "name": "python3"
  },
  "language_info": {
   "codemirror_mode": {
    "name": "ipython",
    "version": 3
   },
   "file_extension": ".py",
   "mimetype": "text/x-python",
   "name": "python",
   "nbconvert_exporter": "python",
   "pygments_lexer": "ipython3",
   "version": "3.8.5"
  }
 },
 "nbformat": 4,
 "nbformat_minor": 4
}
