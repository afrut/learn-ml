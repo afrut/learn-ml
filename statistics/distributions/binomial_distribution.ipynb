{
 "cells": [
  {
   "cell_type": "markdown",
   "metadata": {},
   "source": [
    "This notebook aims to be an informal reference for the binomial distribution aimed at engineers. All content here is taken from Montgomery and Runger - Applied Statistics and Probability for Engineers 7ed."
   ]
  },
  {
   "cell_type": "markdown",
   "metadata": {},
   "source": [
    "<h1>Bernoulli Trial</h1>\n",
    "\n",
    "A <b>Bernoulli trial</b> is a random experiment with only two outcomes, 0 or 1. The probability of obtaining 0 or 1 may not be equal. For example, the probability of obtaining tails when flipping a (very) unfair coin could be 0.8, and the probability of obtaining heads is necessarily 0.2."
   ]
  },
  {
   "cell_type": "markdown",
   "metadata": {},
   "source": [
    "<h1>Binomial Distribution</h1>\n",
    "\n",
    "The <b>Binomial Distribution</b> of a discrete random variable $X$ gives the probability of encountering $x$ successful outcomes in $n$ independent Bernoulli trials of constant probability $p$. For example, take a coin that has a probability of landing tails 1/10 times. If the coin is flipped 20 times, what is the probability of getting exactly $x=5$ tails? Here, $n=20$, $p=0.1$, and $x=5$.<br>\n",
    "\n",
    "Mathematically, the Binomial Distribution is:\n",
    "<center><font size=\"4\">\n",
    "$$f(x)={n \\choose x}p^x(1-p)^{n-x}$$<br>\n",
    "$$x=0, 1, 2, \\ldots, n$$\n",
    "</font></center><br>\n",
    "\n",
    "The mean and variance of the Binomial Distribution are:\n",
    "<center><font size=\"4\">\n",
    "$$\\mu=E(X)=np$$<br>\n",
    "$$\\sigma^2=V(X)=np(1-p)$$\n",
    "</font></center><br>"
   ]
  }
 ],
 "metadata": {
  "kernelspec": {
   "display_name": "Python 3",
   "language": "python",
   "name": "python3"
  },
  "language_info": {
   "codemirror_mode": {
    "name": "ipython",
    "version": 3
   },
   "file_extension": ".py",
   "mimetype": "text/x-python",
   "name": "python",
   "nbconvert_exporter": "python",
   "pygments_lexer": "ipython3",
   "version": "3.8.5"
  }
 },
 "nbformat": 4,
 "nbformat_minor": 4
}
