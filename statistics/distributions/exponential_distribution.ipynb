{
 "cells": [
  {
   "cell_type": "markdown",
   "metadata": {},
   "source": [
    "This notebook aims to be an informal reference for the exponential distribution aimed at engineers. All content here is taken from Montgomery and Runger - Applied Statistics and Probability for Engineers 7ed."
   ]
  },
  {
   "cell_type": "markdown",
   "metadata": {},
   "source": [
    "<h1>Exponential Distribution</h1>\n",
    "\n",
    "Given a Poisson process with a mean number of successes per unit $\\lambda$, the <b>Exponential Distribution</b> gives the probability of having a distance $x$ between two instances of successes. Suppose that a length of wire has 2.3 flaws per mm. What is the probability of having no flaws in 10 mm of wire? Here, $\\lambda=2.3$, and $x=10$.<br>\n",
    "\n",
    "Mathematically, the exponential distribution is:\n",
    "<center><font size=\"4\">\n",
    "$$f(x)=\\lambda e^{-\\lambda x}$$<br>\n",
    "$$0 \\le x \\le \\infty$$\n",
    "</font></center><br>\n",
    "\n",
    "The mean and variance of the exponential distribution are:\n",
    "<center><font size=\"4\">\n",
    "$$\\mu=E(X)=\\frac{1}{\\lambda}$$<br>\n",
    "$$\\sigma^2=V(X)=\\frac{1}{\\lambda^2}$$\n",
    "</font></center><br>\n",
    "\n",
    "The exponential distribution has a property called <b>lack of memory</b>. Using the example, suppose that a flaw has not been encountered in 60 mm of wire. What is the probability that a flaw will be encountered in the next 10 mm (or in 70 mm of wire)? It might be tempting to assume that because there were no flaws in 60 mm of wire, it is \"overdue\" for a flaw. However, the probability of encountering a flaw in the next 10 mm of wire <b>independent of the past</b>. That is, it is independent of the fact that a flaw has not been encountered in the last 60 mm. Mathematically, <br><br>\n",
    "<center><font size=\"4\">\n",
    "$$P(X<t+a|X>t)=P(X<a)$$\n",
    "</font></center><br>\n",
    "\n",
    "Here, $t=60$ mm, and $a=10$ mm, making $t+a=70$ mm."
   ]
  }
 ],
 "metadata": {
  "kernelspec": {
   "display_name": "Python 3",
   "language": "python",
   "name": "python3"
  },
  "language_info": {
   "codemirror_mode": {
    "name": "ipython",
    "version": 3
   },
   "file_extension": ".py",
   "mimetype": "text/x-python",
   "name": "python",
   "nbconvert_exporter": "python",
   "pygments_lexer": "ipython3",
   "version": "3.9.7"
  }
 },
 "nbformat": 4,
 "nbformat_minor": 4
}
