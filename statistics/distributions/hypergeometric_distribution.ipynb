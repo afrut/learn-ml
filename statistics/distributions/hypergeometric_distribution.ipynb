{
 "cells": [
  {
   "cell_type": "markdown",
   "metadata": {},
   "source": [
    "This notebook aims to be an informal reference for counting techniques aimed at engineers. All content here is taken from Montgomery and Runger - Applied Statistics and Probability for Engineers 7ed."
   ]
  },
  {
   "cell_type": "markdown",
   "metadata": {},
   "source": [
    "<h1>Hypergeometric Distribution</h1>\n",
    "\n",
    "The <b>Hypergeometric Distribution</b> of a discrete random variable $X$ helps in the following situation. There are 100 balls in a bag. 27 of these balls are blue. If 3 balls are taken from the bag, without replacement, what is the probability of obtaining 2 blue balls? In general terms, there are $N$ objects, $K$ of which are designated as successes. If a sample of size $n$ is drawn from the $N$ objects, what is the probability that the sample contains $x$ successes? Here, $N=100$, $K=27$, $n=3$, and $x=2$.<br>\n",
    "\n",
    "Mathematically, the Hypergeometric Distribution is:\n",
    "<center><font size=\"4\">\n",
    "$$f(x)=\\frac{{K \\choose x}{N-K \\choose n-x}}{N \\choose n}$$<br>\n",
    "$x=$max$\\{0,n+K-N\\}$ to min$\\{K,n\\}$\n",
    "</font></center><br>\n",
    "\n",
    "The mean and variance of the Hypergeometric Distribution are:\n",
    "<center><font size=\"4\">\n",
    "$$\\mu=E(X)=np$$<br>\n",
    "$$\\sigma^2=V(X)=np(1 - p)\\left( \\frac{N - n}{N - 1} \\right)$$<br>\n",
    "$$p = \\frac{K}{N}$$\n",
    "</font></center><br>"
   ]
  }
 ],
 "metadata": {
  "kernelspec": {
   "display_name": "Python 3",
   "language": "python",
   "name": "python3"
  },
  "language_info": {
   "codemirror_mode": {
    "name": "ipython",
    "version": 3
   },
   "file_extension": ".py",
   "mimetype": "text/x-python",
   "name": "python",
   "nbconvert_exporter": "python",
   "pygments_lexer": "ipython3",
   "version": "3.8.5"
  }
 },
 "nbformat": 4,
 "nbformat_minor": 4
}
