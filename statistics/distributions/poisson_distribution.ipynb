{
 "cells": [
  {
   "cell_type": "markdown",
   "metadata": {},
   "source": [
    "This notebook aims to be an informal reference for the Poisson distribution aimed at engineers. All content here is taken from Montgomery and Runger - Applied Statistics and Probability for Engineers 7ed."
   ]
  },
  {
   "cell_type": "markdown",
   "metadata": {},
   "source": [
    "<h1>Poisson Distribution</h1>\n",
    "\n",
    "The <b>Poisson Distribution</b> of a discrete random variable $X$ helps in the following situation. Suppose that a length of wire has 2.3 flaws per mm. What is the probability of having 5 flaws in 10 mm of wire? This is called a <b>Poisson process</b>. When an average number of successes per unit $\\lambda$ is given, the Poisson Distribution gives the probability of encountering $x$ successes in $T$ units. In the example above, $\\lambda=2.3$, $T=10$, and $x=5$.<br>\n",
    "\n",
    "Mathematically, the Poisson Distribution is:\n",
    "<center><font size=\"4\">\n",
    "$$f(x)=\\frac{e^{-\\lambda T}(\\lambda T)^x}{x!}$$<br>\n",
    "$$x=0, 1, 2, \\ldots$$\n",
    "</font></center><br>\n",
    "\n",
    "The mean and variance of the Poisson Distribution are:\n",
    "<center><font size=\"4\">\n",
    "$$\\mu=E(X)=\\lambda T$$<br>\n",
    "$$\\sigma^2=V(X)=\\lambda T$$\n",
    "</font></center><br>"
   ]
  }
 ],
 "metadata": {
  "kernelspec": {
   "display_name": "Python 3",
   "language": "python",
   "name": "python3"
  },
  "language_info": {
   "codemirror_mode": {
    "name": "ipython",
    "version": 3
   },
   "file_extension": ".py",
   "mimetype": "text/x-python",
   "name": "python",
   "nbconvert_exporter": "python",
   "pygments_lexer": "ipython3",
   "version": "3.9.7"
  }
 },
 "nbformat": 4,
 "nbformat_minor": 4
}
