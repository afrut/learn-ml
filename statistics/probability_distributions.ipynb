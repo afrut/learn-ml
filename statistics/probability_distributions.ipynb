{
 "cells": [
  {
   "cell_type": "markdown",
   "metadata": {},
   "source": [
    "This notebook aims to be an informal reference for probability distributions aimed at engineers. All content here is taken from Montgomery and Runger - Applied Statistics and Probability for Engineers 7ed."
   ]
  },
  {
   "cell_type": "markdown",
   "metadata": {},
   "source": [
    "<h1>Probability Distributions</h1>\n",
    "\n",
    "A <b>probability mass function</b>(pmf) $f(x_i)$ characterizes the probability distribution of a <u>discrete</u> random variable. It can be thought of as a function outputs the probability of the discrete value $x_i$. It is kind of like a bar chart/histogram where the y values are probabilities instead of counts.<br>\n",
    "\n",
    "A pmf $f(x_i)$ has the following properties owing to the fact that its outputs are probabilities:<br>\n",
    "\n",
    "All probabilities are non-negative:\n",
    "<font size=\"4\">\n",
    "    $$f(x_i) \\ge 0$$\n",
    "</font><br>\n",
    "\n",
    "The sum of probabilities for all $x_i$ is 1:\n",
    "<font size=\"4\">\n",
    "    $$\\sum_{i=1}^k{f(x_i)}=1$$\n",
    "</font><br>\n",
    "\n",
    "The value of the pmf at each $x_i$ is the probability of $x_i$:<br><br>\n",
    "<font size=\"4\">\n",
    "    $$f(x_i)=P(X=x_i)$$\n",
    "</font><br>"
   ]
  },
  {
   "cell_type": "markdown",
   "metadata": {},
   "source": [
    "A <b>probability density function</b>(pdf) $f(x)$ is a function that characterizes the probability distribution of a <u>continuous</u> random variable. It is similar to the pmf except that <b>its y values are not probabilities</b>. Instead, integrating a pdf $f(x)$ over an interval of $x$ will yield the probability of $x$ being in that range. A histogram is an approximation of the pdf.<br>\n",
    "\n",
    "A pdf $f(x)$ has the following properties:<br>\n",
    "\n",
    "All probabilities are positive:\n",
    "<font size=\"4\">\n",
    "    $$f(x) \\ge 0$$\n",
    "</font><br>\n",
    "\n",
    "The sum of all probabilites over all values of $x$ is 1:\n",
    "<font size=\"4\">\n",
    "    $$\\int_{-\\infty}^{+\\infty}{f(x)\\mathrm{d}x}$$\n",
    "</font><br>\n",
    "\n",
    "The probability of encountering $x$ in the range between $a$ and $b$ is the integral of the probability density function in that range:<br><br>\n",
    "<font size=\"4\">\n",
    "    $$P(a \\le X \\le b)=\\int_a^b{f(x)\\mathrm{d}x}$$\n",
    "</font>"
   ]
  },
  {
   "cell_type": "markdown",
   "metadata": {},
   "source": [
    "A <b>cumulative distribution function</b>(cdf) $F(x)$ is a function that gives the probability of encountering values of the random variable $X$ that is less than $x$. Mathematically,<br><br>\n",
    "<font size=\"4\">\n",
    "    $$F(x)=P(X \\le x)$$\n",
    "</font><br>\n",
    "\n",
    "By definition, a cumulative distribution function involves a summation-type function.<br>\n",
    "\n",
    "For a discrete random variable $X$:\n",
    "<font size=\"4\">\n",
    "    $$F(x)=\\sum_{x_i \\le x}{f(x)}$$\n",
    "</font><br>\n",
    "\n",
    "For a continuous random variable $X$:\n",
    "<font size=\"4\">\n",
    "    $$F(x)=\\int_{-\\infty}^x{f(x)\\mathrm{d}x}$$\n",
    "</font><br>\n",
    "\n",
    "In either case, owing to the properties of probabilities, the value of $F(x)$ cannot be less than 0 or greater than 1:<br><br>\n",
    "<font size=\"4\">\n",
    "    $$0 \\le F(x) \\le 1$$\n",
    "</font><br>\n",
    "\n",
    "Furthermore, because a cdf is a summation-type function starting from the left end of the range of x, it must be monotonically increasing:<br><br>\n",
    "<font size=\"4\"><center>\n",
    "    If $a \\le b$, then $F(a) \\le F(b)$\n",
    "</center></font>"
   ]
  },
  {
   "cell_type": "markdown",
   "metadata": {},
   "source": [
    "The <b>expected value</b> of a random variable $E(X)$ can be thought of as a weighted sum of all the values of $X$ and their corresponding probabilities, $f(x)$:<br>\n",
    "\n",
    "For a discrete random variable:\n",
    "<font size=\"4\">\n",
    "    $$E(X)=\\sum_{x_i}{xf(x)}$$\n",
    "</font><br>\n",
    "\n",
    "For a continuous random variable:\n",
    "<font size=\"4\">\n",
    "    $$E(X)=\\int_{-\\infty}^{+\\infty}{xf(x)}$$\n",
    "</font><br>\n",
    "\n",
    "The expectation operator can be extended as follows:<br>\n",
    "\n",
    "For a discrete random variable:\n",
    "<font size=\"4\">\n",
    "    $$E(h(X))=\\sum_{x_i}{h(x)f(x)}$$\n",
    "</font><br>\n",
    "\n",
    "For a continuous random variable:\n",
    "<font size=\"4\">\n",
    "    $$E(h(X))=\\int_{-\\infty}^{+\\infty}{h(x)f(x)}$$\n",
    "</font><br>"
   ]
  },
  {
   "cell_type": "markdown",
   "metadata": {},
   "source": [
    "The <b>mean</b> $\\mu$ and <b>variance</b> $\\sigma^2$ of a random variable $X$ can be expressed in terms of the expectation operator:<br>\n",
    "\n",
    "For a discrete random variable:\n",
    "<font size=\"4\">\n",
    "    $$\\mu=E(X)=\\sum_{x_i}{x_if(x)}$$\n",
    "    $$\\sigma^2=E((X-\\mu)^2)=\\sum_{x_i}{(x_i-\\mu)^2f(x)}$$\n",
    "</font><br>\n",
    "\n",
    "For a continuous random variable:\n",
    "<font size=\"4\">\n",
    "    $$\\mu=E(X)=\\int_{-\\infty}^{+\\infty}{xf(x)}$$\n",
    "    $$\\sigma^2=E((X-\\mu)^2)=\\int_{-\\infty}^{+\\infty}{(x-\\mu)^2f(x)}$$\n",
    "</font><br>\n",
    "\n",
    "The <b>standard deviation</b> of a random variable X is the square root of the variance X:<br>\n",
    "<font size=\"4\">\n",
    "    $$\\sigma=\\sqrt{\\sigma^2}$$\n",
    "</font>"
   ]
  }
 ],
 "metadata": {
  "kernelspec": {
   "display_name": "Python 3",
   "language": "python",
   "name": "python3"
  },
  "language_info": {
   "codemirror_mode": {
    "name": "ipython",
    "version": 3
   },
   "file_extension": ".py",
   "mimetype": "text/x-python",
   "name": "python",
   "nbconvert_exporter": "python",
   "pygments_lexer": "ipython3",
   "version": "3.8.5"
  }
 },
 "nbformat": 4,
 "nbformat_minor": 4
}
