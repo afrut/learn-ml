{
 "cells": [
  {
   "cell_type": "markdown",
   "metadata": {
    "jp-MarkdownHeadingCollapsed": true
   },
   "source": [
    "# Procedure for Proportion of a Population"
   ]
  },
  {
   "cell_type": "markdown",
   "metadata": {},
   "source": [
    "The sampling distribution for the proportion of items that belong to a class of interest $\\hat{P} = \\frac{x}{n}$ is a binomial distribution with parameters $n$, the sample size, and $p$, the proportion of the population belonging to a class of interest. This binomial distribution can be approximated by the normal distribution. The approximated normal distribution will have the following mean and variance:\n",
    "<font size=\"4\">\n",
    "    $$\\mu=np$$<br>\n",
    "    $$\\sigma^2=np\\left( 1 - p \\right)$$\n",
    "</font><br>\n",
    "\n",
    "Thus, the following $Z$ statistic will follow the standard normal distribution:<br><br>\n",
    "<font size=\"4\">\n",
    "    $$Z=\\frac{X-np}{\\sqrt{np\\left(1-p\\right)}}$$\n",
    "</font><br>"
   ]
  },
  {
   "cell_type": "markdown",
   "metadata": {},
   "source": [
    "<ul>\n",
    "    <li>State the null and alternative hypotheses.</li>\n",
    "    <font size = \"4\">\n",
    "        $$H_0: p = p_0$$<br>\n",
    "        $$H_1: p \\ne p_0$$\n",
    "    </font><br>\n",
    "    <li>Specify a significance level $\\alpha$. A commonly-used value is $\\alpha=0.05$.</li>\n",
    "    <li>Draw a sample of size $n$.</li>\n",
    "    <li>Calculate the sample mean $np$.</li>\n",
    "</ul>"
   ]
  },
  {
   "cell_type": "markdown",
   "metadata": {},
   "source": [
    "<ul>\n",
    "    <li>The population standard deviation is known. By using the normal approximation to the binomial distribution, this is equal to $\\sqrt{np\\left(1 - p\\right)}$.</li>\n",
    "    <li>Since the population standard deviation is known, we can use the $Z$ test statistic.</li><br>\n",
    "    <font size=\"4\">\n",
    "        $$Z_0 = \\frac{X-np_0}{\\sqrt{np_0\\left(1 - p_0\\right)}}$$\n",
    "    </font><br>\n",
    "    <li>Using the standard normal distribution, calculate values of $Z$ that define the acceptance and rejection regions:</li>\n",
    "    <ul>\n",
    "        <li>If the hypothesis test is two-sided, calculate $z_{lo}$ and $z_{hi}$ such that:</li><br>\n",
    "        <font size = \"4\">\n",
    "            \\begin{align}\n",
    "            z_{lo} &= \\mathrm{ppf}\\left( \\frac{\\alpha}{2} \\right); P(Z \\le z_{lo}) = \\frac{\\alpha}{2}\\\\\\\\\n",
    "            z_{hi} &= \\mathrm{ppf}\\left( 1 - \\frac{\\alpha}{2} \\right); P(Z \\ge z_{hi}) = \\frac{\\alpha}{2}\n",
    "            \\end{align}\n",
    "        </font><br>\n",
    "        <li>If the hypothesis test is one-sided and lower-bound, calculate $z_{lo}$ such that:</li><br>\n",
    "        <font size = \"4\">\n",
    "            \\begin{align}\n",
    "            z_{lo} &= \\mathrm{ppf}\\left( \\alpha \\right); P(Z \\le z_{lo}) = \\alpha\n",
    "            \\end{align}\n",
    "        </font><br>\n",
    "        <li>If the hypothesis test is one-sided and upper-bound, calculate $z_{hi}$ such that:</li><br>\n",
    "        <font size = \"4\">\n",
    "            \\begin{align}\n",
    "            z_{hi} &= \\mathrm{ppf}\\left( 1 - \\alpha \\right); P(Z \\ge z_{hi}) = \\alpha\n",
    "            \\end{align}\n",
    "        </font><br>\n",
    "    </ul>\n",
    "</ul>"
   ]
  },
  {
   "cell_type": "markdown",
   "metadata": {},
   "source": [
    "<ul>\n",
    "    <li>Using the null value $\\mu_0$, $z_{lo}$, and $z_{hi}$, calculate the critical values $x_{lo}$ and $x_{hi}$.</li><br>\n",
    "    <font size = \"4\">\n",
    "        \\begin{align}\n",
    "        x_{lo} &= np_0 + z_{lo} \\sqrt{np_0\\left(1 - p_0\\right)}\\\\\\\\\n",
    "        x_{hi} &= np_0 + z_{hi} \\sqrt{np_0\\left(1 - p_0\\right)} \n",
    "        \\end{align}\n",
    "    </font><br>\n",
    "    <li>The critical values define the acceptance and rejection regions. Evaluate whether the sample mean $\\overline{x}$ is in the acceptance or rejection region. Accept or reject the null hypothesis appropriately.</li>\n",
    "</ul>"
   ]
  },
  {
   "cell_type": "markdown",
   "metadata": {},
   "source": [
    "# Error Types"
   ]
  },
  {
   "cell_type": "markdown",
   "metadata": {},
   "source": [
    "We can never know for sure, with 100% certainty, the value of a population parameter like $\\mu$ without knowing all the values of a population. We can only make statements about the population parameter based on evidence represented by the sample drawn from the same population."
   ]
  },
  {
   "cell_type": "markdown",
   "metadata": {},
   "source": [
    "## Type 1 Error"
   ]
  },
  {
   "cell_type": "markdown",
   "metadata": {},
   "source": [
    "Note in the procedure, that an acceptance region and rejection region is defined. In essence, what we are doing is saying, \"Well, based on what we know about sampling distributions, encountering a sample mean that is in the critical region is quite unlikely. So, we don't think the null hypothesis is true and will choose to believe the alternative hypothesis instead.\" But, there is still a small probability that the null hypothesis $H_0$ is true even when the sample mean $\\overline{x}$ is in the critical region. In other words, some percentage of the time, we will incorrectly reject the null hypothesis $H_0$. This percentage or probability is the significance level $\\alpha$. In other words, we will commit a <b>Type 1 Error</b>, incorrectly rejecting the null hypothesis $H_0$ when it is true, with a probability equal to $\\alpha$."
   ]
  },
  {
   "cell_type": "markdown",
   "metadata": {},
   "source": [
    "## Type 2 Error"
   ]
  },
  {
   "cell_type": "markdown",
   "metadata": {},
   "source": [
    "In contrast, a <b>Type 2 Error</b> is failing to reject the null hypothesis $H_0$ when it is false. Note the following about Type 2 Errors:\n",
    "- It pertains to failing to reject the null hypothesis. So, the probability of committing a Type 2 Error must lie somewhere within the acceptance region.\n",
    "- By asserting that $H_0$ is false, one needs to suspect a true value for $\\theta$, in this case, $\\mu$.\n",
    "\n",
    "In the case when the population standard deviation $\\sigma$ is known, the $Z$ variable centered around $\\mu_0$ is used:<br><br>\n",
    "<font size=\"4\">\n",
    "    $$Z_0 = \\frac{\\overline{X} - \\mu_0}{\\frac{\\sigma}{\\sqrt{n}}}$$\n",
    "</font><br>\n",
    "\n",
    "However, how does the suspected true value of $\\mu$ affect the distribution of $Z_0$? We know from the Central Limit Theorem that the sampling distribution will be approximately normal if the sample size $n$ is reasonably large, $n \\ge 30$. We also know that the sampling distribution will have a standard deviation of $\\frac{\\sigma}{n}$. Since $Z$ is simply the mean-centering and scaling of the sampling distribution, we can expect that the true sampling distribution be a normal distribution with variance $\\sigma^2$ and centered around the suspectedly true mean $\\mu_a$."
   ]
  },
  {
   "cell_type": "markdown",
   "metadata": {},
   "source": [
    "To find the probability $\\beta$ of committing a Type 2 Error, one would have to:\n",
    "<ul>\n",
    "    <li>Determine the acceptance region depending on the type of hypothesis test.</li>\n",
    "    <ul>\n",
    "        <li>For a two-sided hypothesis test, this means determining $x_{lo}$ and $x_{hi}$.</li><br>\n",
    "        <font size=\"4\">\n",
    "            $$z_{lo} = \\mathrm{ppf}\\left( \\frac{\\alpha}{2} \\right)$$<br>\n",
    "            $$z_{hi} = \\mathrm{ppf}\\left( 1 - \\frac{\\alpha}{2} \\right)$$<br>\n",
    "            $$x_{lo} = \\mu_0 + z_{lo}\\frac{\\sigma}{\\sqrt{n}}$$<br>\n",
    "            $$x_{hi} = \\mu_0 + z_{hi}\\frac{\\sigma}{\\sqrt{n}}$$<br>\n",
    "        </font>\n",
    "        <li>For a one-sided lower bound hypothesis test, this means determining $x_{lo}$.</li><br>\n",
    "        <font size=\"4\">\n",
    "            $$z_{lo} = \\mathrm{ppf}\\left( \\alpha \\right)$$<br>\n",
    "            $$x_{lo} = \\mu_0 + z_{lo}\\frac{\\sigma}{\\sqrt{n}}$$<br>\n",
    "        </font>\n",
    "        <li>For a one-sided upper bound hypothesis test, this means determining $x_{hi}$.</li><br>\n",
    "        <font size=\"4\">\n",
    "            $$z_{hi} = \\mathrm{ppf}\\left( 1 - \\frac{\\alpha}{2} \\right)$$<br>\n",
    "            $$x_{hi} = \\mu_0 + z_{hi}\\frac{\\sigma}{\\sqrt{n}}$$<br>\n",
    "        </font>\n",
    "    </ul>\n",
    "</ul>"
   ]
  },
  {
   "cell_type": "markdown",
   "metadata": {},
   "source": [
    "<ul>\n",
    "    <li>Then, with a normal distribution centered around $\\mu_a$, calculate the probability of observing a sample mean $\\overline{x}$ within the acceptance region.</li><br>\n",
    "    <ul>\n",
    "        <li> For convenience, we define the suspectedly true mean $\\mu_a$ as an offset from $\\mu_0$:</li><br>\n",
    "        <font size=\"4\">\n",
    "            $$\\mu_a=\\mu_0 + \\delta$$\n",
    "        </font><br>\n",
    "        <li>For a two-sided hypothesis test:</li><br>\n",
    "        <font size=\"4\">\n",
    "            \\begin{align}\n",
    "            \\beta&=P\\left(x_{lo} \\le \\overline{X} \\le x_{hi}\\right)\\\\\n",
    "            &=P\\left(\\overline{X} \\le x_{hi}\\right) - P\\left(\\overline{X} \\le x_{lo}\\right)\\\\\n",
    "            &=P \\left(Z \\le \\frac{x_{hi} - \\mu_a}{\\frac{\\sigma}{\\sqrt{n}}}\\right) - P \\left(Z \\le \\frac{x_{lo} - \\mu_a}{\\frac{\\sigma}{\\sqrt{n}}}\\right)\\\\\n",
    "            &=P \\left(Z \\le \\frac{\\mu_0 + z_{hi}\\frac{\\sigma}{\\sqrt{n}} - \\mu_a}{\\frac{\\sigma}{\\sqrt{n}}}\\right) - P \\left(Z \\le \\frac{\\mu_0 + z_{lo}\\frac{\\sigma}{\\sqrt{n}} - \\mu_a}{\\frac{\\sigma}{\\sqrt{n}}}\\right)\\\\\n",
    "            &=P \\left(Z \\le \\frac{\\mu_0 + z_{hi}\\frac{\\sigma}{\\sqrt{n}} - \\mu_0 - \\delta}{\\frac{\\sigma}{\\sqrt{n}}}\\right) - P -\\left(Z \\le \\frac{\\mu_0 + z_{lo}\\frac{\\sigma}{\\sqrt{n}} - \\mu_0 - \\delta}{\\frac{\\sigma}{\\sqrt{n}}}\\right)\\\\\n",
    "            &=P \\left(Z \\le \\frac{z_{hi}\\frac{\\sigma}{\\sqrt{n}} - \\delta}{\\frac{\\sigma}{\\sqrt{n}}}\\right) - P \\left(Z \\le \\frac{z_{lo}\\frac{\\sigma}{\\sqrt{n}} - \\delta}{\\frac{\\sigma}{\\sqrt{n}}}\\right)\\\\\n",
    "            &=P \\left(Z \\le z_{hi} - \\frac{\\delta}{\\frac{\\sigma}{\\sqrt{n}}}\\right) - P \\left(Z \\le z_{lo} - \\frac{\\delta}{\\frac{\\sigma}{\\sqrt{n}}}\\right)\\\\\n",
    "            &=P \\left(Z \\le z_{hi} - \\frac{\\delta\\sqrt{n}}{\\sigma}\\right) - P \\left(Z \\le z_{lo} - \\frac{\\delta\\sqrt{n}}{\\sigma}\\right)\\\\\n",
    "            &=P \\left(Z \\le \\mathrm{ppf}\\left(1 - \\frac{\\alpha}{2}\\right) - \\frac{\\delta\\sqrt{n}}{\\sigma}\\right) - P \\left(Z \\le \\mathrm{ppf}\\left(\\frac{\\alpha}{2}\\right) - \\frac{\\delta\\sqrt{n}}{\\sigma}\\right)\n",
    "            \\end{align}\n",
    "        </font><br>\n",
    "        <li>For a one-sided lower-bound hypothesis test:</li><br>\n",
    "        <font size=\"4\">\n",
    "            \\begin{align}\n",
    "            \\beta&=P \\left( \\overline{X} \\ge x_{lo} \\right)\\\\\n",
    "            &=1 - P\\left(\\overline{X} \\le x_{lo}\\right)\\\\\n",
    "            &=1 - P \\left(Z \\le \\frac{x_{lo} - \\mu_a}{\\frac{\\sigma}{\\sqrt{n}}} \\right)\\\\\n",
    "            &=1 - P \\left(Z \\le \\frac{\\mu_0 + z_{lo}\\frac{\\sigma}{\\sqrt{n}} - \\mu_a}{\\frac{\\sigma}{\\sqrt{n}}} \\right)\\\\\n",
    "            &=1 - P \\left(Z \\le \\frac{\\mu_0 + z_{lo}\\frac{\\sigma}{\\sqrt{n}} - \\mu_0 - \\delta}{\\frac{\\sigma}{\\sqrt{n}}} \\right)\\\\\n",
    "            &=1 - P \\left(Z \\le \\frac{z_{lo}\\frac{\\sigma}{\\sqrt{n}} - \\delta}{\\frac{\\sigma}{\\sqrt{n}}} \\right)\\\\\n",
    "            &=1 - P \\left(Z \\le z_{lo} - \\frac{\\delta}{\\frac{\\sigma}{\\sqrt{n}}} \\right)\\\\\n",
    "            &=1 - P \\left(Z \\le z_{lo} - \\frac{\\delta\\sqrt{n}}{\\sigma} \\right)\\\\\n",
    "            &=1 - P \\left(Z \\le \\mathrm{ppf}\\left(\\alpha\\right) - \\frac{\\delta\\sqrt{n}}{\\sigma} \\right)\n",
    "            \\end{align}\n",
    "        </font><br>\n",
    "        <li>For a one-sided upper-bound hypothesis test:</li><br>\n",
    "        <font size=\"4\">\n",
    "            \\begin{align}\n",
    "            \\beta&=P \\left( \\overline{X} \\le x_{hi} \\right)\\\\\n",
    "            &=P \\left( Z \\le \\frac{x_{hi} - \\mu_a}{\\frac{\\sigma}{\\sqrt{n}}} \\right)\\\\\n",
    "            &=P \\left( Z \\le \\frac{\\mu_0 + z_{hi}\\frac{\\sigma}{\\sqrt{n}} - \\mu_a}{\\frac{\\sigma}{\\sqrt{n}}} \\right)\\\\\n",
    "            &=P \\left( Z \\le \\frac{\\mu_0 + z_{hi}\\frac{\\sigma}{\\sqrt{n}} - \\mu_0 - \\delta}{\\frac{\\sigma}{\\sqrt{n}}} \\right)\\\\\n",
    "            &=P \\left( Z \\le z_{hi} - \\frac{\\delta}{\\frac{\\sigma}{\\sqrt{n}}} \\right)\\\\\n",
    "            &=P \\left( Z \\le z_{hi} - \\frac{\\delta\\sqrt{n}}{\\sigma} \\right)\\\\\n",
    "            &=P \\left( Z \\le \\mathrm{ppf}\\left(1 - \\alpha\\right) - \\frac{\\delta\\sqrt{n}}{\\sigma} \\right)\n",
    "            \\end{align}\n",
    "        </font>\n",
    "    </ul>"
   ]
  },
  {
   "cell_type": "markdown",
   "metadata": {},
   "source": [
    "### Controlling $\\beta$ by Changing Sample Size"
   ]
  },
  {
   "cell_type": "markdown",
   "metadata": {},
   "source": [
    "It is possible to compute an appropriate sample size that will result in a desired probability for committing Type 2 Errors. See hypothesis_testing.py for better visual aids."
   ]
  },
  {
   "cell_type": "markdown",
   "metadata": {
    "jp-MarkdownHeadingCollapsed": true
   },
   "source": [
    "#### For Two-Sided Hypothesis Tests"
   ]
  },
  {
   "cell_type": "markdown",
   "metadata": {
    "jp-MarkdownHeadingCollapsed": true
   },
   "source": [
    "The probability of Type 2 Errors is:\n",
    "<font size=\"4\">\n",
    "    $$\\beta = P\\left( x_{lo} \\le \\overline{X} \\le x_{hi} \\right)$$\n",
    "</font><br>\n",
    "\n",
    "For $\\delta > 0$:\n",
    "<font size=\"4\">\n",
    "    $$\\beta = P\\left( \\overline{X} \\le x_{hi} \\right)  - P\\left( \\overline{X} \\le x_{lo} \\right)$$<br>\n",
    "    $$P \\left(\\overline{X} \\le x_{lo} \\right) \\approx 0$$<br>\n",
    "    $$\\beta \\approx P \\left( \\overline{X} \\le x_{hi} \\right)$$<br>\n",
    "    $$\\beta \\approx P \\left( Z \\le \\frac{x_{hi} - \\mu_a}{\\frac{\\sigma}{\\sqrt{n}}} \\right)$$<br>\n",
    "    $$\\beta \\approx P \\left( Z \\le \\frac{\\mu_0 + z_{hi}\\frac{\\sigma}{\\sqrt{n}} - \\mu_0 - \\delta}{\\frac{\\sigma}{\\sqrt{n}}} \\right)$$<br>\n",
    "    $$\\beta \\approx P \\left( Z \\le \\frac{z_{hi}\\frac{\\sigma}{\\sqrt{n}} - \\delta}{\\frac{\\sigma}{\\sqrt{n}}} \\right)$$<br>\n",
    "    $$\\beta \\approx P \\left( Z \\le z_{hi} - \\frac{\\delta}{\\frac{\\sigma}{\\sqrt{n}}} \\right)$$<br>\n",
    "    $$\\beta \\approx P \\left( Z \\le z_{hi} - \\frac{\\delta\\sqrt{n}}{\\sigma} \\right)$$<br>\n",
    "    $$\\mathrm{ppf}\\left(\\beta \\right) \\approx z_{hi} - \\frac{\\delta\\sqrt{n}}{\\sigma}$$<br>\n",
    "    $$\\mathrm{ppf}\\left(\\beta \\right) - z_{hi} \\approx - \\frac{\\delta\\sqrt{n}}{\\sigma}$$<br>\n",
    "    $$z_{hi} - \\mathrm{ppf}\\left(\\beta \\right) \\approx \\frac{\\delta\\sqrt{n}}{\\sigma}$$<br>\n",
    "    $$\\sigma\\left(z_{hi} - \\mathrm{ppf}\\left(\\beta \\right)\\right) \\approx \\delta\\sqrt{n}$$<br>\n",
    "    $$\\sqrt{n} \\approx \\frac{\\sigma\\left(z_{hi} - \\mathrm{ppf}\\left(\\beta \\right)\\right)}{\\delta}$$<br>\n",
    "    $$n \\approx \\left( \\frac{\\sigma\\left(z_{hi} - \\mathrm{ppf}\\left(\\beta \\right)\\right)}{\\delta} \\right)^2$$\n",
    "    $$n \\approx \\left( \\frac{\\sigma\\left(\\mathrm{ppf}\\left(1 - \\frac{\\alpha}{2}\\right) - \\mathrm{ppf}\\left(\\beta \\right)\\right)}{\\delta} \\right)^2$$\n",
    "</font><br>"
   ]
  },
  {
   "cell_type": "markdown",
   "metadata": {},
   "source": [
    "For $\\delta < 0$:\n",
    "<font size = \"4\">\n",
    "    $$\\beta = P\\left( \\overline{X} \\ge x_{lo}\\right) - P\\left( \\overline{X} \\ge x_{hi}\\right)$$<br>\n",
    "    $$P\\left( \\overline{X} \\ge x_{hi}\\right) \\approx 0$$<br>\n",
    "    $$\\beta \\approx P\\left( \\overline{X} \\ge x_{lo}\\right)$$<br>\n",
    "    $$\\beta \\approx 1 - P\\left( \\overline{X} \\le x_{lo}\\right)$$<br>\n",
    "    $$\\beta \\approx 1 - P\\left( Z \\le \\frac{x_{lo} - \\mu_a}{\\frac{\\sigma}{\\sqrt{n}}}\\right)$$<br>\n",
    "    $$\\beta \\approx 1 - P\\left( Z \\le \\frac{\\mu_0 + z_{lo}\\frac{\\sigma}{\\sqrt{n}} - \\mu_0 - \\delta}{\\frac{\\sigma}{\\sqrt{n}}}\\right)$$<br>\n",
    "    $$\\beta \\approx 1 - P\\left( Z \\le \\frac{z_{lo}\\frac{\\sigma}{\\sqrt{n}} - \\delta}{\\frac{\\sigma}{\\sqrt{n}}}\\right)$$<br>\n",
    "    $$\\beta \\approx 1 - P\\left( Z \\le z_{lo} - \\frac{\\delta}{\\frac{\\sigma}{\\sqrt{n}}}\\right)$$<br>\n",
    "    $$\\beta \\approx 1 - P\\left( Z \\le z_{lo} - \\frac{\\delta\\sqrt{n}}{\\sigma}\\right)$$<br>\n",
    "    $$\\beta - 1\\approx - P\\left( Z \\le z_{lo} - \\frac{\\delta\\sqrt{n}}{\\sigma}\\right)$$<br>\n",
    "    $$1 - \\beta \\approx P\\left( Z \\le z_{lo} - \\frac{\\delta\\sqrt{n}}{\\sigma}\\right)$$<br>\n",
    "    $$\\mathrm{ppf}\\left(1 - \\beta\\right) \\approx z_{lo} - \\frac{\\delta\\sqrt{n}}{\\sigma}$$<br>\n",
    "    $$\\mathrm{ppf}\\left(1 - \\beta\\right) - z_{lo}\\approx - \\frac{\\delta\\sqrt{n}}{\\sigma}$$<br>\n",
    "    $$z_{lo} - \\mathrm{ppf}\\left(1 - \\beta\\right) \\approx \\frac{\\delta\\sqrt{n}}{\\sigma}$$<br>\n",
    "    $$\\sigma \\left(z_{lo} - \\mathrm{ppf}\\left(1 - \\beta\\right)\\right) \\approx \\delta\\sqrt{n}$$<br>\n",
    "    $$\\delta\\sqrt{n} \\approx \\sigma \\left(z_{lo} - \\mathrm{ppf}\\left(1 - \\beta\\right)\\right)$$<br>\n",
    "    $$\\sqrt{n} \\approx \\frac{\\sigma \\left(z_{lo} - \\mathrm{ppf}\\left(1 - \\beta\\right)\\right)}{\\delta}$$<br>\n",
    "    $$n \\approx \\left(\\frac{\\sigma \\left(\\mathrm{ppf}\\left(\\frac{\\alpha}{2}\\right) - \\mathrm{ppf}\\left(1 - \\beta\\right)\\right)}{\\delta}\\right)^2$$\n",
    "</font><br>"
   ]
  },
  {
   "cell_type": "markdown",
   "metadata": {
    "jp-MarkdownHeadingCollapsed": true
   },
   "source": [
    "#### For One-Sided Lower-bound Hypothesis Tests"
   ]
  },
  {
   "cell_type": "markdown",
   "metadata": {},
   "source": [
    "<font size=\"4\">\n",
    "    $$\\beta = P\\left( \\overline{X} \\ge x_{lo}\\right)$$<br>\n",
    "    $$\\beta = 1 - P\\left( \\overline{X} \\le x_{lo}\\right)$$<br>\n",
    "    $$\\beta = 1 - P\\left( Z \\le \\frac{x_{lo} - \\mu_a}{\\frac{\\sigma}{\\sqrt{n}}}\\right)$$<br>\n",
    "    $$\\beta = 1 - P\\left( Z \\le \\frac{\\mu_0 + z_{lo}\\frac{\\sigma}{\\sqrt{n}} - \\mu_0 - \\delta}{\\frac{\\sigma}{\\sqrt{n}}}\\right)$$<br>\n",
    "    $$\\beta = 1 - P\\left( Z \\le \\frac{z_{lo}\\frac{\\sigma}{\\sqrt{n}} - \\delta}{\\frac{\\sigma}{\\sqrt{n}}}\\right)$$<br>\n",
    "    $$\\beta = 1 - P\\left( Z \\le z_{lo} - \\frac{\\delta}{\\frac{\\sigma}{\\sqrt{n}}}\\right)$$<br>\n",
    "    $$\\beta = 1 - P\\left( Z \\le z_{lo} - \\frac{\\delta\\sqrt{n}}{\\sigma}\\right)$$<br>\n",
    "    $$\\beta - 1= - P\\left( Z \\le z_{lo} - \\frac{\\delta\\sqrt{n}}{\\sigma}\\right)$$<br>\n",
    "    $$1 - \\beta = P\\left( Z \\le z_{lo} - \\frac{\\delta\\sqrt{n}}{\\sigma}\\right)$$<br>\n",
    "    $$\\mathrm{ppf}\\left(1 - \\beta\\right) = z_{lo} - \\frac{\\delta\\sqrt{n}}{\\sigma}$$<br>\n",
    "    $$\\mathrm{ppf}\\left(1 - \\beta\\right) - z_{lo}= - \\frac{\\delta\\sqrt{n}}{\\sigma}$$<br>\n",
    "    $$z_{lo} - \\mathrm{ppf}\\left(1 - \\beta\\right) = \\frac{\\delta\\sqrt{n}}{\\sigma}$$<br>\n",
    "    $$\\sigma \\left(z_{lo} - \\mathrm{ppf}\\left(1 - \\beta\\right)\\right) = \\delta\\sqrt{n}$$<br>\n",
    "    $$\\delta\\sqrt{n} = \\sigma \\left(z_{lo} - \\mathrm{ppf}\\left(1 - \\beta\\right)\\right)$$<br>\n",
    "    $$\\sqrt{n} = \\frac{\\sigma \\left(z_{lo} - \\mathrm{ppf}\\left(1 - \\beta\\right)\\right)}{\\delta}$$<br>\n",
    "    $$n = \\left(\\frac{\\sigma \\left(\\mathrm{ppf}\\left(\\alpha\\right) - \\mathrm{ppf}\\left(1 - \\beta\\right)\\right)}{\\delta}\\right)^2$$\n",
    "</font><br>"
   ]
  },
  {
   "cell_type": "markdown",
   "metadata": {
    "jp-MarkdownHeadingCollapsed": true
   },
   "source": [
    "#### For One-Sided Upper-bound Hypothesis Tests"
   ]
  },
  {
   "cell_type": "markdown",
   "metadata": {
    "jp-MarkdownHeadingCollapsed": true
   },
   "source": [
    "<font size=\"4\">\n",
    "    $$\\beta = P\\left( \\overline{X} \\le x_{hi}\\right)$$<br>\n",
    "    $$\\beta = P\\left( Z \\le \\frac{x_{hi}-\\mu_a}{\\frac{\\sigma}{\\sqrt{n}}}\\right)$$<br>\n",
    "    $$\\beta = P\\left( Z \\le \\frac{\\mu_0 + z_{hi}\\frac{\\sigma}{\\sqrt{n}} - \\mu_a}{\\frac{\\sigma}{\\sqrt{n}}}\\right)$$<br>\n",
    "    $$\\beta = P\\left( Z \\le \\frac{\\mu_0 + z_{hi}\\frac{\\sigma}{\\sqrt{n}} - \\mu_0 - \\delta}{\\frac{\\sigma}{\\sqrt{n}}}\\right)$$<br>\n",
    "    $$\\beta = P\\left( Z \\le \\frac{z_{hi}\\frac{\\sigma}{\\sqrt{n}} - \\delta}{\\frac{\\sigma}{\\sqrt{n}}}\\right)$$<br>\n",
    "    $$\\beta = P\\left( Z \\le z_{hi} - \\frac{\\delta}{\\frac{\\sigma}{\\sqrt{n}}}\\right)$$<br>\n",
    "    $$\\beta = P\\left( Z \\le z_{hi} - \\frac{\\delta\\sqrt{n}}{\\sigma}\\right)$$<br>\n",
    "    $$\\mathrm{ppf}\\left(\\beta\\right) = z_{hi} - \\frac{\\delta\\sqrt{n}}{\\sigma}$$<br>\n",
    "    $$\\mathrm{ppf}\\left(\\beta \\right) - z_{hi} = - \\frac{\\delta\\sqrt{n}}{\\sigma}$$<br>\n",
    "    $$z_{hi} - \\mathrm{ppf}\\left(\\beta \\right) = \\frac{\\delta\\sqrt{n}}{\\sigma}$$<br>\n",
    "    $$\\sigma\\left(z_{hi} - \\mathrm{ppf}\\left(\\beta \\right)\\right) = \\delta\\sqrt{n}$$<br>\n",
    "    $$\\sqrt{n} = \\frac{\\sigma\\left(z_{hi} - \\mathrm{ppf}\\left(\\beta \\right)\\right)}{\\delta}$$<br>\n",
    "    $$n = \\left( \\frac{\\sigma\\left(\\mathrm{ppf}\\left(1 - \\alpha\\right) - \\mathrm{ppf}\\left(\\beta \\right)\\right)}{\\delta} \\right)^2$$\n",
    "</font><br>"
   ]
  },
  {
   "cell_type": "markdown",
   "metadata": {},
   "source": [
    "#### For Two-Sided Hypothesis Tests on the Proportion of a Population"
   ]
  },
  {
   "cell_type": "markdown",
   "metadata": {},
   "source": [
    "Recall that the sampling distribution used to approximate the binomial distribution is the normal distribution with mean $np$ and standard deviation $\\sqrt{np\\left(1-p\\right)}$. Instead of assuming a $\\delta$, we simply assume that the suspectedly true value for the population proportion is $p_a$.\n",
    "\n",
    "For $\\mu_a > \\mu_0 \\rightarrow np_a > np_0$:\n",
    "<font size=\"4\">\n",
    "    $$\\beta = P\\left( x_{lo} \\le \\overline{X} \\le x_{hi}\\right)$$<br>\n",
    "    $$\\beta = P\\left(\\overline{X} \\le x_{hi} \\right) - P\\left(\\overline{X} \\le x_{lo} \\right)$$<br>\n",
    "    $$P\\left(\\overline{X} \\le x_{lo} \\right) \\approx 0$$<br>\n",
    "    $$\\beta \\approx P\\left(\\overline{X} \\le x_{hi} \\right)$$<br>\n",
    "    $$\\beta \\approx P\\left(Z \\le \\frac{x_{hi} - np_a}{\\sqrt{np_a\\left(1 - p_a\\right)}} \\right)$$<br>\n",
    "    $$\\beta \\approx P\\left(Z \\le \\frac{np_0 + z_{hi}\\sqrt{np_0\\left(1 - p_0\\right)} - np_a}{\\sqrt{np_a\\left(1 - p_a\\right)}} \\right)$$<br>\n",
    "    $$\\mathrm{ppf}\\left(\\beta\\right) \\approx \\frac{np_0 + z_{hi}\\sqrt{np_0\\left(1 - p_0\\right)} - np_a}{\\sqrt{np_a\\left(1 - p_a\\right)}}$$<br>\n",
    "    $$\\mathrm{ppf}\\left(\\beta\\right) \\sqrt{np_a\\left(1 - p_a\\right)} \\approx np_0 + z_{hi}\\sqrt{np_0\\left(1 - p_0\\right)} - np_a$$<br>\n",
    "    $$\\mathrm{ppf}\\left(\\beta\\right) \\sqrt{np_a\\left(1 - p_a\\right)} - z_{hi}\\sqrt{np_0\\left(1 - p_0\\right)} \\approx n\\left(p_0 - p_a\\right)$$<br>\n",
    "    $$\\sqrt{n}\\left(\\mathrm{ppf}\\left(\\beta\\right) \\sqrt{p_a\\left(1 - p_a\\right)} - z_{hi}\\sqrt{p_0\\left(1 - p_0\\right)} \\right) \\approx n\\left(p_0 - p_a\\right)$$<br>\n",
    "    $$\\frac{\\sqrt{n}}{n}\\left(\\mathrm{ppf}\\left(\\beta\\right) \\sqrt{p_a\\left(1 - p_a\\right)} - z_{hi}\\sqrt{p_0\\left(1 - p_0\\right)} \\right) \\approx \\left(p_0 - p_a\\right)$$<br>\n",
    "    $$\\frac{1}{\\sqrt{n}}\\left(\\mathrm{ppf}\\left(\\beta\\right) \\sqrt{p_a\\left(1 - p_a\\right)} - z_{hi}\\sqrt{p_0\\left(1 - p_0\\right)} \\right) \\approx \\left(p_0 - p_a\\right)$$<br>\n",
    "    $$\\frac{1}{\\sqrt{n}} \\approx \\frac{\\left(p_0 - p_a\\right)}{\\left(\\mathrm{ppf}\\left(\\beta\\right) \\sqrt{p_a\\left(1 - p_a\\right)} - z_{hi}\\sqrt{p_0\\left(1 - p_0\\right)} \\right)}$$<br>\n",
    "    $$\\sqrt{n} \\approx \\frac{\\left(\\mathrm{ppf}\\left(\\beta\\right) \\sqrt{p_a\\left(1 - p_a\\right)} - z_{hi}\\sqrt{p_0\\left(1 - p_0\\right)} \\right)}{\\left(p_0 - p_a\\right)}$$<br>\n",
    "    $$n \\approx \\left(\\frac{\\left(\\mathrm{ppf}\\left(\\beta\\right) \\sqrt{p_a\\left(1 - p_a\\right)} - z_{hi}\\sqrt{p_0\\left(1 - p_0\\right)} \\right)}{\\left(p_0 - p_a\\right)}\\right)^2$$<br>\n",
    "    $$n \\approx \\left(\\frac{\\left(\\mathrm{ppf}\\left(\\beta\\right) \\sqrt{p_a\\left(1 - p_a\\right)} - \\mathrm{ppf}\\left(1 - \\frac{\\alpha}{2}\\right)\\sqrt{p_0\\left(1 - p_0\\right)} \\right)}{\\left(p_0 - p_a\\right)}\\right)^2$$<br>\n",
    "</font>"
   ]
  },
  {
   "cell_type": "markdown",
   "metadata": {},
   "source": [
    "For $\\mu_a < \\mu_0 \\rightarrow np_a < np_0$:\n",
    "<font size=\"4\">\n",
    "    $$\\beta = P\\left( x_{lo} \\le \\overline{X} \\le x_{hi}\\right)$$<br>\n",
    "    $$\\beta = P\\left(\\overline{X} \\ge x_{lo} \\right) - P(\\left(\\overline{X} \\ge x_{hi}\\right)$$<br>\n",
    "    $$P(\\left(\\overline{X} \\ge x_{hi}\\right) \\approx 0$$<br>\n",
    "    $$\\beta \\approx P\\left(\\overline{X} \\ge x_{lo} \\right)$$<br>\n",
    "    $$\\beta \\approx 1 - P\\left(\\overline{X} \\le x_{lo} \\right)$$<br>\n",
    "    $$\\beta \\approx 1 - P\\left(Z \\le \\frac{x_{lo} - np_a}{\\sqrt{np_a\\left(1 - p_a\\right)}} \\right)$$<br>\n",
    "    $$\\beta \\approx 1 - P\\left(Z \\le \\frac{np_0 + z_{lo}\\sqrt{np_0\\left(1 - p_0\\right)} - np_a}{\\sqrt{np_a\\left(1 - p_a\\right)}} \\right)$$<br>\n",
    "    $$\\beta - 1 \\approx - P\\left(Z \\le \\frac{np_0 + z_{lo}\\sqrt{np_0\\left(1 - p_0\\right)} - np_a}{\\sqrt{np_a\\left(1 - p_a\\right)}} \\right)$$<br>\n",
    "    $$1 - \\beta \\approx P\\left(Z \\le \\frac{np_0 + z_{lo}\\sqrt{np_0\\left(1 - p_0\\right)} - np_a}{\\sqrt{np_a\\left(1 - p_a\\right)}} \\right)$$<br>\n",
    "    $$\\mathrm{ppf}\\left(1 - \\beta\\right) \\approx \\frac{np_0 + z_{lo}\\sqrt{np_0\\left(1 - p_0\\right)} - np_a}{\\sqrt{np_a\\left(1 - p_a\\right)}}$$<br>\n",
    "    $$\\mathrm{ppf}\\left(1 - \\beta\\right) \\sqrt{np_a\\left(1 - p_a\\right)} \\approx np_0 + z_{lo}\\sqrt{np_0\\left(1 - p_0\\right)} - np_a$$<br>\n",
    "    $$\\mathrm{ppf}\\left(1 - \\beta\\right) \\sqrt{np_a\\left(1 - p_a\\right)} - z_{lo}\\sqrt{np_0\\left(1 - p_0\\right)} \\approx n\\left(p_0 - p_a\\right)$$<br>\n",
    "    $$\\sqrt{n}\\left(\\mathrm{ppf}\\left(1 - \\beta\\right) \\sqrt{p_a\\left(1 - p_a\\right)} - z_{lo}\\sqrt{p_0\\left(1 - p_0\\right)} \\right) \\approx n\\left(p_0 - p_a\\right)$$<br>\n",
    "    $$\\frac{\\sqrt{n}}{n}\\left(\\mathrm{ppf}\\left(1 - \\beta\\right) \\sqrt{p_a\\left(1 - p_a\\right)} - z_{lo}\\sqrt{p_0\\left(1 - p_0\\right)} \\right) \\approx \\left(p_0 - p_a\\right)$$<br>\n",
    "    $$\\frac{1}{\\sqrt{n}} \\approx \\frac{\\left(p_0 - p_a\\right)}{\\mathrm{ppf}\\left(1 - \\beta\\right) \\sqrt{p_a\\left(1 - p_a\\right)} - z_{lo}\\sqrt{p_0\\left(1 - p_0\\right)}}$$<br>\n",
    "    $$\\sqrt{n} \\approx \\frac{\\mathrm{ppf}\\left(1 - \\beta\\right) \\sqrt{p_a\\left(1 - p_a\\right)} - z_{lo}\\sqrt{p_0\\left(1 - p_0\\right)}}{\\left(p_0 - p_a\\right)}$$<br>\n",
    "    $$n \\approx \\left(\\frac{\\mathrm{ppf}\\left(1 - \\beta\\right) \\sqrt{p_a\\left(1 - p_a\\right)} - z_{lo}\\sqrt{p_0\\left(1 - p_0\\right)}}{\\left(p_0 - p_a\\right)}\\right)^2$$<br>\n",
    "    $$n \\approx \\left(\\frac{\\mathrm{ppf}\\left(1 - \\beta\\right) \\sqrt{p_a\\left(1 - p_a\\right)} - \\mathrm{ppf}\\left(\\frac{\\alpha}{2}\\right)\\sqrt{p_0\\left(1 - p_0\\right)}}{\\left(p_0 - p_a\\right)}\\right)^2$$<br>\n",
    "</font>"
   ]
  },
  {
   "cell_type": "markdown",
   "metadata": {},
   "source": [
    "#### For One-Sided Lower-Bound Hypothesis Tests on the Proportion of a Population"
   ]
  },
  {
   "cell_type": "markdown",
   "metadata": {},
   "source": [
    "The derivation is exactly the same as for the approximation of a two-sided hypothesis test where $np_a < np_0$. So:<br><br>\n",
    "<font size=\"4\">\n",
    "    $$n = \\left(\\frac{\\mathrm{ppf}\\left(1 - \\beta\\right) \\sqrt{p_a\\left(1 - p_a\\right)} - \\mathrm{ppf}\\left(\\alpha\\right)\\sqrt{p_0\\left(1 - p_0\\right)}}{\\left(p_0 - p_a\\right)}\\right)^2$$<br>\n",
    "</font><br>\n",
    "\n",
    "Where:\n",
    "<ul>\n",
    "    <li>$\\beta$ is the chosen probability of Type 2 Errors</li><br>\n",
    "    <li>$p_a$ is the suspectedly true population proportion</li><br>\n",
    "    <li>$p_0$ is null value for the population proportion</li><br>\n",
    "    <li>$\\alpha$ is the chosen significance level</li><br>\n",
    "</ul>"
   ]
  },
  {
   "cell_type": "markdown",
   "metadata": {},
   "source": [
    "#### For One-Sided Upper-Bound Hypothesis Tests on the Proportion of a Population"
   ]
  },
  {
   "cell_type": "markdown",
   "metadata": {},
   "source": [
    "The derivation is exactly the same as for the approximation of a two-sided hypothesis test where $np_a < np_0$. So:<br><br>\n",
    "<font size=\"4\">\n",
    "    $$n \\approx \\left(\\frac{\\left(\\mathrm{ppf}\\left(\\beta\\right) \\sqrt{p_a\\left(1 - p_a\\right)} - \\mathrm{ppf}\\left(1 - \\alpha\\right)\\sqrt{p_0\\left(1 - p_0\\right)} \\right)}{\\left(p_0 - p_a\\right)}\\right)^2$$<br>\n",
    "</font><br>\n",
    "\n",
    "Where:\n",
    "<ul>\n",
    "    <li>$\\beta$ is the chosen probability of Type 2 Errors</li><br>\n",
    "    <li>$p_a$ is the suspectedly true population proportion</li><br>\n",
    "    <li>$p_0$ is null value for the population proportion</li><br>\n",
    "    <li>$\\alpha$ is the chosen significance level</li><br>\n",
    "</ul>"
   ]
  },
  {
   "cell_type": "markdown",
   "metadata": {},
   "source": [
    "# Power"
   ]
  },
  {
   "cell_type": "markdown",
   "metadata": {},
   "source": [
    "The <b>power</b> of a statistical test is the probabilitiy of correctly rejecting the null hypothesis $H_0$ when the alternative hypothesis $H_1$ is true. In other words, this is the probability of <b>not committing a Type 2 Error</b>. It is calculated as:<br><br>\n",
    "<font size=\"4\">\n",
    "    $$\\mathrm{Power} = 1 - \\beta$$\n",
    "</font>\n",
    "\n",
    "In terms of the sampling distributions centered at $\\mu_0$ and $\\mu_a$ when discussing Type 2 Error, Power is the probability represented by the area of the sampling distribution centered at $\\mu_a$ that does not overlap with the acceptance region of the sampling distribution centered at $\\mu_0$.\n",
    "\n",
    "Note again that Power is relative to some assumed-to-be-true value of the population parameter $(\\mu_a)$."
   ]
  },
  {
   "cell_type": "markdown",
   "metadata": {},
   "source": [
    "# P-values"
   ]
  },
  {
   "cell_type": "markdown",
   "metadata": {},
   "source": [
    "P-values are an alternative way of reporting the results of a hypothesis test. Instead of defining a rejection region and an acceptance region, we ask, \"What is the smallest value of the significance level $\\alpha$ that would lead us to reject the null hypothesis $H_0$?\" The answer to this question is simply finding the significance level represented by the sample mean. To find this value:\n",
    "<ul>\n",
    "    <li>If the observed sample mean $\\overline{x}$ is greater than the null value $\\mu_0$, compute the probability of observing sample means that are at least as large. Then double this probability to account for the other symmetric tail of the t-distribution:</li><br>\n",
    "    <font size=\"4\">\n",
    "        \\begin{align}\n",
    "        p = 2P(X \\ge \\overline{x})\n",
    "        \\end{align}\n",
    "    </font><br>\n",
    "    <li>If the observed sample mean $\\overline{x}$ is less than the null value $\\mu_0$, compute the probability of observing sample means that are at most the value of the observed sample mean $\\overline{x}$. Then double this probability to account for the other symmetric tail of the t-distribution:</li><br>\n",
    "    <font size=\"4\">\n",
    "        \\begin{align}\n",
    "        p = 2P(X \\le \\overline{x})\n",
    "        \\end{align}\n",
    "    </font><br>\n",
    "    <li>If the alternative hypothesis is $H_1: \\mu > \\mu_0$, then find the probability of observing of observing sample means greater than the observed sample mean $\\overline{x}$:</li><br>\n",
    "    <font size=\"4\">\n",
    "        \\begin{align}\n",
    "        p = P(X \\ge \\overline{x})\n",
    "        \\end{align}\n",
    "    </font><br>\n",
    "    <li>If the alternative hypothesis is $H_1: \\mu < \\mu_0$, then find the probability of observing of observing sample means less than the observed sample mean $\\overline{x}$:</li><br>\n",
    "    <font size=\"4\">\n",
    "        \\begin{align}\n",
    "        p = P(X \\le \\overline{x})\n",
    "        \\end{align}\n",
    "    </font><br>\n",
    "</ul>\n",
    "\n",
    "Once the p-value $p$ is computed, deciding on whether to reject the null hypothesis is easy. If the $p < \\alpha$, we reject the null hypothesis $H_0$ in favor of the alternative hypothesis $H_1$ if $p<\\alpha$. Because of the way the $p$ is computed, $p<\\alpha$ always corresponds to the observed sample mean $\\overline{x}$ being in the critical region."
   ]
  }
 ],
 "metadata": {
  "kernelspec": {
   "display_name": "Python 3 (ipykernel)",
   "language": "python",
   "name": "python3"
  },
  "language_info": {
   "codemirror_mode": {
    "name": "ipython",
    "version": 3
   },
   "file_extension": ".py",
   "mimetype": "text/x-python",
   "name": "python",
   "nbconvert_exporter": "python",
   "pygments_lexer": "ipython3",
   "version": "3.12.3"
  }
 },
 "nbformat": 4,
 "nbformat_minor": 4
}
