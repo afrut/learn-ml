{
 "cells": [
  {
   "cell_type": "markdown",
   "id": "0ee68b56-de65-40f9-a829-a33b68b11442",
   "metadata": {},
   "source": [
    "# TODO\n",
    "\n",
    "- Goodfellow, Deep learning, Chapter 2, Linear Algebra\n",
    "  - $x^{T}Ax$ as it relates to definiteness (positive, semi-positive, etc)\n",
    "  - Singular Value Decomposition (SVD)\n",
    "  - Moore-Penrose Pseudoinverse\n",
    "  - Vectors and projection\n",
    "  - Trace operator\n",
    "  - [principal component analysis and dimension reduction](https://www.youtube.com/watch?v=HMOI_lkzW08&t=27s&pp=ygUdcHJpbmNpcGFsIGNvbXBvbmVudHMgYW5hbHlzaXM%3D)\n",
    "- Goodfellow, Deep learning, Chapter 3, Probability and Information Theory\n",
    "- Goodfellow, Deep learning, Chapter 4, Numerical Methods\n",
    "- Goodfellow, Deep learning, Chapter 5, Machine Learning Basics\n",
    "- Statistics\n",
    "  - covariance matrix\n",
    "  - graphical models/structured probabilistic models and probability distribution factorizations\n",
    "  - condition number\n",
    "- Information Theory\n",
    "  - information theory Cover and Thomas (2006) or MacKay (2003)\n",
    "  - entropy and distributions\n",
    "- Vector calculus\n",
    "  - Gradient\n",
    "  - Jacobian\n"
   ]
  },
  {
   "cell_type": "markdown",
   "id": "6ae068bb-58e8-4d19-80ad-d153a33644bd",
   "metadata": {},
   "source": [
    "# Resources"
   ]
  },
  {
   "cell_type": "markdown",
   "id": "e99bff16-48db-4f1d-a664-54ddbbdee66d",
   "metadata": {},
   "source": [
    "- [Montgomery, Applied Statistics and Probability for Engineers 7ed](https://www.wiley.com/en-us/Applied+Statistics+and+Probability+for+Engineers%2C+7th+Edition-p-9781119400363)\n",
    "- [Goodfellow, Deep Learning](https://www.deeplearningbook.org/)\n",
    "- [John Krohn's Youtube Channel](https://www.youtube.com/@JonKrohnLearns/videos)\n",
    "  - [Probability for Machine Learning](https://www.youtube.com/playlist?list=PLRDl2inPrWQWwJ1mh4tCUxlLfZ76C1zge) \n",
    "  - [Calculus for Machine Learning](https://www.youtube.com/playlist?list=PLRDl2inPrWQVu2OvnTvtkRpJ-wz-URMJx)\n",
    "  - [Linear Algebra for Machine Learning](https://www.youtube.com/playlist?list=PLRDl2inPrWQW1QSWhBU0ki-jq_uElkh2a)\n",
    "  - [Github](https://github.com/jonkrohn/ML-foundations)\n",
    "- [Principal Component Analysis](https://www.youtube.com/watch?v=HMOI_lkzW08&t=27s&pp=ygUdcHJpbmNpcGFsIGNvbXBvbmVudHMgYW5hbHlzaXM%3D)\n",
    "- [ritvikmath Data Science Concepts](https://www.youtube.com/playlist?list=PLvcbYUQ5t0UH2MS_B6maLNJhK0jNyPJUY)\n",
    "- [oninestatbook](https://onlinestatbook.com)\n",
    "- [PennState Stat415](https://online.stat.psu.edu/stat415/)\n",
    "- [Kaggle Courses](https://www.kaggle.com/search?q=+in%3Acourses)"
   ]
  },
  {
   "cell_type": "markdown",
   "id": "93979984",
   "metadata": {},
   "source": [
    "# Miscellaneous"
   ]
  },
  {
   "cell_type": "markdown",
   "id": "a6b59971",
   "metadata": {},
   "source": [
    "- Preprocessing\n",
    "- Feature Engineering\n",
    "  - Dimensionality Reduction\n",
    "  - PCA\n",
    "- Overfitting vs Underfitting\n",
    "- Different Types of ML Models\n",
    "  - Decision Trees\n",
    "  - Random Forest\n",
    "  - XGBoost\n",
    "  - LightGBM\n",
    "- Ensemble Methods\n",
    "- Gradient Boosting\n",
    "- Misc\n",
    "  - Kaggle Deep Learning Free GPU Access\n",
    "  - Google Colab\n",
    "- sklearn\n",
    "  - sklearn.metrics.mean_absolute_error"
   ]
  }
 ],
 "metadata": {
  "kernelspec": {
   "display_name": "Python 3 (ipykernel)",
   "language": "python",
   "name": "python3"
  },
  "language_info": {
   "codemirror_mode": {
    "name": "ipython",
    "version": 3
   },
   "file_extension": ".py",
   "mimetype": "text/x-python",
   "name": "python",
   "nbconvert_exporter": "python",
   "pygments_lexer": "ipython3",
   "version": "3.12.3"
  }
 },
 "nbformat": 4,
 "nbformat_minor": 5
}
