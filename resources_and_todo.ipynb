{
 "cells": [
  {
   "cell_type": "markdown",
   "id": "0ee68b56-de65-40f9-a829-a33b68b11442",
   "metadata": {},
   "source": [
    "# TODO\n",
    "$x^{T}Ax$ as it relates to definiteness (positive, semi-positive, etc)\n",
    "\n",
    "Singular Value Decomposition (SVD)\n",
    "\n",
    "Vectors and projection\n",
    "\n",
    "https://www.youtube.com/@JonKrohnLearns/videos\n",
    "\n",
    "https://github.com/jonkrohn/ML-foundations\n",
    "\n",
    "principal component analysis and dimension reduction (https://www.youtube.com/watch?v=HMOI_lkzW08&t=27s&pp=ygUdcHJpbmNpcGFsIGNvbXBvbmVudHMgYW5hbHlzaXM%3D)\n",
    "\n",
    "https://www.youtube.com/playlist?list=PLvcbYUQ5t0UH2MS_B6maLNJhK0jNyPJUY\n",
    "\n",
    "covariance matrix\n",
    "\n",
    "information theory Cover and Thomas (2006) or MacKay (2003)\n",
    "\n",
    "entropy and distributions\n",
    "\n",
    "graphical models/structured probabilistic models and probability distribution factorizations\n",
    "\n",
    "condition number\n",
    "\n",
    "vector calculus\n",
    "\n",
    "condition number\n",
    "\n",
    "Deep learning book Chapter 4, numerical methods\n",
    "\n",
    "Deep learning book Chapter 5, machine learning basics"
   ]
  },
  {
   "cell_type": "markdown",
   "id": "6ae068bb-58e8-4d19-80ad-d153a33644bd",
   "metadata": {},
   "source": [
    "# Resources"
   ]
  },
  {
   "cell_type": "markdown",
   "id": "e99bff16-48db-4f1d-a664-54ddbbdee66d",
   "metadata": {},
   "source": [
    "https://www.deeplearningbook.org/"
   ]
  }
 ],
 "metadata": {
  "kernelspec": {
   "display_name": "Python 3 (ipykernel)",
   "language": "python",
   "name": "python3"
  },
  "language_info": {
   "codemirror_mode": {
    "name": "ipython",
    "version": 3
   },
   "file_extension": ".py",
   "mimetype": "text/x-python",
   "name": "python",
   "nbconvert_exporter": "python",
   "pygments_lexer": "ipython3",
   "version": "3.12.3"
  }
 },
 "nbformat": 4,
 "nbformat_minor": 5
}
