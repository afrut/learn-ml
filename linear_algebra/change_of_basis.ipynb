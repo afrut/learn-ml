{
 "cells": [
  {
   "cell_type": "markdown",
   "id": "13d1542d-904f-4dbd-a60d-26a16bb829fe",
   "metadata": {},
   "source": [
    "# Standard Unit Basis"
   ]
  },
  {
   "cell_type": "markdown",
   "id": "90080869-2667-4169-bbf7-3c99b6233907",
   "metadata": {},
   "source": [
    "A vector $x = \\begin{bmatrix} 3 \\\\ 2 \\end{bmatrix}$ can be visualized as a point on the 2D plane. This point is 3 units along the positive x-axis (right) and 2 units along the positive y-axis (up).\n",
    "\n",
    "In other words, implicitly, the basis vectors for $x = \\begin{bmatrix} 3 \\\\ 2 \\end{bmatrix}$ are\n",
    "\\begin{align}\n",
    "    \\hat{i} &= \\begin{bmatrix} 1 \\\\ 0 \\end{bmatrix} \\\\\n",
    "    \\hat{j} &= \\begin{bmatrix} 0 \\\\ 1 \\end{bmatrix}\n",
    "\\end{align}\n",
    "\n",
    "Here, $\\hat{i}$ and $\\hat{j}$ are called the **standard unit vectors** because they are used implicitly and by default. **unit** because both vectors have magnitudes 1."
   ]
  },
  {
   "cell_type": "markdown",
   "id": "49d8415c-a67b-44c5-8620-a596c67c59d4",
   "metadata": {},
   "source": [
    "To denote a basis of the standard unit vectors, we write\n",
    "$$\n",
    "    B = \\left\\{ \\hat{i}, \\hat{j} \\right\\} = \\left\\{ \\begin{bmatrix} 1 \\\\ 0 \\end{bmatrix}, \\begin{bmatrix} 0 \\\\ 1 \\end{bmatrix} \\right\\}\n",
    "$$\n",
    "\n",
    "$B$ is the **standard unit basis** in $\\mathbb{R}^{2}$.\n",
    "\n",
    "We write $ x = \\begin{bmatrix} 3 \\\\ 2 \\end{bmatrix}_{B} $ to explicitly indicate the basis of the vector $x = \\begin{bmatrix} 3 \\\\ 2 \\end{bmatrix}$ as using the basis vectors $B$, but this is usually omitted for brevity."
   ]
  },
  {
   "cell_type": "markdown",
   "id": "3da14add-792a-4c64-82c4-e6c50f774f21",
   "metadata": {},
   "source": [
    "# Matrix Dot Product as a Change of Basis"
   ]
  },
  {
   "cell_type": "markdown",
   "id": "0fc5600c-9c5d-4396-9ca9-8ca3a81b1521",
   "metadata": {},
   "source": [
    "$x = \\begin{bmatrix} 3 \\\\ 2 \\end{bmatrix}$ can really be expanded to\n",
    "\\begin{align}\n",
    "    x &= \\begin{bmatrix} 3 \\\\ 2 \\end{bmatrix}\n",
    "        = 3 \\hat{i} + 2 \\hat{j}\n",
    "        = 3 \\begin{bmatrix} 1 \\\\ 0 \\end{bmatrix} + 2 \\begin{bmatrix} 0 \\\\ 1 \\end{bmatrix}\n",
    "        = \\begin{bmatrix} 3 \\\\ 0 \\end{bmatrix} + \\begin{bmatrix} 0 \\\\ 2 \\end{bmatrix}\n",
    "\\end{align}\n",
    "\n",
    "The expansion can be written in terms of the matrix dot product. We can construct a matrix $A$ whose columns are the basis vectors.\n",
    "\n",
    "\\begin{align}\n",
    "    A &= \\begin{bmatrix} 1 & 0 \\\\ 0 & 1 \\end{bmatrix} \\\\\n",
    "    x &= \\begin{bmatrix} 3 \\\\ 2 \\end{bmatrix}\n",
    "        = Ax = \\begin{bmatrix} 1 & 0 \\\\ 0 & 1 \\end{bmatrix} \\begin{bmatrix} 3 \\\\ 2 \\end{bmatrix}\n",
    "        = 3 \\begin{bmatrix} 1 \\\\ 0 \\end{bmatrix} + 2 \\begin{bmatrix} 0 \\\\ 1 \\end{bmatrix}\n",
    "\\end{align}\n",
    "\n",
    "This shows that the dot product of a matrix $A$ and a vector $x$ can be interpreted as changing the basis of vector $x$ to use the columns of $A$ as basis vectors."
   ]
  },
  {
   "cell_type": "markdown",
   "id": "a777f7a1-24c2-4ae2-bd2f-964bb82ecd5b",
   "metadata": {},
   "source": [
    "How does this work in practice with a basis other than the standard unit basis $B$? Suppose we have the following arbitrary basis vectors:\n",
    "$$ C = \\left\\{\n",
    "        \\hat{i} = \\begin{bmatrix} 3 \\\\ 1 \\end{bmatrix}, \n",
    "        \\hat{j} = \\begin{bmatrix} 2 \\\\ 0 \\end{bmatrix} \\right\\} $$\n",
    "\n",
    "Now, we can take the vector $x$ and change its basis to $C$:\n",
    "\\begin{align}\n",
    "    x_{C} &= \\begin{bmatrix} 3 \\\\ 2 \\end{bmatrix}_{C}\n",
    "        = \\begin{bmatrix} 3 & 2 \\\\ 1 & 0 \\end{bmatrix}x\n",
    "        = \\begin{bmatrix} 3 & 2 \\\\ 1 & 0 \\end{bmatrix} \\begin{bmatrix} 3 \\\\ 2 \\end{bmatrix}\n",
    "        = 3 \\begin{bmatrix} 3 \\\\ 1 \\end{bmatrix} + 2 \\begin{bmatrix} 2 \\\\ 0 \\end{bmatrix}\n",
    "        = \\begin{bmatrix} 13 \\\\ 3 \\end{bmatrix}\n",
    "        = \\begin{bmatrix} 13 \\\\ 3 \\end{bmatrix}_{B} \\\\\n",
    "    x_{C} &= \\begin{bmatrix} 3 \\\\ 2 \\end{bmatrix}_{C}\n",
    "        = \\begin{bmatrix} 13 \\\\ 3 \\end{bmatrix}_{B}\n",
    "\\end{align}"
   ]
  },
  {
   "cell_type": "markdown",
   "id": "b497d436-f626-485d-b184-427db9c1ab21",
   "metadata": {},
   "source": [
    "# Inverse as a Change of Basis"
   ]
  },
  {
   "cell_type": "markdown",
   "id": "43cf5ad9-7d3c-408b-a52b-f5aa36c05b3c",
   "metadata": {},
   "source": [
    "So far, we have started with a vector $x$ and computed $x_{C}$ for an arbitrary basis $C$. Suppose that we were only given the following and asked, what is $x$?\n",
    "\n",
    "\\begin{align}\n",
    "    C &= \\left\\{\n",
    "        \\hat{i} = \\begin{bmatrix} 3 \\\\ 1 \\end{bmatrix}, \n",
    "        \\hat{j} = \\begin{bmatrix} 2 \\\\ 0 \\end{bmatrix} \\right\\} \\\\\n",
    "    x_{C} &= \\begin{bmatrix} 13 \\\\ 3 \\end{bmatrix}_{B}\n",
    "\\end{align}\n",
    "\n",
    "Since we know\n",
    "\\begin{align}\n",
    "    x_{C} &= Ax = \\begin{bmatrix} \\hat{i} & \\hat{j} \\end{bmatrix}x = \\begin{bmatrix} 3 & 2 \\\\ 1 & 0 \\end{bmatrix}x \\\\\n",
    "    x_{C} &= \\begin{bmatrix} 3 & 2 \\\\ 1 & 0 \\end{bmatrix}x \\\\\n",
    "    x &= \\begin{bmatrix} 3 & 2 \\\\ 1 & 0 \\end{bmatrix}^{-1}x_{C} \\\\\n",
    "    x &= \\begin{bmatrix} 3 & 2 \\\\ 1 & 0 \\end{bmatrix}^{-1}\\begin{bmatrix} 13 \\\\ 3 \\end{bmatrix}\n",
    "        = \\begin{bmatrix} 3 \\\\ 2 \\end{bmatrix} \\\\\n",
    "    x &= \\begin{bmatrix} 0 & 1 \\\\ \\frac{1}{2} & -\\frac{3}{2} \\end{bmatrix} \\begin{bmatrix} 13 \\\\ 3 \\end{bmatrix} \\\\\n",
    "        &= 13 \\begin{bmatrix} 0 \\\\ \\frac{1}{2} \\end{bmatrix} + 3 \\begin{bmatrix} 1 \\\\ -\\frac{3}{2} \\end{bmatrix} \\\\\n",
    "        &= \\begin{bmatrix} \\left(13\\right) \\left(0\\right) + \\left(3\\right)\\left(1\\right) \\\\\n",
    "            \\left(13\\right) \\left(\\frac{1}{2}\\right) - \\left(3\\right) \\left(\\frac{3}{2}\\right) \\end{bmatrix}\n",
    "            = \\begin{bmatrix} 3 \\\\ \\frac{13}{2} - \\frac{9}{2} \\end{bmatrix}\n",
    "            = \\begin{bmatrix} 3 \\\\ \\frac{4}{2} \\end{bmatrix} \\\\\n",
    "    x &= \\begin{bmatrix} 3 \\\\ 2 \\end{bmatrix} \\\\\n",
    "    x_{C} &= \\begin{bmatrix} 3 \\\\ 2 \\end{bmatrix}_{C}\n",
    "\\end{align}"
   ]
  },
  {
   "cell_type": "code",
   "execution_count": 5,
   "id": "b7dba00a-a8c3-4148-874b-0a87db3150d3",
   "metadata": {},
   "outputs": [
    {
     "name": "stdout",
     "output_type": "stream",
     "text": [
      "[[13]\n",
      " [ 3]]\n",
      "[[ 0.   1. ]\n",
      " [ 0.5 -1.5]]\n",
      "[[3.]\n",
      " [2.]]\n"
     ]
    }
   ],
   "source": [
    "import numpy as np\n",
    "\n",
    "x = np.array([13\n",
    "             , 3])[:, np.newaxis]\n",
    "A = np.array([[3, 2]\n",
    "            , [1, 0]])\n",
    "Ainv = np.linalg.inv(A)\n",
    "print(x)\n",
    "print(Ainv)\n",
    "print(Ainv.dot(x))"
   ]
  },
  {
   "cell_type": "markdown",
   "id": "7632a302-2bb6-45ac-a137-d38e8301a71e",
   "metadata": {},
   "source": [
    "The above shows that given a matrix $A$, the dot product of its inverse $A^{-1}$ and a vector $x$ gives the coordinates of $x$ if the columns of $A$ were used as the basis vectors.\n",
    "\n",
    "Why is knowing about a change of basis useful? It is useful in understanding patterns with decompositions; eigendecomposition in particular."
   ]
  },
  {
   "cell_type": "markdown",
   "id": "29db6dac-ec46-4b31-976f-918c76e18345",
   "metadata": {},
   "source": [
    "# Notable Resources\n",
    "https://www.youtube.com/watch?v=P2LTAUO1TdA"
   ]
  }
 ],
 "metadata": {
  "kernelspec": {
   "display_name": "Python 3 (ipykernel)",
   "language": "python",
   "name": "python3"
  },
  "language_info": {
   "codemirror_mode": {
    "name": "ipython",
    "version": 3
   },
   "file_extension": ".py",
   "mimetype": "text/x-python",
   "name": "python",
   "nbconvert_exporter": "python",
   "pygments_lexer": "ipython3",
   "version": "3.12.3"
  }
 },
 "nbformat": 4,
 "nbformat_minor": 5
}
