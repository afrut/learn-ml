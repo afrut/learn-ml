{
 "cells": [
  {
   "cell_type": "markdown",
   "id": "264d3fed-3edb-4a6e-b8e1-84b37e5e63c7",
   "metadata": {
    "jp-MarkdownHeadingCollapsed": true
   },
   "source": [
    "# Motivation"
   ]
  },
  {
   "cell_type": "markdown",
   "id": "432c2ea4-6faa-441a-833e-56b7d10de0fb",
   "metadata": {},
   "source": [
    "Why is knowing about a change of basis useful? It is useful in understanding patterns with decompositions; eigendecomposition in particular."
   ]
  },
  {
   "cell_type": "markdown",
   "id": "13d1542d-904f-4dbd-a60d-26a16bb829fe",
   "metadata": {
    "jp-MarkdownHeadingCollapsed": true
   },
   "source": [
    "# Standard Unit Basis"
   ]
  },
  {
   "cell_type": "markdown",
   "id": "90080869-2667-4169-bbf7-3c99b6233907",
   "metadata": {},
   "source": [
    "A vector $x = \\begin{bmatrix} 3 \\\\ 2 \\end{bmatrix}$ can be visualized as a point on the 2D plane. This point is 3 units along the positive x-axis (right) and 2 units along the positive y-axis (up).\n",
    "\n",
    "In other words, implicitly, the basis vectors for $x = \\begin{bmatrix} 3 \\\\ 2 \\end{bmatrix}$ are\n",
    "\\begin{align}\n",
    "    \\hat{i} &= \\begin{bmatrix} 1 \\\\ 0 \\end{bmatrix} \\\\\n",
    "    \\hat{j} &= \\begin{bmatrix} 0 \\\\ 1 \\end{bmatrix}\n",
    "\\end{align}\n",
    "\n",
    "Here, $\\hat{i}$ and $\\hat{j}$ are called the **standard unit vectors** because they are used implicitly and by default. **unit** because both vectors have magnitudes 1."
   ]
  },
  {
   "cell_type": "markdown",
   "id": "49d8415c-a67b-44c5-8620-a596c67c59d4",
   "metadata": {},
   "source": [
    "To denote a basis of the standard unit vectors, we write\n",
    "$$\n",
    "    B = \\left\\{ \\hat{i}, \\hat{j} \\right\\} = \\left\\{ \\begin{bmatrix} 1 \\\\ 0 \\end{bmatrix}, \\begin{bmatrix} 0 \\\\ 1 \\end{bmatrix} \\right\\}\n",
    "$$\n",
    "\n",
    "$B$ is the **standard unit basis** in $\\mathbb{R}^{2}$.\n",
    "\n",
    "We write $ x = \\begin{bmatrix} 3 \\\\ 2 \\end{bmatrix}_{B} $ to explicitly indicate the basis of the vector $x = \\begin{bmatrix} 3 \\\\ 2 \\end{bmatrix}$ as using the basis vectors $B$, but this is usually omitted for brevity."
   ]
  },
  {
   "cell_type": "markdown",
   "id": "3da14add-792a-4c64-82c4-e6c50f774f21",
   "metadata": {
    "jp-MarkdownHeadingCollapsed": true
   },
   "source": [
    "# Dot Product as a Change of Basis"
   ]
  },
  {
   "cell_type": "markdown",
   "id": "0fc5600c-9c5d-4396-9ca9-8ca3a81b1521",
   "metadata": {},
   "source": [
    "$x = \\begin{bmatrix} 3 \\\\ 2 \\end{bmatrix}$ can really be expanded to\n",
    "\\begin{align}\n",
    "    x &= \\begin{bmatrix} 3 \\\\ 2 \\end{bmatrix}\n",
    "        = 3 \\hat{i} + 2 \\hat{j}\n",
    "        = 3 \\begin{bmatrix} 1 \\\\ 0 \\end{bmatrix} + 2 \\begin{bmatrix} 0 \\\\ 1 \\end{bmatrix}\n",
    "        = \\begin{bmatrix} 3 \\\\ 0 \\end{bmatrix} + \\begin{bmatrix} 0 \\\\ 2 \\end{bmatrix}\n",
    "\\end{align}\n",
    "\n",
    "The expansion can be written in terms of the matrix dot product. We can construct a matrix $A$ whose columns are the basis vectors.\n",
    "\n",
    "\\begin{align}\n",
    "    A &= \\begin{bmatrix} 1 & 0 \\\\ 0 & 1 \\end{bmatrix} \\\\\n",
    "    x &= \\begin{bmatrix} 3 \\\\ 2 \\end{bmatrix}\n",
    "        = Ax = \\begin{bmatrix} 1 & 0 \\\\ 0 & 1 \\end{bmatrix} \\begin{bmatrix} 3 \\\\ 2 \\end{bmatrix}\n",
    "        = 3 \\begin{bmatrix} 1 \\\\ 0 \\end{bmatrix} + 2 \\begin{bmatrix} 0 \\\\ 1 \\end{bmatrix}\n",
    "\\end{align}\n",
    "\n",
    "This shows that the dot product of a matrix $A$ and a vector $x$ can be interpreted as changing the basis of vector $x$ to use the columns of $A$ as basis vectors."
   ]
  },
  {
   "cell_type": "markdown",
   "id": "a777f7a1-24c2-4ae2-bd2f-964bb82ecd5b",
   "metadata": {},
   "source": [
    "How does this work in practice with a basis other than the standard unit basis $B$? Suppose we have the following arbitrary basis vectors:\n",
    "$$ C = \\left\\{\n",
    "        \\hat{i} = \\begin{bmatrix} 3 \\\\ 1 \\end{bmatrix}, \n",
    "        \\hat{j} = \\begin{bmatrix} 2 \\\\ 0 \\end{bmatrix} \\right\\} $$\n",
    "\n",
    "Now, we can take the vector $x$ and change its basis to $C$:\n",
    "\\begin{align}\n",
    "    x_{C} &= \\begin{bmatrix} 3 \\\\ 2 \\end{bmatrix}_{C}\n",
    "        = \\begin{bmatrix} 3 & 2 \\\\ 1 & 0 \\end{bmatrix}x\n",
    "        = \\begin{bmatrix} 3 & 2 \\\\ 1 & 0 \\end{bmatrix} \\begin{bmatrix} 3 \\\\ 2 \\end{bmatrix}\n",
    "        = 3 \\begin{bmatrix} 3 \\\\ 1 \\end{bmatrix} + 2 \\begin{bmatrix} 2 \\\\ 0 \\end{bmatrix}\n",
    "        = \\begin{bmatrix} 13 \\\\ 3 \\end{bmatrix}\n",
    "        = \\begin{bmatrix} 13 \\\\ 3 \\end{bmatrix}_{B} \\\\\n",
    "    x_{C} &= \\begin{bmatrix} 3 \\\\ 2 \\end{bmatrix}_{C}\n",
    "        = \\begin{bmatrix} 13 \\\\ 3 \\end{bmatrix}_{B}\n",
    "\\end{align}"
   ]
  },
  {
   "cell_type": "markdown",
   "id": "b497d436-f626-485d-b184-427db9c1ab21",
   "metadata": {
    "jp-MarkdownHeadingCollapsed": true
   },
   "source": [
    "# Inverse as a Change of Basis"
   ]
  },
  {
   "cell_type": "markdown",
   "id": "43cf5ad9-7d3c-408b-a52b-f5aa36c05b3c",
   "metadata": {},
   "source": [
    "So far, we have started with a vector $x$ and computed $x_{C}$ for an arbitrary basis $C$. Suppose that we were only given the following and asked, what is $x$?\n",
    "\n",
    "\\begin{align}\n",
    "    C &= \\left\\{\n",
    "        \\hat{i} = \\begin{bmatrix} 3 \\\\ 1 \\end{bmatrix}, \n",
    "        \\hat{j} = \\begin{bmatrix} 2 \\\\ 0 \\end{bmatrix} \\right\\} \\\\\n",
    "    x_{C} &= \\begin{bmatrix} 13 \\\\ 3 \\end{bmatrix}_{B}\n",
    "\\end{align}\n",
    "\n",
    "Since we know\n",
    "\\begin{align}\n",
    "    x_{C} &= Ax = \\begin{bmatrix} \\hat{i} & \\hat{j} \\end{bmatrix}x = \\begin{bmatrix} 3 & 2 \\\\ 1 & 0 \\end{bmatrix}x \\\\\n",
    "    x_{C} &= \\begin{bmatrix} 3 & 2 \\\\ 1 & 0 \\end{bmatrix}x \\\\\n",
    "    x &= \\begin{bmatrix} 3 & 2 \\\\ 1 & 0 \\end{bmatrix}^{-1}x_{C} \\\\\n",
    "    x &= \\begin{bmatrix} 3 & 2 \\\\ 1 & 0 \\end{bmatrix}^{-1}\\begin{bmatrix} 13 \\\\ 3 \\end{bmatrix}\n",
    "        = \\begin{bmatrix} 3 \\\\ 2 \\end{bmatrix} \\\\\n",
    "    x &= \\begin{bmatrix} 0 & 1 \\\\ \\frac{1}{2} & -\\frac{3}{2} \\end{bmatrix} \\begin{bmatrix} 13 \\\\ 3 \\end{bmatrix} \\\\\n",
    "        &= 13 \\begin{bmatrix} 0 \\\\ \\frac{1}{2} \\end{bmatrix} + 3 \\begin{bmatrix} 1 \\\\ -\\frac{3}{2} \\end{bmatrix} \\\\\n",
    "        &= \\begin{bmatrix} \\left(13\\right) \\left(0\\right) + \\left(3\\right)\\left(1\\right) \\\\\n",
    "            \\left(13\\right) \\left(\\frac{1}{2}\\right) - \\left(3\\right) \\left(\\frac{3}{2}\\right) \\end{bmatrix}\n",
    "            = \\begin{bmatrix} 3 \\\\ \\frac{13}{2} - \\frac{9}{2} \\end{bmatrix}\n",
    "            = \\begin{bmatrix} 3 \\\\ \\frac{4}{2} \\end{bmatrix} \\\\\n",
    "    x &= \\begin{bmatrix} 3 \\\\ 2 \\end{bmatrix} \\\\\n",
    "    x_{C} &= \\begin{bmatrix} 3 \\\\ 2 \\end{bmatrix}_{C}\n",
    "\\end{align}"
   ]
  },
  {
   "cell_type": "code",
   "execution_count": 7,
   "id": "b7dba00a-a8c3-4148-874b-0a87db3150d3",
   "metadata": {
    "collapsed": true,
    "jupyter": {
     "outputs_hidden": true,
     "source_hidden": true
    }
   },
   "outputs": [
    {
     "name": "stdout",
     "output_type": "stream",
     "text": [
      "[[13]\n",
      " [ 3]]\n",
      "[[ 0.   1. ]\n",
      " [ 0.5 -1.5]]\n",
      "[[3.]\n",
      " [2.]]\n"
     ]
    }
   ],
   "source": [
    "import numpy as np\n",
    "\n",
    "x = np.array([13\n",
    "             , 3])[:, np.newaxis]\n",
    "A = np.array([[3, 2]\n",
    "            , [1, 0]])\n",
    "Ainv = np.linalg.inv(A)\n",
    "print(x)\n",
    "print(Ainv)\n",
    "print(Ainv.dot(x))"
   ]
  },
  {
   "cell_type": "markdown",
   "id": "7632a302-2bb6-45ac-a137-d38e8301a71e",
   "metadata": {},
   "source": [
    "The above shows that given a matrix $A$, the dot product of its inverse $A^{-1}$ and a vector $x_{B}$ using the standard unit basis gives the coordinates of $x_{C}$ if the columns of $A$ were used as the basis vectors:\n",
    "$$ x_{C} = A^{-1}x_{B} $$\n",
    "\n",
    "In the above example,\n",
    "$$ \\begin{bmatrix} 3 \\\\ 2 \\end{bmatrix}_{C} \n",
    "    = \\begin{bmatrix} 0 & 1 \\\\ \\frac{1}{2} & -\\frac{3}{2} \\end{bmatrix}\n",
    "        \\begin{bmatrix} 13 \\\\ 3 \\end{bmatrix}_{B} $$\n",
    "\n",
    "In other words, the dot product using the inverse of a matrix results in the coordinates of the same vector but using the new basis vectors."
   ]
  },
  {
   "cell_type": "markdown",
   "id": "b33043c3-aa14-4b1b-9c57-c93535ba5e45",
   "metadata": {
    "jp-MarkdownHeadingCollapsed": true
   },
   "source": [
    "# Changing Basis of Linear Transformations"
   ]
  },
  {
   "cell_type": "markdown",
   "id": "5e673f1a-bb35-4a02-99e4-0cc765f892b6",
   "metadata": {},
   "source": [
    "So far, we have discussed changing the basis of a vector $x$. Suppose we have the transformation that rotates any vector by $90 \\degree$:\n",
    "\n",
    "$$ A = \\begin{bmatrix} 0 & -1 \\\\ 1 &0 \\end{bmatrix} $$\n",
    "\n",
    "Further suppose we have a vector $x_{C} = \\begin{bmatrix} 3 \\\\ 2 \\end{bmatrix}_{C}$, and we want to rotate it by $90 \\degree$. Mathematically, we want to compute $b_{C}$ given a vector $x_{C}$ whose coordinates are using the basis $C$:\n",
    "$$ A_{C}x_{C} = b_{C} $$\n",
    "\n",
    "The task is now to find $A_{C}$, which begs the question - how do we express a linear transformation in the coordinates of the basis $C$?"
   ]
  },
  {
   "cell_type": "markdown",
   "id": "0c4394ab-e758-4cb1-a3a6-c3f514c8c3d8",
   "metadata": {},
   "source": [
    "To do so, we try to compute $b_{C}$ in the following manner:\n",
    "- Compute the vector $x_{B}$ corresponding to $x_{C}$ by changing basis.\n",
    "- Then take the product with matrix $A$ to perform the linear transformation that is a $90 \\degree$ rotation.\n",
    "- Finally, take the dot product with the inverse to reveal the coordinates of the same linear transformation, but using the new basis vectors."
   ]
  },
  {
   "cell_type": "markdown",
   "id": "81843bd5-6a43-47ae-abb2-c68ce9ac9bdd",
   "metadata": {},
   "source": [
    "Let us first define\n",
    "$$ C = \\begin{bmatrix} 3 & 2 \\\\ 1 & 0 \\end{bmatrix} $$\n",
    "as the change of basis matrix."
   ]
  },
  {
   "cell_type": "markdown",
   "id": "b796f434-2120-4c6f-acbc-ebe83f37c8ca",
   "metadata": {},
   "source": [
    "Then we compute the corresponding $x_{B}$ by changing basis\n",
    "$$ x_{C}\n",
    "    = Cx\n",
    "    = \\begin{bmatrix} 3 & 2 \\\\ 1 & 0 \\end{bmatrix}\n",
    "        \\begin{bmatrix} 3 \\\\ 2 \\end{bmatrix}\n",
    "    = x_{B}$$"
   ]
  },
  {
   "cell_type": "markdown",
   "id": "c13739cf-892a-4280-8f80-51ae61618691",
   "metadata": {},
   "source": [
    "Then perform the transformation $A$ on $x_{B}$\n",
    "$$ Ax_{C}\n",
    "    = ACx\n",
    "    = \\begin{bmatrix} 0 & -1 \\\\ 1 &0 \\end{bmatrix}\n",
    "        \\begin{bmatrix} 3 & 2 \\\\ 1 & 0 \\end{bmatrix}\n",
    "        \\begin{bmatrix} 3 \\\\ 2 \\end{bmatrix}\n",
    "    = Ax_{B} $$"
   ]
  },
  {
   "cell_type": "markdown",
   "id": "3199f3b4-7467-4b7f-8f4c-54e816f329e6",
   "metadata": {},
   "source": [
    "Then use the inverse $C^{-1}$ to compute the coordinates if the basis of $C$ were used to express $x_{B}$.\n",
    "\\begin{align}\n",
    "    C^{-1}Ax_{C}\n",
    "        &= C^{-1}ACx\n",
    "        = \\begin{bmatrix} 3 & 2 \\\\ 1 & 0 \\end{bmatrix}^{-1}\n",
    "            \\begin{bmatrix} 0 & -1 \\\\ 1 & 0 \\end{bmatrix}\n",
    "            \\begin{bmatrix} 3 & 2 \\\\ 1 & 0 \\end{bmatrix}\n",
    "            \\begin{bmatrix} 3 \\\\ 2 \\end{bmatrix}\n",
    "        = C^{-1}Ax_{B} \\\\\n",
    "        &= b_{C}\n",
    "\\end{align}\n",
    "\n",
    "We can use Python to crunch the numbers."
   ]
  },
  {
   "cell_type": "code",
   "execution_count": 31,
   "id": "082d7b13-19c5-4b71-a419-1d3d65a30f83",
   "metadata": {
    "collapsed": true,
    "jupyter": {
     "outputs_hidden": true,
     "source_hidden": true
    }
   },
   "outputs": [
    {
     "name": "stdout",
     "output_type": "stream",
     "text": [
      "Cx =\n",
      "[[13]\n",
      " [ 3]]\n",
      "ACx =\n",
      "[[-3]\n",
      " [13]]\n",
      "CinvACx =\n",
      "[[ 13.]\n",
      " [-21.]]\n"
     ]
    }
   ],
   "source": [
    "import numpy as np\n",
    "\n",
    "# The vector whose coordinates are in C\n",
    "x = np.array([3\n",
    "             ,2])[:, np.newaxis]\n",
    "\n",
    "# The change of basis matrix\n",
    "C = np.array([[3, 2],\n",
    "              [1, 0]])\n",
    "\n",
    "# The transformation matrix\n",
    "A = np.array([[0, -1],\n",
    "              [1,  0]])\n",
    "\n",
    "# The inverse of the change of basis matrix\n",
    "Cinv = np.linalg.inv(C)\n",
    "\n",
    "print(f\"Cx =\\n{np.linalg.multi_dot([C, x])}\")\n",
    "print(f\"ACx =\\n{np.linalg.multi_dot([A, C, x])}\")\n",
    "print(f\"CinvACx =\\n{np.linalg.multi_dot([Cinv, A, C, x])}\")"
   ]
  },
  {
   "cell_type": "markdown",
   "id": "067fad8f-727d-486d-aece-f73dd14a42cf",
   "metadata": {},
   "source": [
    "From the above, we see that\n",
    "$$ b_{C} = \\begin{bmatrix} 13 \\\\ -21 \\end{bmatrix} $$\n",
    "\n",
    "The important pattern to note here is the expression\n",
    "$$ C^{-1}ACx $$\n",
    "\n",
    "We then define $A_{C}$\n",
    "$$ A_{C} = C^{-1}AC $$\n",
    "\n",
    "Intuitively, $A_{C}$ will take the coordinates of the vector $x_{C}$ change its basis to the standard unit basis $B$, apply the transformation $A$, then express the result in coordinates that use $C$.\n",
    "\n",
    "Python can again be used to compute $A_{C}$."
   ]
  },
  {
   "cell_type": "code",
   "execution_count": 33,
   "id": "b5b10a0f-dbd9-48e9-8e8b-c9f782c242f0",
   "metadata": {
    "collapsed": true,
    "jupyter": {
     "outputs_hidden": true,
     "source_hidden": true
    }
   },
   "outputs": [
    {
     "name": "stdout",
     "output_type": "stream",
     "text": [
      "A_C =\n",
      "[[ 3.  2.]\n",
      " [-5. -3.]]\n"
     ]
    }
   ],
   "source": [
    "# The transformation matrix in basis C\n",
    "A_C = np.linalg.multi_dot([Cinv, A, C])\n",
    "print(f\"A_C =\\n{np.linalg.multi_dot([Cinv, A, C])}\")"
   ]
  },
  {
   "cell_type": "markdown",
   "id": "7a5d3d75-4cd5-4f0d-93d4-d10d57e83ac5",
   "metadata": {},
   "source": [
    "To conclude, we now express the $90 \\degree$ rotation in basis $C$ as follows.\n",
    "\\begin{align}\n",
    "    A_{C}x_{C} &= b_{C} \\\\\n",
    "    \\begin{bmatrix} 3 & 2 \\\\ -5 & -3 \\end{bmatrix}\n",
    "        \\begin{bmatrix} 3 \\\\ 2 \\end{bmatrix} &=\n",
    "        3 \\begin{bmatrix} 3 \\\\ -5 \\end{bmatrix} + 2 \\begin{bmatrix} 2 \\\\ -3 \\end{bmatrix} =\n",
    "        \\begin{bmatrix} 13 \\\\ -21 \\end{bmatrix}\n",
    "\\end{align}\n",
    "\n",
    "We confirm the results of this operation by a simple dot product using Python below."
   ]
  },
  {
   "cell_type": "code",
   "execution_count": 34,
   "id": "ea2ce9c6-26c8-4e34-876d-fd64d4995a62",
   "metadata": {
    "collapsed": true,
    "jupyter": {
     "outputs_hidden": true,
     "source_hidden": true
    }
   },
   "outputs": [
    {
     "name": "stdout",
     "output_type": "stream",
     "text": [
      "A_C . x_C = b_C =\n",
      "[[ 13.]\n",
      " [-21.]]\n"
     ]
    }
   ],
   "source": [
    "# The vector in basis C\n",
    "x_C = np.array([3\n",
    "               ,2])[:, np.newaxis]\n",
    "print(f\"A_C . x_C = b_C =\\n{np.linalg.multi_dot([A_C, x_C])}\")"
   ]
  },
  {
   "cell_type": "markdown",
   "id": "9de99033-9835-4ca6-8ea5-390abe0d78c6",
   "metadata": {},
   "source": [
    "In summary, to express a linear transformation $A$ in coordinates using basis $C$, compute\n",
    "$$ A_{C} = C^{-1}AC $$"
   ]
  },
  {
   "cell_type": "markdown",
   "id": "29db6dac-ec46-4b31-976f-918c76e18345",
   "metadata": {},
   "source": [
    "# Notable Resources\n",
    "https://www.youtube.com/watch?v=P2LTAUO1TdA"
   ]
  }
 ],
 "metadata": {
  "kernelspec": {
   "display_name": "Python 3 (ipykernel)",
   "language": "python",
   "name": "python3"
  },
  "language_info": {
   "codemirror_mode": {
    "name": "ipython",
    "version": 3
   },
   "file_extension": ".py",
   "mimetype": "text/x-python",
   "name": "python",
   "nbconvert_exporter": "python",
   "pygments_lexer": "ipython3",
   "version": "3.12.3"
  }
 },
 "nbformat": 4,
 "nbformat_minor": 5
}
