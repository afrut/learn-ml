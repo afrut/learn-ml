{
 "cells": [
  {
   "cell_type": "markdown",
   "id": "d8c69a3b-b892-4948-8b10-d8cd55815b18",
   "metadata": {},
   "source": [
    "A system of linear equations can be written as follows:\n",
    "\\begin{align}\n",
    "    A &\\in \\mathbb{R} ^ {m \\times n} \\\\\n",
    "    x, b &\\in \\mathbb{R} ^ {m} \\\\\n",
    "    Ax &= b \\\\\n",
    "    \\begin{bmatrix}\n",
    "        A_{1, 1} & A_{1, 2} & A_{1, 3} & \\ldots & A_{1, j} \\\\\n",
    "        A_{2, 1} & A_{2, 2} & A_{2, 3} & \\ldots & A_{2, j} \\\\\n",
    "        A_{3, 1} & A_{3, 2} & A_{3, 3} & \\ldots & A_{3, j} \\\\\n",
    "        \\vdots & \\vdots & \\vdots & \\vdots & \\vdots \\\\\n",
    "        A_{i, 1} & A_{i, 2} & A_{i, 3} & \\ldots & A_{i, j}\n",
    "    \\end{bmatrix}\n",
    "    \\begin{bmatrix}\n",
    "        x_{1} \\\\\n",
    "        x_{2} \\\\\n",
    "        x_{3} \\\\\n",
    "        \\vdots \\\\\n",
    "        x_{n}\n",
    "    \\end{bmatrix} &=\n",
    "    \\begin{bmatrix}\n",
    "        b_{1} \\\\\n",
    "        b_{2} \\\\\n",
    "        b_{3} \\\\\n",
    "        \\vdots \\\\\n",
    "        b_{n}\n",
    "    \\end{bmatrix}\n",
    "\\end{align}"
   ]
  },
  {
   "cell_type": "markdown",
   "id": "9457f9bf-a96b-4531-9c74-998699cbf892",
   "metadata": {},
   "source": [
    "Expanding the matrix equation yields the following system of $m$ linear equations in $n$ unknowns:\n",
    "\n",
    "\\begin{align}\n",
    "    A_{1,1}x_{1} + A_{1,2}x_{2} + A_{1,3}x_{3} + \\ldots + A_{1,n}x_{n} &= b_{1} \\\\\n",
    "    A_{2,1}x_{1} + A_{2,2}x_{2} + A_{2,3}x_{3} + \\ldots + A_{2,n}x_{n} &= b_{2} \\\\\n",
    "    A_{3,1}x_{2} + A_{3,2}x_{2} + A_{3,3}x_{3} + \\ldots + A_{3,n}x_{n} &= b_{3}\n",
    "\\end{align}"
   ]
  },
  {
   "cell_type": "markdown",
   "id": "1f568761-5105-4d50-8ef2-63ea95b1489a",
   "metadata": {},
   "source": [
    "The system can be solved by inverting $A$:\n",
    "\n",
    "\\begin{align}\n",
    "    A^{-1}Ax &= A^{-1}b \\\\\n",
    "    I_{n}x &= A^{-1}b \\\\\n",
    "    x &= A^{-1}b\n",
    "\\end{align}\n",
    "\n",
    "For $A^{-1}$ to exist, $A$ must be square and its columns must be linearly independent. These conditions guarantee exactly 1 solution to the system of linear equations.\n",
    "\n",
    "The system can be **overspecified** when $m > n$, that is $A$ has more rows that columns. In this case, the system has more equations than unknowns and it is possible for it to have no solutions.\n",
    "\n",
    "An **underspecified** system is when $A$ has more columns than rows; $m < n$. In this case, the system has more unknowns than equations and it can have an infinite number of solutions.\n",
    "\n",
    "A system of lienar equations cannot have more than one, but less than an infinite number of solutions."
   ]
  }
 ],
 "metadata": {
  "kernelspec": {
   "display_name": "Python 3 (ipykernel)",
   "language": "python",
   "name": "python3"
  },
  "language_info": {
   "codemirror_mode": {
    "name": "ipython",
    "version": 3
   },
   "file_extension": ".py",
   "mimetype": "text/x-python",
   "name": "python",
   "nbconvert_exporter": "python",
   "pygments_lexer": "ipython3",
   "version": "3.12.3"
  }
 },
 "nbformat": 4,
 "nbformat_minor": 5
}
