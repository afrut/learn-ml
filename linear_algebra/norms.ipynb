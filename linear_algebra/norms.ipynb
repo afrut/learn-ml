{
 "cells": [
  {
   "cell_type": "markdown",
   "id": "dbb0487e-5cd5-4d08-9125-b8759b8c4081",
   "metadata": {},
   "source": [
    "# Introduction\n",
    "The $L^p$ norm of a vector $x$, $\\lVert x \\rVert_{p}$ maps the vector $x$ to a non-negative number. It measures the \"size\" or scale of a vector.\n",
    "\\begin{align}\n",
    "    p &\\in \\mathbb{R}, p \\ge 1 \\\\\n",
    "    \\lVert x \\rVert_{p} &= \\left( \\sum_{i} \\left| x \\right|^{p} \\right)^{\\frac{1}{p}}\n",
    "\\end{align}"
   ]
  },
  {
   "cell_type": "markdown",
   "id": "28dccdbc-c453-4de6-b061-e52b4c1119a8",
   "metadata": {},
   "source": [
    "# L0\n",
    "\n",
    "This norm represents the count of non-zero elements. Not a true norm since it does not scale when the vector is scaled by a constant. Usually substituted by $L^{1}$."
   ]
  },
  {
   "cell_type": "markdown",
   "id": "5ff94677-898f-4e83-8c86-b1b4de0310aa",
   "metadata": {},
   "source": [
    "# L1\n",
    "\n",
    "This norm is simply the sum of the absolute values of every element of a vector.\n",
    "$$ L^{1} = \\sum_{i} \\left| x_{i} \\right| $$\n",
    "\n",
    "It is commonly used when the values of the vector are close to 0, especially between 0 and 1, since it grows faster than $L^2$ in this range."
   ]
  },
  {
   "cell_type": "markdown",
   "id": "d84e2ea3-9540-4bc9-96ec-e1d237f058a2",
   "metadata": {},
   "source": [
    "# L2\n",
    "\n",
    "This norm is the square root of the sum of squares of every element in the vector.\n",
    "$$ L^{2} = \\lVert x \\rVert_{2} = \\sqrt{x^{T}x} = \\sqrt{\\sum_{i} x_{i}^{2} }$$\n",
    "\n",
    "It is usually represented with $\\lVert x \\rVert$ and simply called \"norm\" since it is so commonly used. The squared $L^2$ norm $\\lVert x \\rVert^{2}$ is commonly used because its derivative with respect to each element depends only on that element."
   ]
  },
  {
   "cell_type": "markdown",
   "id": "4b9d4e90-adf6-4b3a-9b97-1b5e8be20ec0",
   "metadata": {},
   "source": [
    "# L infty\n",
    "\n",
    "This norm is the element with the largest absolute value.\n",
    "$$ L^{\\infty} = \\max_{i} \\left| x_{i} \\right| $$"
   ]
  },
  {
   "cell_type": "markdown",
   "id": "d3945080-d53b-4a9e-8193-8fe90e704dd4",
   "metadata": {},
   "source": [
    "# Frobenius Norm\n",
    "\n",
    "This norm is for a matrix. It gives a sense of the size or \"how big\" a matrix is. The Frobenius norm of a matrix A is the square root of the sum of squares of every element of $A$. It maps a matrix to a non-negative number.\n",
    "\n",
    "$$ \\left\\Vert A \\right\\Vert_{F} = \\sqrt{\\sum_{i,j}A_{i,j}^{2}} $$"
   ]
  }
 ],
 "metadata": {
  "kernelspec": {
   "display_name": "Python 3 (ipykernel)",
   "language": "python",
   "name": "python3"
  },
  "language_info": {
   "codemirror_mode": {
    "name": "ipython",
    "version": 3
   },
   "file_extension": ".py",
   "mimetype": "text/x-python",
   "name": "python",
   "nbconvert_exporter": "python",
   "pygments_lexer": "ipython3",
   "version": "3.12.3"
  }
 },
 "nbformat": 4,
 "nbformat_minor": 5
}
